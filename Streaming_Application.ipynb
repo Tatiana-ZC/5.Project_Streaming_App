{
 "cells": [
  {
   "cell_type": "markdown",
   "metadata": {},
   "source": [
    "# Streaming Application"
   ]
  },
  {
   "cell_type": "markdown",
   "metadata": {},
   "source": [
    "## 1. Business Understanding"
   ]
  },
  {
   "cell_type": "markdown",
   "metadata": {},
   "source": [
    "### Introduction"
   ]
  },
  {
   "cell_type": "markdown",
   "metadata": {},
   "source": [
    "Streaming app viewership data represents a collection of information related to how users interact with a streaming application. This data provides insights into user behaviour, content consumption, and the overall performance of the streaming service."
   ]
  },
  {
   "cell_type": "markdown",
   "metadata": {},
   "source": [
    "### Context"
   ]
  },
  {
   "cell_type": "markdown",
   "metadata": {},
   "source": [
    "In order to fully understand the topic, let's get some context with the following articles:\n",
    "- [*Behind the Stream*](https://www.adweek.com/resource-library/whats-shaping-todays-movie-and-tv-streaming-viewer-behavior/) from the Harris Poll on behalf of [Tubi](https://gdpr.tubi.tv/).\\\n",
    "    This reports recovers data from 2,503 adults within the United States aged 18+ that stream video at least 1 hour a week. \n",
    "- [Powerful Streaming Statistics to Know in 2024](https://learn.g2.com/streaming-statistics) from Learn Hub by G2.\n",
    "- [Top Streaming Statistics In 2024](https://www.forbes.com/home-improvement/internet/streaming-stats/) by Forbes Home\n",
    "- [Streaming Costs Increasing Over the Last Year](https://www.forbes.com/home-improvement/internet/streaming-survey/) by Forbes Home\n",
    "- [The Revolution in Streaming Services](https://www.linkedin.com/pulse/revolution-streaming-services-how-consumer-behaviour-shaping-jain/) by @Castler | LinkedIn"
   ]
  },
  {
   "cell_type": "markdown",
   "metadata": {},
   "source": [
    "## 2. Data Mining"
   ]
  },
  {
   "cell_type": "markdown",
   "metadata": {},
   "source": [
    "#### Data source"
   ]
  },
  {
   "cell_type": "markdown",
   "metadata": {},
   "source": [
    "[Streaming Application is a dataset from Kaggle](https://www.kaggle.com/datasets/rajatkumar30/streaming-application-viewership) "
   ]
  },
  {
   "cell_type": "markdown",
   "metadata": {},
   "source": [
    "#### Metadata"
   ]
  },
  {
   "cell_type": "markdown",
   "metadata": {},
   "source": [
    "- **User_ID:** A unique identifier for the user.\n",
    "- **Session_ID:** A unique identifier for the user's session.\n",
    "- **Device_ID:** An identifier for the user's device.\n",
    "- **Video_ID:** An identifier for the video content being viewed.\n",
    "- **Duration_Watched (minutes):** The amount of time (in minutes) the user spent watching the video.\n",
    "- **Genre:** The genre of the video content (e.g., Action, Comedy, Drama, etc.).\n",
    "- **Country:** The country where the interaction event took place.\n",
    "- **Age:** The age of the user.\n",
    "- **Gender:** The gender of the user (e.g., Male, Female).\n",
    "- **Subscription_Status:** The user's subscription status (e.g., Free, Premium).\n",
    "- **Ratings:** The user's rating or feedback for the content (typically on a scale from 1 to 5).\n",
    "- **Languages:** The language of the content being viewed.\n",
    "- **Device_Type:** The type of device used by the user (e.g., Smartphone, Tablet, etc.).\n",
    "- **Location:** The location or city where the interaction event occurred.\n",
    "- **Playback_Quality:** The quality of video playback (e.g., HD, SD, 4K).\n",
    "- **Interaction_Events:** The count of interaction events that occurred during the user's session (e.g., clicks, likes, shares, etc.)."
   ]
  },
  {
   "cell_type": "markdown",
   "metadata": {},
   "source": [
    "#### Libraries"
   ]
  },
  {
   "cell_type": "code",
   "execution_count": 933,
   "metadata": {},
   "outputs": [],
   "source": [
    "import pandas as pd\n",
    "import numpy as np\n",
    "\n",
    "import time\n",
    "import datetime\n",
    "from scipy import stats\n",
    "\n",
    "import matplotlib.pyplot as plt\n",
    "import seaborn as sns\n",
    "import plotly.express as px\n",
    "\n",
    "import warnings\n",
    "warnings.filterwarnings('ignore')\n",
    "pd.set_option('display.max_columns', None)\n",
    "import pycountry"
   ]
  },
  {
   "cell_type": "markdown",
   "metadata": {},
   "source": [
    "#### Load the data"
   ]
  },
  {
   "cell_type": "code",
   "execution_count": 934,
   "metadata": {},
   "outputs": [
    {
     "name": "stdout",
     "output_type": "stream",
     "text": [
      "<class 'pandas.core.frame.DataFrame'>\n",
      "RangeIndex: 6214 entries, 0 to 6213\n",
      "Data columns (total 16 columns):\n",
      " #   Column                      Non-Null Count  Dtype  \n",
      "---  ------                      --------------  -----  \n",
      " 0   User_ID                     6214 non-null   object \n",
      " 1   Session_ID                  6214 non-null   object \n",
      " 2   Device_ID                   6214 non-null   int64  \n",
      " 3   Video_ID                    6214 non-null   int64  \n",
      " 4   Duration_Watched (minutes)  6214 non-null   float64\n",
      " 5   Genre                       6214 non-null   object \n",
      " 6   Country                     6214 non-null   object \n",
      " 7   Age                         6214 non-null   int64  \n",
      " 8   Gender                      6214 non-null   object \n",
      " 9   Subscription_Status         6214 non-null   object \n",
      " 10  Ratings                     6214 non-null   int64  \n",
      " 11  Languages                   6214 non-null   object \n",
      " 12  Device_Type                 6214 non-null   object \n",
      " 13  Location                    6214 non-null   object \n",
      " 14  Playback_Quality            6214 non-null   object \n",
      " 15  Interaction_Events          6214 non-null   int64  \n",
      "dtypes: float64(1), int64(5), object(10)\n",
      "memory usage: 776.9+ KB\n"
     ]
    }
   ],
   "source": [
    "streaming = pd.read_csv('datasets\\streaming_viewership_data.csv')\n",
    "streaming.info()"
   ]
  },
  {
   "cell_type": "code",
   "execution_count": 935,
   "metadata": {},
   "outputs": [
    {
     "data": {
      "text/html": [
       "<div>\n",
       "<style scoped>\n",
       "    .dataframe tbody tr th:only-of-type {\n",
       "        vertical-align: middle;\n",
       "    }\n",
       "\n",
       "    .dataframe tbody tr th {\n",
       "        vertical-align: top;\n",
       "    }\n",
       "\n",
       "    .dataframe thead th {\n",
       "        text-align: right;\n",
       "    }\n",
       "</style>\n",
       "<table border=\"1\" class=\"dataframe\">\n",
       "  <thead>\n",
       "    <tr style=\"text-align: right;\">\n",
       "      <th></th>\n",
       "      <th>User_ID</th>\n",
       "      <th>Session_ID</th>\n",
       "      <th>Device_ID</th>\n",
       "      <th>Video_ID</th>\n",
       "      <th>Duration_Watched (minutes)</th>\n",
       "      <th>Genre</th>\n",
       "      <th>Country</th>\n",
       "      <th>Age</th>\n",
       "      <th>Gender</th>\n",
       "      <th>Subscription_Status</th>\n",
       "      <th>Ratings</th>\n",
       "      <th>Languages</th>\n",
       "      <th>Device_Type</th>\n",
       "      <th>Location</th>\n",
       "      <th>Playback_Quality</th>\n",
       "      <th>Interaction_Events</th>\n",
       "    </tr>\n",
       "  </thead>\n",
       "  <tbody>\n",
       "    <tr>\n",
       "      <th>0</th>\n",
       "      <td>eb4f9229-74df-45f6-baac-cf19241b8b30</td>\n",
       "      <td>cb2142a7-0750-49ed-b8ac-a975fe1ff69a</td>\n",
       "      <td>232</td>\n",
       "      <td>11</td>\n",
       "      <td>90.044525</td>\n",
       "      <td>Sci-Fi</td>\n",
       "      <td>Sudan</td>\n",
       "      <td>56</td>\n",
       "      <td>Female</td>\n",
       "      <td>Premium</td>\n",
       "      <td>3</td>\n",
       "      <td>Spanish</td>\n",
       "      <td>Smartphone</td>\n",
       "      <td>Reedshire</td>\n",
       "      <td>4K</td>\n",
       "      <td>73</td>\n",
       "    </tr>\n",
       "    <tr>\n",
       "      <th>1</th>\n",
       "      <td>661d4b59-4328-410a-901c-1e3b4c40c334</td>\n",
       "      <td>3bc0a662-b353-4015-8b0c-55ceb510d13a</td>\n",
       "      <td>549</td>\n",
       "      <td>85</td>\n",
       "      <td>68.973479</td>\n",
       "      <td>Comedy</td>\n",
       "      <td>Cuba</td>\n",
       "      <td>52</td>\n",
       "      <td>Male</td>\n",
       "      <td>Premium</td>\n",
       "      <td>3</td>\n",
       "      <td>Chinese</td>\n",
       "      <td>Desktop</td>\n",
       "      <td>Stevenhaven</td>\n",
       "      <td>SD</td>\n",
       "      <td>22</td>\n",
       "    </tr>\n",
       "    <tr>\n",
       "      <th>2</th>\n",
       "      <td>dd3fe9e9-ea82-4891-ab93-8a47c80e3251</td>\n",
       "      <td>bd545b4a-9f54-4e87-b9f8-15ae20b44f22</td>\n",
       "      <td>844</td>\n",
       "      <td>50</td>\n",
       "      <td>42.511343</td>\n",
       "      <td>Comedy</td>\n",
       "      <td>Japan</td>\n",
       "      <td>14</td>\n",
       "      <td>Female</td>\n",
       "      <td>Premium</td>\n",
       "      <td>3</td>\n",
       "      <td>Spanish</td>\n",
       "      <td>Tablet</td>\n",
       "      <td>Vaughntown</td>\n",
       "      <td>HD</td>\n",
       "      <td>41</td>\n",
       "    </tr>\n",
       "    <tr>\n",
       "      <th>3</th>\n",
       "      <td>a1b3365b-1d00-4ddf-bc43-02fc9c10c680</td>\n",
       "      <td>0441086d-c59e-478d-a496-5c5b995ecfdb</td>\n",
       "      <td>201</td>\n",
       "      <td>38</td>\n",
       "      <td>53.316660</td>\n",
       "      <td>Documentary</td>\n",
       "      <td>Lao People's Democratic Republic</td>\n",
       "      <td>36</td>\n",
       "      <td>Male</td>\n",
       "      <td>Premium</td>\n",
       "      <td>2</td>\n",
       "      <td>Spanish</td>\n",
       "      <td>Laptop</td>\n",
       "      <td>East Raymondbury</td>\n",
       "      <td>SD</td>\n",
       "      <td>40</td>\n",
       "    </tr>\n",
       "    <tr>\n",
       "      <th>4</th>\n",
       "      <td>338d3f91-5f1c-4590-8803-324901826406</td>\n",
       "      <td>0295f01d-7f15-4799-856c-90c688697ef8</td>\n",
       "      <td>700</td>\n",
       "      <td>31</td>\n",
       "      <td>69.437786</td>\n",
       "      <td>Action</td>\n",
       "      <td>Bangladesh</td>\n",
       "      <td>31</td>\n",
       "      <td>Male</td>\n",
       "      <td>Premium</td>\n",
       "      <td>4</td>\n",
       "      <td>German</td>\n",
       "      <td>Laptop</td>\n",
       "      <td>Michaelchester</td>\n",
       "      <td>HD</td>\n",
       "      <td>41</td>\n",
       "    </tr>\n",
       "  </tbody>\n",
       "</table>\n",
       "</div>"
      ],
      "text/plain": [
       "                                User_ID                            Session_ID  \\\n",
       "0  eb4f9229-74df-45f6-baac-cf19241b8b30  cb2142a7-0750-49ed-b8ac-a975fe1ff69a   \n",
       "1  661d4b59-4328-410a-901c-1e3b4c40c334  3bc0a662-b353-4015-8b0c-55ceb510d13a   \n",
       "2  dd3fe9e9-ea82-4891-ab93-8a47c80e3251  bd545b4a-9f54-4e87-b9f8-15ae20b44f22   \n",
       "3  a1b3365b-1d00-4ddf-bc43-02fc9c10c680  0441086d-c59e-478d-a496-5c5b995ecfdb   \n",
       "4  338d3f91-5f1c-4590-8803-324901826406  0295f01d-7f15-4799-856c-90c688697ef8   \n",
       "\n",
       "   Device_ID  Video_ID  Duration_Watched (minutes)        Genre  \\\n",
       "0        232        11                   90.044525       Sci-Fi   \n",
       "1        549        85                   68.973479       Comedy   \n",
       "2        844        50                   42.511343       Comedy   \n",
       "3        201        38                   53.316660  Documentary   \n",
       "4        700        31                   69.437786       Action   \n",
       "\n",
       "                            Country  Age  Gender Subscription_Status  Ratings  \\\n",
       "0                             Sudan   56  Female             Premium        3   \n",
       "1                              Cuba   52    Male             Premium        3   \n",
       "2                             Japan   14  Female             Premium        3   \n",
       "3  Lao People's Democratic Republic   36    Male             Premium        2   \n",
       "4                        Bangladesh   31    Male             Premium        4   \n",
       "\n",
       "  Languages Device_Type          Location Playback_Quality  Interaction_Events  \n",
       "0   Spanish  Smartphone         Reedshire               4K                  73  \n",
       "1   Chinese     Desktop       Stevenhaven               SD                  22  \n",
       "2   Spanish      Tablet        Vaughntown               HD                  41  \n",
       "3   Spanish      Laptop  East Raymondbury               SD                  40  \n",
       "4    German      Laptop    Michaelchester               HD                  41  "
      ]
     },
     "execution_count": 935,
     "metadata": {},
     "output_type": "execute_result"
    }
   ],
   "source": [
    "streaming.head()"
   ]
  },
  {
   "cell_type": "markdown",
   "metadata": {},
   "source": [
    "## 3. Data Cleaning"
   ]
  },
  {
   "cell_type": "markdown",
   "metadata": {},
   "source": [
    "Identifing and removing null values, errors, inaccuracies or redundance from the data."
   ]
  },
  {
   "cell_type": "markdown",
   "metadata": {},
   "source": [
    "### Missing Data"
   ]
  },
  {
   "cell_type": "code",
   "execution_count": 936,
   "metadata": {},
   "outputs": [
    {
     "data": {
      "text/plain": [
       "User_ID                       0\n",
       "Session_ID                    0\n",
       "Device_ID                     0\n",
       "Video_ID                      0\n",
       "Duration_Watched (minutes)    0\n",
       "Genre                         0\n",
       "Country                       0\n",
       "Age                           0\n",
       "Gender                        0\n",
       "Subscription_Status           0\n",
       "Ratings                       0\n",
       "Languages                     0\n",
       "Device_Type                   0\n",
       "Location                      0\n",
       "Playback_Quality              0\n",
       "Interaction_Events            0\n",
       "dtype: int64"
      ]
     },
     "execution_count": 936,
     "metadata": {},
     "output_type": "execute_result"
    }
   ],
   "source": [
    "# Checking for missing data\n",
    "streaming.isnull().sum().sort_values(ascending=False)"
   ]
  },
  {
   "cell_type": "code",
   "execution_count": 937,
   "metadata": {},
   "outputs": [
    {
     "data": {
      "text/plain": [
       "Index([], dtype='object')"
      ]
     },
     "execution_count": 937,
     "metadata": {},
     "output_type": "execute_result"
    }
   ],
   "source": [
    "# Identifying columns in the dataframe where over 70% of the values are missing\n",
    "streaming.columns[streaming.isnull().mean() > 0.7]"
   ]
  },
  {
   "cell_type": "code",
   "execution_count": 938,
   "metadata": {},
   "outputs": [],
   "source": [
    "# Filtering out columns in the dataframe where more than 70% of the values are missing\n",
    "streaming = streaming[streaming.columns[streaming.isnull().mean() < 0.7]]"
   ]
  },
  {
   "cell_type": "markdown",
   "metadata": {},
   "source": [
    "## 4. Data Profiling"
   ]
  },
  {
   "cell_type": "markdown",
   "metadata": {},
   "source": [
    "### Structure Discovery"
   ]
  },
  {
   "cell_type": "markdown",
   "metadata": {},
   "source": [
    "Structure discovery is the process of validating that data is consistent and properly formatted. It is sometimes also referred to as structure analysis."
   ]
  },
  {
   "cell_type": "code",
   "execution_count": 939,
   "metadata": {},
   "outputs": [
    {
     "data": {
      "text/plain": [
       "(6214, 16)"
      ]
     },
     "execution_count": 939,
     "metadata": {},
     "output_type": "execute_result"
    }
   ],
   "source": [
    "streaming.shape"
   ]
  },
  {
   "cell_type": "code",
   "execution_count": 940,
   "metadata": {},
   "outputs": [
    {
     "data": {
      "text/plain": [
       "User_ID                        object\n",
       "Session_ID                     object\n",
       "Device_ID                       int64\n",
       "Video_ID                        int64\n",
       "Duration_Watched (minutes)    float64\n",
       "Genre                          object\n",
       "Country                        object\n",
       "Age                             int64\n",
       "Gender                         object\n",
       "Subscription_Status            object\n",
       "Ratings                         int64\n",
       "Languages                      object\n",
       "Device_Type                    object\n",
       "Location                       object\n",
       "Playback_Quality               object\n",
       "Interaction_Events              int64\n",
       "dtype: object"
      ]
     },
     "execution_count": 940,
     "metadata": {},
     "output_type": "execute_result"
    }
   ],
   "source": [
    "streaming.dtypes"
   ]
  },
  {
   "cell_type": "code",
   "execution_count": 941,
   "metadata": {},
   "outputs": [
    {
     "data": {
      "text/plain": [
       "Index(['User_ID', 'Session_ID', 'Device_ID', 'Video_ID',\n",
       "       'Duration_Watched (minutes)', 'Genre', 'Country', 'Age', 'Gender',\n",
       "       'Subscription_Status', 'Ratings', 'Languages', 'Device_Type',\n",
       "       'Location', 'Playback_Quality', 'Interaction_Events'],\n",
       "      dtype='object')"
      ]
     },
     "execution_count": 941,
     "metadata": {},
     "output_type": "execute_result"
    }
   ],
   "source": [
    "streaming.columns"
   ]
  },
  {
   "cell_type": "markdown",
   "metadata": {},
   "source": [
    "#### Exploring Numerical and Categorical Variables"
   ]
  },
  {
   "cell_type": "code",
   "execution_count": 942,
   "metadata": {},
   "outputs": [
    {
     "data": {
      "text/plain": [
       "Index(['Device_ID', 'Video_ID', 'Duration_Watched (minutes)', 'Age', 'Ratings',\n",
       "       'Interaction_Events'],\n",
       "      dtype='object')"
      ]
     },
     "execution_count": 942,
     "metadata": {},
     "output_type": "execute_result"
    }
   ],
   "source": [
    "# Extracting column names with numerical data types from the dataframe\n",
    "streaming.select_dtypes(\"number\").columns"
   ]
  },
  {
   "cell_type": "code",
   "execution_count": 943,
   "metadata": {},
   "outputs": [
    {
     "data": {
      "text/plain": [
       "Duration_Watched (minutes)    6214\n",
       "Device_ID                     1000\n",
       "Interaction_Events             101\n",
       "Video_ID                       100\n",
       "Age                             61\n",
       "Ratings                          5\n",
       "dtype: int64"
      ]
     },
     "execution_count": 943,
     "metadata": {},
     "output_type": "execute_result"
    }
   ],
   "source": [
    "# Counting and sorting the unique values for each numerical column in descending order\n",
    "streaming.select_dtypes(\"number\").nunique().sort_values(ascending=False)"
   ]
  },
  {
   "cell_type": "code",
   "execution_count": 944,
   "metadata": {},
   "outputs": [
    {
     "data": {
      "text/plain": [
       "Ratings\n",
       "3          1301\n",
       "2          1242\n",
       "1          1237\n",
       "4          1230\n",
       "5          1204\n",
       "Name: count, dtype: int64"
      ]
     },
     "execution_count": 944,
     "metadata": {},
     "output_type": "execute_result"
    }
   ],
   "source": [
    "# Separating between discrete and continuous variables, as discrete ones could potentially be treated as categorical.\n",
    "# Remember to adjust the threshold (in this case, < 20) based on your dataset's specific characteristics and domain knowledge.\n",
    "potential_categorical_from_numerical = streaming.select_dtypes(\"number\").loc[:, streaming.select_dtypes(\"number\").nunique() < 20]\n",
    "potential_categorical_from_numerical.value_counts()"
   ]
  },
  {
   "cell_type": "code",
   "execution_count": 945,
   "metadata": {},
   "outputs": [
    {
     "data": {
      "text/plain": [
       "Index(['User_ID', 'Session_ID', 'Genre', 'Country', 'Gender',\n",
       "       'Subscription_Status', 'Languages', 'Device_Type', 'Location',\n",
       "       'Playback_Quality'],\n",
       "      dtype='object')"
      ]
     },
     "execution_count": 945,
     "metadata": {},
     "output_type": "execute_result"
    }
   ],
   "source": [
    "# Retrieving column names with object (typically string) data types from the dataframe\n",
    "streaming.select_dtypes(\"object\").columns"
   ]
  },
  {
   "cell_type": "code",
   "execution_count": 946,
   "metadata": {},
   "outputs": [
    {
     "data": {
      "text/plain": [
       "User_ID                6214\n",
       "Session_ID             6214\n",
       "Location               5169\n",
       "Country                 243\n",
       "Genre                     6\n",
       "Languages                 5\n",
       "Device_Type               5\n",
       "Playback_Quality          3\n",
       "Gender                    2\n",
       "Subscription_Status       2\n",
       "dtype: int64"
      ]
     },
     "execution_count": 946,
     "metadata": {},
     "output_type": "execute_result"
    }
   ],
   "source": [
    "# Counting and sorting the unique values for each object (string) column in descending order\n",
    "streaming.select_dtypes(\"object\").nunique().sort_values(ascending=False)"
   ]
  },
  {
   "cell_type": "markdown",
   "metadata": {},
   "source": [
    "#### Defining Numerical and Categorical Variables"
   ]
  },
  {
   "cell_type": "code",
   "execution_count": 947,
   "metadata": {},
   "outputs": [],
   "source": [
    "# Extracting columns with object (typically string) data types to create a categorical dataframe\n",
    "# Also, I'm including the columns in potential_categorical_from_numerical as categorical variables.\n",
    "streaming_categorical = pd.concat([streaming.select_dtypes(\"object\"), potential_categorical_from_numerical], axis=1)\n",
    "\n",
    "# Adjusting the numerical dataframe by removing the moved columns\n",
    "streaming_numerical = streaming.select_dtypes(\"number\").drop(columns=potential_categorical_from_numerical.columns)"
   ]
  },
  {
   "cell_type": "code",
   "execution_count": 948,
   "metadata": {},
   "outputs": [
    {
     "data": {
      "text/plain": [
       "True"
      ]
     },
     "execution_count": 948,
     "metadata": {},
     "output_type": "execute_result"
    }
   ],
   "source": [
    "# Verifying that the total number of columns in the dataframe is the sum of object (string) and numerical columns\n",
    "len(streaming.columns) == len(streaming.select_dtypes(\"object\").columns) + len(streaming.select_dtypes(\"number\").columns)"
   ]
  },
  {
   "cell_type": "markdown",
   "metadata": {},
   "source": [
    "##### EDA for Numerical Variables"
   ]
  },
  {
   "cell_type": "code",
   "execution_count": 949,
   "metadata": {},
   "outputs": [],
   "source": [
    "#TODO complete with this https://chatgpt.com/share/58d4e0a7-6fb0-4611-92f4-993c025ebb40"
   ]
  },
  {
   "cell_type": "code",
   "execution_count": 950,
   "metadata": {},
   "outputs": [
    {
     "data": {
      "text/html": [
       "<div>\n",
       "<style scoped>\n",
       "    .dataframe tbody tr th:only-of-type {\n",
       "        vertical-align: middle;\n",
       "    }\n",
       "\n",
       "    .dataframe tbody tr th {\n",
       "        vertical-align: top;\n",
       "    }\n",
       "\n",
       "    .dataframe thead th {\n",
       "        text-align: right;\n",
       "    }\n",
       "</style>\n",
       "<table border=\"1\" class=\"dataframe\">\n",
       "  <thead>\n",
       "    <tr style=\"text-align: right;\">\n",
       "      <th></th>\n",
       "      <th>Device_ID</th>\n",
       "      <th>Video_ID</th>\n",
       "      <th>Duration_Watched (minutes)</th>\n",
       "      <th>Age</th>\n",
       "      <th>Interaction_Events</th>\n",
       "    </tr>\n",
       "  </thead>\n",
       "  <tbody>\n",
       "    <tr>\n",
       "      <th>count</th>\n",
       "      <td>6214.000000</td>\n",
       "      <td>6214.000000</td>\n",
       "      <td>6214.000000</td>\n",
       "      <td>6214.000000</td>\n",
       "      <td>6214.000000</td>\n",
       "    </tr>\n",
       "    <tr>\n",
       "      <th>mean</th>\n",
       "      <td>496.762150</td>\n",
       "      <td>50.323785</td>\n",
       "      <td>60.378389</td>\n",
       "      <td>39.665594</td>\n",
       "      <td>50.776794</td>\n",
       "    </tr>\n",
       "    <tr>\n",
       "      <th>std</th>\n",
       "      <td>287.681163</td>\n",
       "      <td>28.671178</td>\n",
       "      <td>34.597273</td>\n",
       "      <td>17.571317</td>\n",
       "      <td>29.009363</td>\n",
       "    </tr>\n",
       "    <tr>\n",
       "      <th>min</th>\n",
       "      <td>1.000000</td>\n",
       "      <td>1.000000</td>\n",
       "      <td>0.055809</td>\n",
       "      <td>10.000000</td>\n",
       "      <td>0.000000</td>\n",
       "    </tr>\n",
       "    <tr>\n",
       "      <th>25%</th>\n",
       "      <td>248.000000</td>\n",
       "      <td>26.000000</td>\n",
       "      <td>30.413538</td>\n",
       "      <td>24.000000</td>\n",
       "      <td>26.000000</td>\n",
       "    </tr>\n",
       "    <tr>\n",
       "      <th>50%</th>\n",
       "      <td>493.500000</td>\n",
       "      <td>50.000000</td>\n",
       "      <td>60.765637</td>\n",
       "      <td>40.000000</td>\n",
       "      <td>51.000000</td>\n",
       "    </tr>\n",
       "    <tr>\n",
       "      <th>75%</th>\n",
       "      <td>742.000000</td>\n",
       "      <td>75.000000</td>\n",
       "      <td>90.874141</td>\n",
       "      <td>55.000000</td>\n",
       "      <td>76.000000</td>\n",
       "    </tr>\n",
       "    <tr>\n",
       "      <th>max</th>\n",
       "      <td>1000.000000</td>\n",
       "      <td>100.000000</td>\n",
       "      <td>119.999972</td>\n",
       "      <td>70.000000</td>\n",
       "      <td>100.000000</td>\n",
       "    </tr>\n",
       "  </tbody>\n",
       "</table>\n",
       "</div>"
      ],
      "text/plain": [
       "         Device_ID     Video_ID  Duration_Watched (minutes)          Age  \\\n",
       "count  6214.000000  6214.000000                 6214.000000  6214.000000   \n",
       "mean    496.762150    50.323785                   60.378389    39.665594   \n",
       "std     287.681163    28.671178                   34.597273    17.571317   \n",
       "min       1.000000     1.000000                    0.055809    10.000000   \n",
       "25%     248.000000    26.000000                   30.413538    24.000000   \n",
       "50%     493.500000    50.000000                   60.765637    40.000000   \n",
       "75%     742.000000    75.000000                   90.874141    55.000000   \n",
       "max    1000.000000   100.000000                  119.999972    70.000000   \n",
       "\n",
       "       Interaction_Events  \n",
       "count         6214.000000  \n",
       "mean            50.776794  \n",
       "std             29.009363  \n",
       "min              0.000000  \n",
       "25%             26.000000  \n",
       "50%             51.000000  \n",
       "75%             76.000000  \n",
       "max            100.000000  "
      ]
     },
     "execution_count": 950,
     "metadata": {},
     "output_type": "execute_result"
    }
   ],
   "source": [
    "streaming_numerical.describe()"
   ]
  },
  {
   "cell_type": "markdown",
   "metadata": {},
   "source": [
    "##### EDA for Categorical Variables"
   ]
  },
  {
   "cell_type": "markdown",
   "metadata": {},
   "source": [
    "#### Hypotesis Definition"
   ]
  },
  {
   "cell_type": "markdown",
   "metadata": {},
   "source": [
    "1. The most common recommenders are user of streaming are adults.\n",
    "2. The duration spent in the action genre by Males is higher than in Females\n",
    "3. The duration spent in the Drama genre by Females is higher than in Males\n",
    "4. Premium users tend to rate content lower than Free users\n",
    "5. Premium users spend more time watching content than Free users\n",
    "6. Content streamed in Smartphones and Tables are of lower quality than other devices\n",
    "7. Playback quality of 4k is mostly watched on Smart TVs\n",
    "8. Users below 40 tend to have in average more interaction events than older users\n",
    "9. The quantity of premium users grows as users are older (there are more premium users at 40 years old, than those at 20s)\n",
    "10. English is the prefer language for streaming. "
   ]
  },
  {
   "cell_type": "markdown",
   "metadata": {},
   "source": [
    "### Content and Relationship Discovery"
   ]
  },
  {
   "cell_type": "markdown",
   "metadata": {},
   "source": [
    "Now, let's examine the specifics of each column in detail."
   ]
  },
  {
   "cell_type": "markdown",
   "metadata": {},
   "source": [
    "##### User_ID and Session_ID"
   ]
  },
  {
   "cell_type": "code",
   "execution_count": 951,
   "metadata": {},
   "outputs": [
    {
     "data": {
      "text/plain": [
       "6214"
      ]
     },
     "execution_count": 951,
     "metadata": {},
     "output_type": "execute_result"
    }
   ],
   "source": [
    "streaming['User_ID'].nunique()"
   ]
  },
  {
   "cell_type": "code",
   "execution_count": 952,
   "metadata": {},
   "outputs": [
    {
     "data": {
      "text/plain": [
       "6214"
      ]
     },
     "execution_count": 952,
     "metadata": {},
     "output_type": "execute_result"
    }
   ],
   "source": [
    "streaming['Session_ID'].nunique()"
   ]
  },
  {
   "cell_type": "markdown",
   "metadata": {},
   "source": [
    "To confirm if each User_ID is associated with only one unique Session_ID, we can group the data by User_ID and count the distinct Session_ID values for each user. If any user has a count greater than 1, it means that a User_ID is associated with more than one Session_ID."
   ]
  },
  {
   "cell_type": "code",
   "execution_count": 953,
   "metadata": {},
   "outputs": [
    {
     "name": "stdout",
     "output_type": "stream",
     "text": [
      "Empty DataFrame\n",
      "Columns: [User_ID, Session_ID]\n",
      "Index: []\n"
     ]
    }
   ],
   "source": [
    "# Group by User_ID and count distinct Session_IDs\n",
    "distinct_session_counts = streaming.groupby('User_ID')['Session_ID'].nunique().reset_index()\n",
    "\n",
    "# Check for any User_ID with more than one distinct Session_ID\n",
    "multiple_sessions = distinct_session_counts[distinct_session_counts['Session_ID'] > 1]\n",
    "\n",
    "# Display the result\n",
    "print(multiple_sessions)"
   ]
  },
  {
   "cell_type": "markdown",
   "metadata": {},
   "source": [
    "The dataset found no users with multiple session IDs, confirming that the User_ID and Session_ID are in a one-to-one relationship."
   ]
  },
  {
   "cell_type": "markdown",
   "metadata": {},
   "source": [
    "##### Device_ID"
   ]
  },
  {
   "cell_type": "code",
   "execution_count": 954,
   "metadata": {},
   "outputs": [
    {
     "data": {
      "text/plain": [
       "1000"
      ]
     },
     "execution_count": 954,
     "metadata": {},
     "output_type": "execute_result"
    }
   ],
   "source": [
    "streaming['Device_ID'].nunique()"
   ]
  },
  {
   "cell_type": "code",
   "execution_count": 955,
   "metadata": {},
   "outputs": [
    {
     "data": {
      "text/plain": [
       "array([   1,    2,    3,    4,    5,    6,    7,    8,    9,   10,   11,\n",
       "         12,   13,   14,   15,   16,   17,   18,   19,   20,   21,   22,\n",
       "         23,   24,   25,   26,   27,   28,   29,   30,   31,   32,   33,\n",
       "         34,   35,   36,   37,   38,   39,   40,   41,   42,   43,   44,\n",
       "         45,   46,   47,   48,   49,   50,   51,   52,   53,   54,   55,\n",
       "         56,   57,   58,   59,   60,   61,   62,   63,   64,   65,   66,\n",
       "         67,   68,   69,   70,   71,   72,   73,   74,   75,   76,   77,\n",
       "         78,   79,   80,   81,   82,   83,   84,   85,   86,   87,   88,\n",
       "         89,   90,   91,   92,   93,   94,   95,   96,   97,   98,   99,\n",
       "        100,  101,  102,  103,  104,  105,  106,  107,  108,  109,  110,\n",
       "        111,  112,  113,  114,  115,  116,  117,  118,  119,  120,  121,\n",
       "        122,  123,  124,  125,  126,  127,  128,  129,  130,  131,  132,\n",
       "        133,  134,  135,  136,  137,  138,  139,  140,  141,  142,  143,\n",
       "        144,  145,  146,  147,  148,  149,  150,  151,  152,  153,  154,\n",
       "        155,  156,  157,  158,  159,  160,  161,  162,  163,  164,  165,\n",
       "        166,  167,  168,  169,  170,  171,  172,  173,  174,  175,  176,\n",
       "        177,  178,  179,  180,  181,  182,  183,  184,  185,  186,  187,\n",
       "        188,  189,  190,  191,  192,  193,  194,  195,  196,  197,  198,\n",
       "        199,  200,  201,  202,  203,  204,  205,  206,  207,  208,  209,\n",
       "        210,  211,  212,  213,  214,  215,  216,  217,  218,  219,  220,\n",
       "        221,  222,  223,  224,  225,  226,  227,  228,  229,  230,  231,\n",
       "        232,  233,  234,  235,  236,  237,  238,  239,  240,  241,  242,\n",
       "        243,  244,  245,  246,  247,  248,  249,  250,  251,  252,  253,\n",
       "        254,  255,  256,  257,  258,  259,  260,  261,  262,  263,  264,\n",
       "        265,  266,  267,  268,  269,  270,  271,  272,  273,  274,  275,\n",
       "        276,  277,  278,  279,  280,  281,  282,  283,  284,  285,  286,\n",
       "        287,  288,  289,  290,  291,  292,  293,  294,  295,  296,  297,\n",
       "        298,  299,  300,  301,  302,  303,  304,  305,  306,  307,  308,\n",
       "        309,  310,  311,  312,  313,  314,  315,  316,  317,  318,  319,\n",
       "        320,  321,  322,  323,  324,  325,  326,  327,  328,  329,  330,\n",
       "        331,  332,  333,  334,  335,  336,  337,  338,  339,  340,  341,\n",
       "        342,  343,  344,  345,  346,  347,  348,  349,  350,  351,  352,\n",
       "        353,  354,  355,  356,  357,  358,  359,  360,  361,  362,  363,\n",
       "        364,  365,  366,  367,  368,  369,  370,  371,  372,  373,  374,\n",
       "        375,  376,  377,  378,  379,  380,  381,  382,  383,  384,  385,\n",
       "        386,  387,  388,  389,  390,  391,  392,  393,  394,  395,  396,\n",
       "        397,  398,  399,  400,  401,  402,  403,  404,  405,  406,  407,\n",
       "        408,  409,  410,  411,  412,  413,  414,  415,  416,  417,  418,\n",
       "        419,  420,  421,  422,  423,  424,  425,  426,  427,  428,  429,\n",
       "        430,  431,  432,  433,  434,  435,  436,  437,  438,  439,  440,\n",
       "        441,  442,  443,  444,  445,  446,  447,  448,  449,  450,  451,\n",
       "        452,  453,  454,  455,  456,  457,  458,  459,  460,  461,  462,\n",
       "        463,  464,  465,  466,  467,  468,  469,  470,  471,  472,  473,\n",
       "        474,  475,  476,  477,  478,  479,  480,  481,  482,  483,  484,\n",
       "        485,  486,  487,  488,  489,  490,  491,  492,  493,  494,  495,\n",
       "        496,  497,  498,  499,  500,  501,  502,  503,  504,  505,  506,\n",
       "        507,  508,  509,  510,  511,  512,  513,  514,  515,  516,  517,\n",
       "        518,  519,  520,  521,  522,  523,  524,  525,  526,  527,  528,\n",
       "        529,  530,  531,  532,  533,  534,  535,  536,  537,  538,  539,\n",
       "        540,  541,  542,  543,  544,  545,  546,  547,  548,  549,  550,\n",
       "        551,  552,  553,  554,  555,  556,  557,  558,  559,  560,  561,\n",
       "        562,  563,  564,  565,  566,  567,  568,  569,  570,  571,  572,\n",
       "        573,  574,  575,  576,  577,  578,  579,  580,  581,  582,  583,\n",
       "        584,  585,  586,  587,  588,  589,  590,  591,  592,  593,  594,\n",
       "        595,  596,  597,  598,  599,  600,  601,  602,  603,  604,  605,\n",
       "        606,  607,  608,  609,  610,  611,  612,  613,  614,  615,  616,\n",
       "        617,  618,  619,  620,  621,  622,  623,  624,  625,  626,  627,\n",
       "        628,  629,  630,  631,  632,  633,  634,  635,  636,  637,  638,\n",
       "        639,  640,  641,  642,  643,  644,  645,  646,  647,  648,  649,\n",
       "        650,  651,  652,  653,  654,  655,  656,  657,  658,  659,  660,\n",
       "        661,  662,  663,  664,  665,  666,  667,  668,  669,  670,  671,\n",
       "        672,  673,  674,  675,  676,  677,  678,  679,  680,  681,  682,\n",
       "        683,  684,  685,  686,  687,  688,  689,  690,  691,  692,  693,\n",
       "        694,  695,  696,  697,  698,  699,  700,  701,  702,  703,  704,\n",
       "        705,  706,  707,  708,  709,  710,  711,  712,  713,  714,  715,\n",
       "        716,  717,  718,  719,  720,  721,  722,  723,  724,  725,  726,\n",
       "        727,  728,  729,  730,  731,  732,  733,  734,  735,  736,  737,\n",
       "        738,  739,  740,  741,  742,  743,  744,  745,  746,  747,  748,\n",
       "        749,  750,  751,  752,  753,  754,  755,  756,  757,  758,  759,\n",
       "        760,  761,  762,  763,  764,  765,  766,  767,  768,  769,  770,\n",
       "        771,  772,  773,  774,  775,  776,  777,  778,  779,  780,  781,\n",
       "        782,  783,  784,  785,  786,  787,  788,  789,  790,  791,  792,\n",
       "        793,  794,  795,  796,  797,  798,  799,  800,  801,  802,  803,\n",
       "        804,  805,  806,  807,  808,  809,  810,  811,  812,  813,  814,\n",
       "        815,  816,  817,  818,  819,  820,  821,  822,  823,  824,  825,\n",
       "        826,  827,  828,  829,  830,  831,  832,  833,  834,  835,  836,\n",
       "        837,  838,  839,  840,  841,  842,  843,  844,  845,  846,  847,\n",
       "        848,  849,  850,  851,  852,  853,  854,  855,  856,  857,  858,\n",
       "        859,  860,  861,  862,  863,  864,  865,  866,  867,  868,  869,\n",
       "        870,  871,  872,  873,  874,  875,  876,  877,  878,  879,  880,\n",
       "        881,  882,  883,  884,  885,  886,  887,  888,  889,  890,  891,\n",
       "        892,  893,  894,  895,  896,  897,  898,  899,  900,  901,  902,\n",
       "        903,  904,  905,  906,  907,  908,  909,  910,  911,  912,  913,\n",
       "        914,  915,  916,  917,  918,  919,  920,  921,  922,  923,  924,\n",
       "        925,  926,  927,  928,  929,  930,  931,  932,  933,  934,  935,\n",
       "        936,  937,  938,  939,  940,  941,  942,  943,  944,  945,  946,\n",
       "        947,  948,  949,  950,  951,  952,  953,  954,  955,  956,  957,\n",
       "        958,  959,  960,  961,  962,  963,  964,  965,  966,  967,  968,\n",
       "        969,  970,  971,  972,  973,  974,  975,  976,  977,  978,  979,\n",
       "        980,  981,  982,  983,  984,  985,  986,  987,  988,  989,  990,\n",
       "        991,  992,  993,  994,  995,  996,  997,  998,  999, 1000],\n",
       "      dtype=int64)"
      ]
     },
     "execution_count": 955,
     "metadata": {},
     "output_type": "execute_result"
    }
   ],
   "source": [
    "# Extract unique Device_ID values and sort them in ascending order\n",
    "np.sort(streaming['Device_ID'].unique())"
   ]
  },
  {
   "cell_type": "markdown",
   "metadata": {},
   "source": [
    "It seems there is possible sequential assignment for the Device_ID values as these are assigned sequentially, perhaps there is an ID generation mechanism where new devices are incrementally assigned the next available integer ID as they are added to the system."
   ]
  },
  {
   "cell_type": "markdown",
   "metadata": {},
   "source": [
    "To analyze whether a device can have more than one user connected, let's group the data by Device_ID and check how many distinct User_ID values are associated with each device. "
   ]
  },
  {
   "cell_type": "code",
   "execution_count": 956,
   "metadata": {},
   "outputs": [
    {
     "data": {
      "text/html": [
       "<div>\n",
       "<style scoped>\n",
       "    .dataframe tbody tr th:only-of-type {\n",
       "        vertical-align: middle;\n",
       "    }\n",
       "\n",
       "    .dataframe tbody tr th {\n",
       "        vertical-align: top;\n",
       "    }\n",
       "\n",
       "    .dataframe thead th {\n",
       "        text-align: right;\n",
       "    }\n",
       "</style>\n",
       "<table border=\"1\" class=\"dataframe\">\n",
       "  <thead>\n",
       "    <tr style=\"text-align: right;\">\n",
       "      <th></th>\n",
       "      <th>User_Count_per_Device</th>\n",
       "      <th>Device_Count</th>\n",
       "    </tr>\n",
       "  </thead>\n",
       "  <tbody>\n",
       "    <tr>\n",
       "      <th>14</th>\n",
       "      <td>16</td>\n",
       "      <td>1</td>\n",
       "    </tr>\n",
       "    <tr>\n",
       "      <th>13</th>\n",
       "      <td>14</td>\n",
       "      <td>1</td>\n",
       "    </tr>\n",
       "    <tr>\n",
       "      <th>12</th>\n",
       "      <td>13</td>\n",
       "      <td>9</td>\n",
       "    </tr>\n",
       "    <tr>\n",
       "      <th>11</th>\n",
       "      <td>12</td>\n",
       "      <td>20</td>\n",
       "    </tr>\n",
       "    <tr>\n",
       "      <th>10</th>\n",
       "      <td>11</td>\n",
       "      <td>22</td>\n",
       "    </tr>\n",
       "    <tr>\n",
       "      <th>9</th>\n",
       "      <td>10</td>\n",
       "      <td>46</td>\n",
       "    </tr>\n",
       "    <tr>\n",
       "      <th>8</th>\n",
       "      <td>9</td>\n",
       "      <td>85</td>\n",
       "    </tr>\n",
       "    <tr>\n",
       "      <th>7</th>\n",
       "      <td>8</td>\n",
       "      <td>103</td>\n",
       "    </tr>\n",
       "    <tr>\n",
       "      <th>6</th>\n",
       "      <td>7</td>\n",
       "      <td>138</td>\n",
       "    </tr>\n",
       "    <tr>\n",
       "      <th>5</th>\n",
       "      <td>6</td>\n",
       "      <td>161</td>\n",
       "    </tr>\n",
       "    <tr>\n",
       "      <th>4</th>\n",
       "      <td>5</td>\n",
       "      <td>145</td>\n",
       "    </tr>\n",
       "    <tr>\n",
       "      <th>3</th>\n",
       "      <td>4</td>\n",
       "      <td>136</td>\n",
       "    </tr>\n",
       "    <tr>\n",
       "      <th>2</th>\n",
       "      <td>3</td>\n",
       "      <td>84</td>\n",
       "    </tr>\n",
       "    <tr>\n",
       "      <th>1</th>\n",
       "      <td>2</td>\n",
       "      <td>34</td>\n",
       "    </tr>\n",
       "    <tr>\n",
       "      <th>0</th>\n",
       "      <td>1</td>\n",
       "      <td>15</td>\n",
       "    </tr>\n",
       "  </tbody>\n",
       "</table>\n",
       "</div>"
      ],
      "text/plain": [
       "    User_Count_per_Device  Device_Count\n",
       "14                     16             1\n",
       "13                     14             1\n",
       "12                     13             9\n",
       "11                     12            20\n",
       "10                     11            22\n",
       "9                      10            46\n",
       "8                       9            85\n",
       "7                       8           103\n",
       "6                       7           138\n",
       "5                       6           161\n",
       "4                       5           145\n",
       "3                       4           136\n",
       "2                       3            84\n",
       "1                       2            34\n",
       "0                       1            15"
      ]
     },
     "execution_count": 956,
     "metadata": {},
     "output_type": "execute_result"
    }
   ],
   "source": [
    "# Group by Device_ID and count distinct User_IDs\n",
    "device_user_counts = streaming.groupby('Device_ID')['User_ID'].nunique().reset_index()\n",
    "\n",
    "# Rename the column for clarity\n",
    "device_user_counts.rename(columns={'User_ID': 'User_Count_per_Device'}, inplace=True)\n",
    "\n",
    "# Group by User_Count_per_Device and count the number of devices for each distinct user count\n",
    "distinct_user_count_summary = device_user_counts.groupby('User_Count_per_Device')['Device_ID'].count().reset_index()\n",
    "\n",
    "# Rename columns for clarity\n",
    "distinct_user_count_summary.rename(columns={'Device_ID': 'Device_Count'}, inplace=True)\n",
    "\n",
    "# Sort the results by User_Count_per_Device in descending order\n",
    "distinct_user_count_summary.sort_values(by='User_Count_per_Device', ascending=False)"
   ]
  },
  {
   "cell_type": "markdown",
   "metadata": {},
   "source": [
    "- While some devices are highly shared, a large proportion is shared among small groups, particularly with 6 users.\n",
    "\n",
    "- Devices shared by many users (16 and 14 users) might be found in communal settings, while those with 6 users could represent family or small office environments.\n",
    "\n",
    "- The 15 devices used by only one user suggest either dedicated personal usage or lack of accessibility for sharing."
   ]
  },
  {
   "cell_type": "markdown",
   "metadata": {},
   "source": [
    "##### Video_ID"
   ]
  },
  {
   "cell_type": "code",
   "execution_count": 957,
   "metadata": {},
   "outputs": [
    {
     "data": {
      "text/plain": [
       "100"
      ]
     },
     "execution_count": 957,
     "metadata": {},
     "output_type": "execute_result"
    }
   ],
   "source": [
    "streaming['Video_ID'].nunique()"
   ]
  },
  {
   "cell_type": "code",
   "execution_count": 958,
   "metadata": {},
   "outputs": [
    {
     "data": {
      "text/plain": [
       "array([  1,   2,   3,   4,   5,   6,   7,   8,   9,  10,  11,  12,  13,\n",
       "        14,  15,  16,  17,  18,  19,  20,  21,  22,  23,  24,  25,  26,\n",
       "        27,  28,  29,  30,  31,  32,  33,  34,  35,  36,  37,  38,  39,\n",
       "        40,  41,  42,  43,  44,  45,  46,  47,  48,  49,  50,  51,  52,\n",
       "        53,  54,  55,  56,  57,  58,  59,  60,  61,  62,  63,  64,  65,\n",
       "        66,  67,  68,  69,  70,  71,  72,  73,  74,  75,  76,  77,  78,\n",
       "        79,  80,  81,  82,  83,  84,  85,  86,  87,  88,  89,  90,  91,\n",
       "        92,  93,  94,  95,  96,  97,  98,  99, 100], dtype=int64)"
      ]
     },
     "execution_count": 958,
     "metadata": {},
     "output_type": "execute_result"
    }
   ],
   "source": [
    "# Extract unique Video_ID values and sort them in ascending order using numpy\n",
    "np.sort(streaming['Video_ID'].unique())"
   ]
  },
  {
   "cell_type": "markdown",
   "metadata": {},
   "source": [
    "The Video_ID range from 1 to 100 indicates that the dataset includes exactly 100 distinct videos (movies, series, etc.). This suggests that the dataset is fixed to include only 100 available videos on the platform, potentially the most-watched content."
   ]
  },
  {
   "cell_type": "markdown",
   "metadata": {},
   "source": [
    "To find out how many users have watched each Video_ID, let's group the data by Video_ID and count the number of distinct User_ID values associated with each video. "
   ]
  },
  {
   "cell_type": "code",
   "execution_count": 959,
   "metadata": {},
   "outputs": [],
   "source": [
    "# Group by Video_ID and count distinct User_IDs\n",
    "video_user_counts = streaming.groupby('Video_ID')['User_ID'].nunique().reset_index()\n",
    "\n",
    "# Rename the column for clarity\n",
    "video_user_counts.rename(columns={'User_ID': 'User_Count_per_Device'}, inplace=True)\n",
    "\n",
    "# Sort the data by User_Count_per_Device in descending order (optional)\n",
    "video_user_counts_sorted = video_user_counts.sort_values(by='User_Count_per_Device', ascending=False)"
   ]
  },
  {
   "cell_type": "code",
   "execution_count": 960,
   "metadata": {},
   "outputs": [
    {
     "data": {
      "text/html": [
       "<div>\n",
       "<style scoped>\n",
       "    .dataframe tbody tr th:only-of-type {\n",
       "        vertical-align: middle;\n",
       "    }\n",
       "\n",
       "    .dataframe tbody tr th {\n",
       "        vertical-align: top;\n",
       "    }\n",
       "\n",
       "    .dataframe thead th {\n",
       "        text-align: right;\n",
       "    }\n",
       "</style>\n",
       "<table border=\"1\" class=\"dataframe\">\n",
       "  <thead>\n",
       "    <tr style=\"text-align: right;\">\n",
       "      <th></th>\n",
       "      <th>Video_ID</th>\n",
       "      <th>User_Count_per_Device</th>\n",
       "    </tr>\n",
       "  </thead>\n",
       "  <tbody>\n",
       "    <tr>\n",
       "      <th>39</th>\n",
       "      <td>40</td>\n",
       "      <td>79</td>\n",
       "    </tr>\n",
       "    <tr>\n",
       "      <th>28</th>\n",
       "      <td>29</td>\n",
       "      <td>78</td>\n",
       "    </tr>\n",
       "    <tr>\n",
       "      <th>10</th>\n",
       "      <td>11</td>\n",
       "      <td>77</td>\n",
       "    </tr>\n",
       "    <tr>\n",
       "      <th>89</th>\n",
       "      <td>90</td>\n",
       "      <td>76</td>\n",
       "    </tr>\n",
       "    <tr>\n",
       "      <th>82</th>\n",
       "      <td>83</td>\n",
       "      <td>76</td>\n",
       "    </tr>\n",
       "    <tr>\n",
       "      <th>58</th>\n",
       "      <td>59</td>\n",
       "      <td>76</td>\n",
       "    </tr>\n",
       "    <tr>\n",
       "      <th>53</th>\n",
       "      <td>54</td>\n",
       "      <td>75</td>\n",
       "    </tr>\n",
       "    <tr>\n",
       "      <th>43</th>\n",
       "      <td>44</td>\n",
       "      <td>74</td>\n",
       "    </tr>\n",
       "    <tr>\n",
       "      <th>23</th>\n",
       "      <td>24</td>\n",
       "      <td>73</td>\n",
       "    </tr>\n",
       "    <tr>\n",
       "      <th>77</th>\n",
       "      <td>78</td>\n",
       "      <td>71</td>\n",
       "    </tr>\n",
       "  </tbody>\n",
       "</table>\n",
       "</div>"
      ],
      "text/plain": [
       "    Video_ID  User_Count_per_Device\n",
       "39        40                     79\n",
       "28        29                     78\n",
       "10        11                     77\n",
       "89        90                     76\n",
       "82        83                     76\n",
       "58        59                     76\n",
       "53        54                     75\n",
       "43        44                     74\n",
       "23        24                     73\n",
       "77        78                     71"
      ]
     },
     "execution_count": 960,
     "metadata": {},
     "output_type": "execute_result"
    }
   ],
   "source": [
    "video_user_counts_sorted.head(n=10)"
   ]
  },
  {
   "cell_type": "code",
   "execution_count": 961,
   "metadata": {},
   "outputs": [
    {
     "data": {
      "text/html": [
       "<div>\n",
       "<style scoped>\n",
       "    .dataframe tbody tr th:only-of-type {\n",
       "        vertical-align: middle;\n",
       "    }\n",
       "\n",
       "    .dataframe tbody tr th {\n",
       "        vertical-align: top;\n",
       "    }\n",
       "\n",
       "    .dataframe thead th {\n",
       "        text-align: right;\n",
       "    }\n",
       "</style>\n",
       "<table border=\"1\" class=\"dataframe\">\n",
       "  <thead>\n",
       "    <tr style=\"text-align: right;\">\n",
       "      <th></th>\n",
       "      <th>Video_ID</th>\n",
       "      <th>User_Count_per_Device</th>\n",
       "    </tr>\n",
       "  </thead>\n",
       "  <tbody>\n",
       "    <tr>\n",
       "      <th>47</th>\n",
       "      <td>48</td>\n",
       "      <td>52</td>\n",
       "    </tr>\n",
       "    <tr>\n",
       "      <th>49</th>\n",
       "      <td>50</td>\n",
       "      <td>52</td>\n",
       "    </tr>\n",
       "    <tr>\n",
       "      <th>0</th>\n",
       "      <td>1</td>\n",
       "      <td>52</td>\n",
       "    </tr>\n",
       "    <tr>\n",
       "      <th>9</th>\n",
       "      <td>10</td>\n",
       "      <td>51</td>\n",
       "    </tr>\n",
       "    <tr>\n",
       "      <th>7</th>\n",
       "      <td>8</td>\n",
       "      <td>51</td>\n",
       "    </tr>\n",
       "    <tr>\n",
       "      <th>90</th>\n",
       "      <td>91</td>\n",
       "      <td>50</td>\n",
       "    </tr>\n",
       "    <tr>\n",
       "      <th>61</th>\n",
       "      <td>62</td>\n",
       "      <td>50</td>\n",
       "    </tr>\n",
       "    <tr>\n",
       "      <th>52</th>\n",
       "      <td>53</td>\n",
       "      <td>49</td>\n",
       "    </tr>\n",
       "    <tr>\n",
       "      <th>98</th>\n",
       "      <td>99</td>\n",
       "      <td>47</td>\n",
       "    </tr>\n",
       "    <tr>\n",
       "      <th>38</th>\n",
       "      <td>39</td>\n",
       "      <td>46</td>\n",
       "    </tr>\n",
       "  </tbody>\n",
       "</table>\n",
       "</div>"
      ],
      "text/plain": [
       "    Video_ID  User_Count_per_Device\n",
       "47        48                     52\n",
       "49        50                     52\n",
       "0          1                     52\n",
       "9         10                     51\n",
       "7          8                     51\n",
       "90        91                     50\n",
       "61        62                     50\n",
       "52        53                     49\n",
       "98        99                     47\n",
       "38        39                     46"
      ]
     },
     "execution_count": 961,
     "metadata": {},
     "output_type": "execute_result"
    }
   ],
   "source": [
    "video_user_counts_sorted.tail(n=10)"
   ]
  },
  {
   "cell_type": "markdown",
   "metadata": {},
   "source": [
    "- The top 10 most-watched videos each have more than 70 distinct users. Video_ID 40 is the most watched, with 79 distinct users.\n",
    "\n",
    "- The bottom 10 least-watched videos have around 50 distinct users each. Video_ID 39 is the least watched, with only 46 distinct users."
   ]
  },
  {
   "cell_type": "markdown",
   "metadata": {},
   "source": [
    "##### Duration_Watched (minutes)"
   ]
  },
  {
   "cell_type": "code",
   "execution_count": 962,
   "metadata": {},
   "outputs": [
    {
     "data": {
      "text/plain": [
       "6214"
      ]
     },
     "execution_count": 962,
     "metadata": {},
     "output_type": "execute_result"
    }
   ],
   "source": [
    "streaming['Duration_Watched (minutes)'].nunique()"
   ]
  },
  {
   "cell_type": "markdown",
   "metadata": {},
   "source": [
    "To analyze the distribution of the Duration_Watched (minutes) column from the most engaging (longest watched) to the least engaging (shortest watched), let's sort the data (in descending order)."
   ]
  },
  {
   "cell_type": "code",
   "execution_count": 963,
   "metadata": {},
   "outputs": [
    {
     "name": "stdout",
     "output_type": "stream",
     "text": [
      "2526    0.055809\n",
      "5222    0.061911\n",
      "3915    0.072536\n",
      "1335    0.080602\n",
      "4755    0.092152\n",
      "3709    0.096735\n",
      "5872    0.110173\n",
      "5622    0.130475\n",
      "2549    0.135560\n",
      "3814    0.139156\n",
      "Name: Duration_Watched (minutes), dtype: float64\n",
      "5552    119.900747\n",
      "2280    119.916255\n",
      "5224    119.920952\n",
      "3837    119.925319\n",
      "6189    119.926372\n",
      "2175    119.945439\n",
      "2071    119.958384\n",
      "955     119.974953\n",
      "6079    119.990886\n",
      "1587    119.999972\n",
      "Name: Duration_Watched (minutes), dtype: float64\n"
     ]
    }
   ],
   "source": [
    "# Sort the Duration_Watched (minutes) column\n",
    "sorted_durations = streaming['Duration_Watched (minutes)'].sort_values()\n",
    "\n",
    "# Display the sorted durations\n",
    "print(sorted_durations.head(10))  # Show the first 10 sorted durations\n",
    "print(sorted_durations.tail(10))  # Show the last 10 sorted durations"
   ]
  },
  {
   "cell_type": "code",
   "execution_count": 964,
   "metadata": {},
   "outputs": [
    {
     "data": {
      "image/png": "[encoded data removed]",
      "text/plain": [
       "<Figure size 1200x600 with 1 Axes>"
      ]
     },
     "metadata": {},
     "output_type": "display_data"
    }
   ],
   "source": [
    "# Set up the figure size and style\n",
    "plt.figure(figsize=(12, 6))\n",
    "sns.set(style='whitegrid')\n",
    "\n",
    "# Plot the histogram\n",
    "sns.histplot(streaming['Duration_Watched (minutes)'], bins=50, kde=True)\n",
    "\n",
    "# Add labels and title\n",
    "plt.xlabel('Duration Watched (minutes)')\n",
    "plt.ylabel('Frequency')\n",
    "plt.title('Distribution of Video Watching Durations')\n",
    "plt.show()"
   ]
  },
  {
   "cell_type": "markdown",
   "metadata": {},
   "source": [
    "- Short Durations: The shortest durations are just a few seconds, indicating some users barely engage with certain videos.\n",
    "\n",
    "- Long Durations: The longest durations are close to 120 minutes, suggesting that some users watch videos for extended periods, likely indicating full-length content consumption (movies or documentals).\n",
    "\n",
    "- Distribution Pattern: The histogram shows a skew towards shorter durations, with a peak at shorter viewing times and a gradual decline towards longer durations. This pattern is typical, as users often watch shorter videos or only a portion of longer content."
   ]
  },
  {
   "cell_type": "markdown",
   "metadata": {},
   "source": [
    "##### Country"
   ]
  },
  {
   "cell_type": "code",
   "execution_count": 965,
   "metadata": {},
   "outputs": [
    {
     "data": {
      "text/plain": [
       "243"
      ]
     },
     "execution_count": 965,
     "metadata": {},
     "output_type": "execute_result"
    }
   ],
   "source": [
    "streaming['Country'].nunique()"
   ]
  },
  {
   "cell_type": "code",
   "execution_count": 966,
   "metadata": {},
   "outputs": [
    {
     "data": {
      "text/plain": [
       "array(['Sudan', 'Cuba', 'Japan', \"Lao People's Democratic Republic\",\n",
       "       'Bangladesh', 'Tokelau', 'Guyana', 'Guinea', 'Palau', 'Ecuador',\n",
       "       'Iceland', 'Colombia', 'Dominican Republic', 'Georgia', 'Malaysia',\n",
       "       'Togo', 'Iran', 'Estonia', 'Korea', 'Lebanon',\n",
       "       'Trinidad and Tobago', 'Saint Vincent and the Grenadines',\n",
       "       'Belarus', 'Northern Mariana Islands', 'Jersey', 'Niue', 'Lesotho',\n",
       "       'Anguilla', 'Romania', 'Uganda', 'Comoros', 'Austria', 'Paraguay',\n",
       "       'Angola', 'Philippines', 'Cambodia', 'Benin', 'Yemen',\n",
       "       'Luxembourg', 'Malawi', 'Heard Island and McDonald Islands',\n",
       "       'Wallis and Futuna', 'Macao', 'Honduras', 'Liechtenstein',\n",
       "       'Uruguay', 'Cameroon', 'Cape Verde', 'San Marino', 'Guadeloupe',\n",
       "       'Dominica', 'Egypt', 'Jamaica', 'Portugal', 'French Polynesia',\n",
       "       'Gambia', 'Niger', 'Fiji', 'United States Virgin Islands', 'Aruba',\n",
       "       'French Southern Territories', 'China', 'Sweden', \"Cote d'Ivoire\",\n",
       "       'Saudi Arabia', 'Croatia', 'Barbados', 'Turkmenistan',\n",
       "       'Falkland Islands (Malvinas)', 'Sierra Leone', 'Venezuela',\n",
       "       'South Africa', 'Denmark', 'Tanzania', 'Bolivia',\n",
       "       'South Georgia and the South Sandwich Islands', 'Senegal',\n",
       "       'Bermuda', 'Chile', 'Bhutan', 'Mexico', 'Switzerland',\n",
       "       'Kazakhstan', 'Isle of Man', 'Guam', 'Brunei Darussalam', 'Zambia',\n",
       "       'Mozambique', 'Slovenia', 'Serbia', 'Palestinian Territory',\n",
       "       'United Arab Emirates', 'North Macedonia', 'Suriname', 'Latvia',\n",
       "       'Mayotte', 'Nauru', 'Maldives', 'Christmas Island', 'Bulgaria',\n",
       "       'Belize', 'Kuwait', 'Armenia', 'Burundi', 'Eritrea',\n",
       "       'Bosnia and Herzegovina', 'Nepal', 'Malta', 'Lithuania', 'India',\n",
       "       'Costa Rica', 'Faroe Islands', 'Zimbabwe', 'Hong Kong',\n",
       "       'Mauritius', 'New Caledonia', 'Greece', 'Mongolia', 'Italy',\n",
       "       'Norway', 'British Virgin Islands', 'Reunion', 'Brazil',\n",
       "       'Saint Lucia', 'Ukraine', 'Panama', 'Sao Tome and Principe',\n",
       "       'Turkey', 'Cocos (Keeling) Islands', 'Kenya', 'Morocco',\n",
       "       'Mauritania', 'Somalia', 'Turks and Caicos Islands', 'Tunisia',\n",
       "       'Saint Kitts and Nevis', 'Bahamas', 'Czech Republic', 'Kiribati',\n",
       "       'Saint Helena', 'Papua New Guinea', 'Slovakia (Slovak Republic)',\n",
       "       'Saint Barthelemy', 'Congo', 'Seychelles', 'Samoa', 'Guernsey',\n",
       "       'Pakistan', 'Cook Islands', 'Myanmar', 'Syrian Arab Republic',\n",
       "       'Madagascar', 'Netherlands Antilles', 'Hungary', 'Ethiopia',\n",
       "       'Cyprus', 'Saint Martin', 'Libyan Arab Jamahiriya', 'Qatar',\n",
       "       'Martinique', 'Puerto Rico',\n",
       "       'British Indian Ocean Territory (Chagos Archipelago)',\n",
       "       'Svalbard & Jan Mayen Islands', 'Afghanistan', 'Jordan',\n",
       "       'Bouvet Island (Bouvetoya)', 'Saint Pierre and Miquelon',\n",
       "       'New Zealand', 'Guatemala', 'Uzbekistan', 'Singapore',\n",
       "       'Micronesia', 'Israel', 'Vietnam', 'Canada', 'Sri Lanka',\n",
       "       'Western Sahara', 'Tonga', 'Haiti', 'American Samoa', 'Nicaragua',\n",
       "       'United States of America', 'United States Minor Outlying Islands',\n",
       "       'Montserrat', 'Albania', 'Monaco', 'Chad',\n",
       "       'Holy See (Vatican City State)', 'Equatorial Guinea', 'Azerbaijan',\n",
       "       'Antarctica (the territory South of 60 deg S)', 'Argentina',\n",
       "       'France', 'Finland', 'Oman', 'Central African Republic', 'Tuvalu',\n",
       "       'Gabon', 'Montenegro', 'Marshall Islands', 'Antigua and Barbuda',\n",
       "       'Namibia', 'Australia', 'Pitcairn Islands', 'Botswana', 'Mali',\n",
       "       'Ireland', 'Burkina Faso', 'Gibraltar', 'Timor-Leste',\n",
       "       'Kyrgyz Republic', 'Tajikistan', 'Spain', 'El Salvador', 'Bahrain',\n",
       "       'Russian Federation', 'Germany', 'Solomon Islands',\n",
       "       'Cayman Islands', 'Ghana', 'Nigeria', 'United Kingdom', 'Poland',\n",
       "       'Rwanda', 'Swaziland', 'Greenland', 'Netherlands', 'Moldova',\n",
       "       'Peru', 'Vanuatu', 'Guinea-Bissau', 'Andorra', 'Iraq', 'Liberia',\n",
       "       'Grenada', 'Algeria', 'Belgium', 'Indonesia', 'French Guiana',\n",
       "       'Norfolk Island', 'Djibouti', 'Thailand', 'Taiwan'], dtype=object)"
      ]
     },
     "execution_count": 966,
     "metadata": {},
     "output_type": "execute_result"
    }
   ],
   "source": [
    "country_list = streaming['Country'].unique()\n",
    "country_list"
   ]
  },
  {
   "cell_type": "markdown",
   "metadata": {},
   "source": [
    "To determine whether the countries in the dataset match the list of ISO 3166 country codes, let's compare the list of unique country names against a standard ISO 3166-1 country code list. The ISO 3166 standard provides internationally recognized codes for the names of countries."
   ]
  },
  {
   "cell_type": "code",
   "execution_count": 967,
   "metadata": {},
   "outputs": [
    {
     "name": "stdout",
     "output_type": "stream",
     "text": [
      "\n",
      "Total unique countries in dataset: 6214\n",
      "Number of countries that match the ISO 3166 list: 5415\n",
      "\n",
      "Number of countries not matched to ISO 3166 list: 799\n",
      "Countries not in the ISO 3166 list:\n",
      "['Iran', 'Korea', 'Iran', 'Cape Verde', 'Korea', 'United States Virgin Islands', 'Cape Verde', \"Cote d'Ivoire\", 'Venezuela', 'Tanzania', 'Bolivia', 'Palestinian Territory', 'Venezuela', 'Korea', 'Korea', 'Cape Verde', 'Bolivia', 'British Virgin Islands', 'Reunion', 'Turkey', 'Czech Republic', 'Saint Helena', 'Bolivia', 'Slovakia (Slovak Republic)', 'Saint Barthelemy', 'Korea', 'Saint Helena', 'Netherlands Antilles', 'Saint Martin', 'Libyan Arab Jamahiriya', 'British Indian Ocean Territory (Chagos Archipelago)', 'Svalbard & Jan Mayen Islands', 'Venezuela', 'Bouvet Island (Bouvetoya)', 'Micronesia', 'Vietnam', \"Cote d'Ivoire\", 'Saint Barthelemy', 'Korea', 'United States of America', 'Korea', \"Cote d'Ivoire\", 'Vietnam', 'Netherlands Antilles', 'Saint Martin', 'Czech Republic', 'British Indian Ocean Territory (Chagos Archipelago)', 'Svalbard & Jan Mayen Islands', 'Antarctica (the territory South of 60 deg S)', 'Svalbard & Jan Mayen Islands', 'Netherlands Antilles', 'Turkey', 'Pitcairn Islands', \"Cote d'Ivoire\", 'Pitcairn Islands', 'Palestinian Territory', 'Micronesia', 'Saint Helena', 'Reunion', 'Iran', 'Netherlands Antilles', 'Svalbard & Jan Mayen Islands', 'Kyrgyz Republic', 'Vietnam', 'Saint Martin', 'Svalbard & Jan Mayen Islands', 'Saint Martin', 'Saint Martin', 'Korea', 'Micronesia', 'Saint Barthelemy', 'Antarctica (the territory South of 60 deg S)', 'Saint Martin', 'Tanzania', 'Swaziland', 'Libyan Arab Jamahiriya', 'Turkey', 'Saint Helena', 'Antarctica (the territory South of 60 deg S)', 'Bouvet Island (Bouvetoya)', 'Iran', 'Micronesia', 'Bolivia', 'Saint Barthelemy', 'Bouvet Island (Bouvetoya)', 'Svalbard & Jan Mayen Islands', 'United States of America', 'Moldova', 'British Indian Ocean Territory (Chagos Archipelago)', 'Reunion', 'United States Virgin Islands', 'Micronesia', \"Cote d'Ivoire\", 'Svalbard & Jan Mayen Islands', 'Palestinian Territory', 'Antarctica (the territory South of 60 deg S)', 'Cape Verde', 'Saint Martin', 'United States of America', 'United States Virgin Islands', 'Korea', 'Kyrgyz Republic', 'British Indian Ocean Territory (Chagos Archipelago)', 'Palestinian Territory', 'Kyrgyz Republic', 'Korea', 'Bouvet Island (Bouvetoya)', 'Saint Martin', 'Reunion', 'Pitcairn Islands', 'Palestinian Territory', 'Korea', 'Reunion', 'Saint Barthelemy', 'Bolivia', 'Tanzania', 'Slovakia (Slovak Republic)', 'Moldova', 'Micronesia', 'United States Virgin Islands', 'Venezuela', 'Vietnam', 'Venezuela', 'Czech Republic', 'Slovakia (Slovak Republic)', \"Cote d'Ivoire\", 'British Virgin Islands', 'Bouvet Island (Bouvetoya)', 'Czech Republic', 'Moldova', 'Vietnam', 'Turkey', 'Tanzania', 'Saint Helena', 'Iran', 'Svalbard & Jan Mayen Islands', 'British Virgin Islands', 'United States Virgin Islands', 'Saint Martin', 'United States of America', 'Svalbard & Jan Mayen Islands', 'Micronesia', 'Antarctica (the territory South of 60 deg S)', 'Antarctica (the territory South of 60 deg S)', 'Korea', 'Iran', 'Svalbard & Jan Mayen Islands', 'Tanzania', 'Turkey', 'United States Virgin Islands', \"Cote d'Ivoire\", 'Tanzania', 'Kyrgyz Republic', 'Kyrgyz Republic', 'Moldova', 'Czech Republic', 'Saint Helena', 'Reunion', 'Iran', 'Venezuela', 'Tanzania', 'Saint Martin', 'Antarctica (the territory South of 60 deg S)', 'Cape Verde', 'Kyrgyz Republic', 'Korea', \"Cote d'Ivoire\", 'Tanzania', 'Vietnam', 'Iran', \"Cote d'Ivoire\", 'Turkey', 'Svalbard & Jan Mayen Islands', 'Venezuela', 'Netherlands Antilles', 'Swaziland', 'Kyrgyz Republic', 'British Indian Ocean Territory (Chagos Archipelago)', 'United States of America', 'United States Virgin Islands', 'Korea', 'Bouvet Island (Bouvetoya)', 'Vietnam', 'Micronesia', 'Saint Helena', 'Libyan Arab Jamahiriya', 'Moldova', 'British Virgin Islands', 'Bouvet Island (Bouvetoya)', 'Palestinian Territory', 'British Virgin Islands', 'United States Virgin Islands', 'Svalbard & Jan Mayen Islands', 'Libyan Arab Jamahiriya', 'Iran', 'Bolivia', 'Tanzania', 'Saint Barthelemy', 'Netherlands Antilles', 'Vietnam', 'Moldova', 'Saint Martin', 'Kyrgyz Republic', 'Saint Helena', 'Netherlands Antilles', 'Kyrgyz Republic', 'United States of America', 'Svalbard & Jan Mayen Islands', 'Bouvet Island (Bouvetoya)', 'United States of America', 'Reunion', 'Swaziland', 'United States of America', 'Tanzania', 'Taiwan', 'Svalbard & Jan Mayen Islands', 'Moldova', 'Antarctica (the territory South of 60 deg S)', 'Cape Verde', 'Taiwan', 'Reunion', 'Turkey', 'Libyan Arab Jamahiriya', 'Libyan Arab Jamahiriya', 'Svalbard & Jan Mayen Islands', 'Swaziland', \"Cote d'Ivoire\", 'Czech Republic', 'Korea', 'Slovakia (Slovak Republic)', 'British Indian Ocean Territory (Chagos Archipelago)', 'Swaziland', 'Kyrgyz Republic', 'Libyan Arab Jamahiriya', 'United States Virgin Islands', 'Iran', 'Libyan Arab Jamahiriya', 'Cape Verde', 'British Indian Ocean Territory (Chagos Archipelago)', 'Saint Barthelemy', 'Taiwan', 'British Virgin Islands', 'Palestinian Territory', 'Reunion', 'Iran', 'Korea', 'Saint Martin', 'Slovakia (Slovak Republic)', 'British Indian Ocean Territory (Chagos Archipelago)', 'Cape Verde', 'United States of America', 'Slovakia (Slovak Republic)', 'Swaziland', 'Micronesia', 'Reunion', 'Antarctica (the territory South of 60 deg S)', 'Saint Martin', 'Vietnam', 'Korea', 'Czech Republic', 'Micronesia', 'British Virgin Islands', 'Svalbard & Jan Mayen Islands', 'Slovakia (Slovak Republic)', 'Vietnam', 'Svalbard & Jan Mayen Islands', 'Vietnam', 'Czech Republic', 'Bouvet Island (Bouvetoya)', 'United States Virgin Islands', 'Venezuela', 'Korea', 'Saint Martin', 'Tanzania', 'Netherlands Antilles', 'Venezuela', 'Vietnam', 'Vietnam', 'Saint Barthelemy', 'United States of America', 'Bolivia', 'Saint Martin', 'Cape Verde', 'Saint Martin', 'British Virgin Islands', 'Bouvet Island (Bouvetoya)', 'Reunion', 'Kyrgyz Republic', 'Swaziland', 'Libyan Arab Jamahiriya', 'United States Virgin Islands', 'Taiwan', 'Cape Verde', 'Vietnam', 'Tanzania', 'Saint Barthelemy', 'Saint Helena', 'United States Virgin Islands', 'Tanzania', 'Antarctica (the territory South of 60 deg S)', 'United States of America', 'Slovakia (Slovak Republic)', 'Libyan Arab Jamahiriya', 'Antarctica (the territory South of 60 deg S)', 'Bolivia', 'Slovakia (Slovak Republic)', 'Netherlands Antilles', 'British Virgin Islands', 'Reunion', 'Czech Republic', 'British Virgin Islands', 'Micronesia', 'Libyan Arab Jamahiriya', 'Svalbard & Jan Mayen Islands', 'Moldova', 'Svalbard & Jan Mayen Islands', \"Cote d'Ivoire\", 'Bouvet Island (Bouvetoya)', 'Kyrgyz Republic', 'Bolivia', 'British Indian Ocean Territory (Chagos Archipelago)', 'Moldova', 'Saint Helena', 'British Indian Ocean Territory (Chagos Archipelago)', 'Slovakia (Slovak Republic)', 'United States Virgin Islands', 'Taiwan', 'United States of America', 'Cape Verde', 'Micronesia', 'Venezuela', 'Saint Barthelemy', 'Saint Martin', 'Antarctica (the territory South of 60 deg S)', 'Pitcairn Islands', 'Saint Martin', 'British Indian Ocean Territory (Chagos Archipelago)', 'Netherlands Antilles', 'Czech Republic', 'Vietnam', 'Venezuela', 'Reunion', 'Taiwan', 'Korea', 'Moldova', 'Korea', 'Moldova', 'Taiwan', 'Iran', 'Pitcairn Islands', 'United States of America', 'Svalbard & Jan Mayen Islands', 'Saint Martin', 'Micronesia', 'Antarctica (the territory South of 60 deg S)', 'Reunion', 'Micronesia', 'Bolivia', 'Antarctica (the territory South of 60 deg S)', 'Korea', 'Tanzania', 'Turkey', 'Venezuela', 'Saint Martin', 'British Indian Ocean Territory (Chagos Archipelago)', 'Kyrgyz Republic', \"Cote d'Ivoire\", 'Moldova', 'Swaziland', 'Czech Republic', 'Swaziland', 'Palestinian Territory', 'Antarctica (the territory South of 60 deg S)', 'Iran', 'Netherlands Antilles', 'Turkey', 'Czech Republic', 'Korea', 'Vietnam', 'Czech Republic', 'Swaziland', 'Swaziland', 'Tanzania', 'Saint Helena', 'Slovakia (Slovak Republic)', 'British Virgin Islands', 'Iran', 'Iran', 'Korea', 'Saint Helena', 'United States Virgin Islands', 'Reunion', 'United States of America', 'Moldova', 'Moldova', 'Saint Barthelemy', 'Antarctica (the territory South of 60 deg S)', 'Saint Barthelemy', 'Reunion', 'Korea', 'Micronesia', 'Turkey', 'Palestinian Territory', 'Venezuela', 'Korea', 'Micronesia', 'Bouvet Island (Bouvetoya)', \"Cote d'Ivoire\", 'Swaziland', 'Korea', 'Antarctica (the territory South of 60 deg S)', 'British Indian Ocean Territory (Chagos Archipelago)', 'Venezuela', 'Cape Verde', 'Libyan Arab Jamahiriya', 'Kyrgyz Republic', 'Palestinian Territory', 'Reunion', 'Antarctica (the territory South of 60 deg S)', 'Cape Verde', \"Cote d'Ivoire\", 'Iran', 'Pitcairn Islands', 'Vietnam', 'Saint Martin', 'Korea', 'United States Virgin Islands', 'Taiwan', 'Slovakia (Slovak Republic)', 'Taiwan', \"Cote d'Ivoire\", 'United States of America', 'United States of America', 'Netherlands Antilles', 'Antarctica (the territory South of 60 deg S)', 'Moldova', 'Korea', 'Venezuela', 'United States of America', 'Slovakia (Slovak Republic)', 'Palestinian Territory', 'Bouvet Island (Bouvetoya)', 'Svalbard & Jan Mayen Islands', 'Saint Helena', 'Palestinian Territory', \"Cote d'Ivoire\", 'Iran', 'Czech Republic', 'Vietnam', 'Vietnam', 'Taiwan', 'Swaziland', 'Cape Verde', 'Libyan Arab Jamahiriya', 'Iran', 'Moldova', 'United States Virgin Islands', 'Bouvet Island (Bouvetoya)', 'Saint Helena', 'Taiwan', 'Czech Republic', 'Libyan Arab Jamahiriya', 'Czech Republic', 'United States Virgin Islands', 'Vietnam', 'Taiwan', 'Venezuela', 'Reunion', 'Iran', 'Tanzania', 'Cape Verde', 'Palestinian Territory', 'Netherlands Antilles', 'British Virgin Islands', 'Netherlands Antilles', 'British Virgin Islands', 'Kyrgyz Republic', 'Turkey', 'Saint Barthelemy', 'Czech Republic', 'Svalbard & Jan Mayen Islands', 'United States of America', 'Svalbard & Jan Mayen Islands', 'Saint Barthelemy', 'British Virgin Islands', 'Korea', 'Venezuela', 'British Indian Ocean Territory (Chagos Archipelago)', 'British Virgin Islands', 'Taiwan', 'Venezuela', 'Swaziland', \"Cote d'Ivoire\", 'Cape Verde', 'Korea', 'British Virgin Islands', 'Czech Republic', 'Taiwan', 'British Virgin Islands', 'Moldova', 'Cape Verde', 'Kyrgyz Republic', 'Libyan Arab Jamahiriya', 'Venezuela', 'Libyan Arab Jamahiriya', 'Cape Verde', 'British Indian Ocean Territory (Chagos Archipelago)', 'Czech Republic', 'Swaziland', 'United States Virgin Islands', 'Libyan Arab Jamahiriya', 'Saint Martin', 'Cape Verde', 'Bolivia', 'Iran', 'Venezuela', 'Saint Martin', 'Reunion', 'Antarctica (the territory South of 60 deg S)', 'United States of America', 'Svalbard & Jan Mayen Islands', 'Palestinian Territory', 'Pitcairn Islands', 'British Virgin Islands', 'Turkey', \"Cote d'Ivoire\", 'Kyrgyz Republic', 'Saint Helena', 'Reunion', 'Antarctica (the territory South of 60 deg S)', 'British Virgin Islands', \"Cote d'Ivoire\", 'Saint Helena', 'Bouvet Island (Bouvetoya)', 'Czech Republic', 'Taiwan', 'Taiwan', 'United States Virgin Islands', 'Kyrgyz Republic', 'Moldova', 'Netherlands Antilles', 'Saint Martin', 'Antarctica (the territory South of 60 deg S)', 'Korea', 'Reunion', 'Saint Martin', 'Korea', 'Pitcairn Islands', 'Iran', 'Antarctica (the territory South of 60 deg S)', 'Reunion', 'Slovakia (Slovak Republic)', 'Pitcairn Islands', 'Moldova', 'Libyan Arab Jamahiriya', 'Vietnam', \"Cote d'Ivoire\", 'Venezuela', 'Libyan Arab Jamahiriya', 'Kyrgyz Republic', 'Saint Martin', 'Bouvet Island (Bouvetoya)', 'Palestinian Territory', 'British Indian Ocean Territory (Chagos Archipelago)', 'Swaziland', 'British Virgin Islands', 'Swaziland', 'Taiwan', 'Kyrgyz Republic', 'Venezuela', 'Cape Verde', 'Bolivia', 'Taiwan', 'United States of America', 'Venezuela', 'Kyrgyz Republic', 'Czech Republic', 'Iran', 'Reunion', 'Pitcairn Islands', 'Cape Verde', 'Iran', 'Svalbard & Jan Mayen Islands', 'Reunion', \"Cote d'Ivoire\", 'Saint Barthelemy', 'Saint Barthelemy', 'Saint Helena', 'Turkey', 'Turkey', 'Tanzania', 'Taiwan', 'British Virgin Islands', 'Pitcairn Islands', 'Antarctica (the territory South of 60 deg S)', 'Saint Helena', 'Antarctica (the territory South of 60 deg S)', 'Moldova', 'Saint Barthelemy', 'Saint Martin', 'British Virgin Islands', 'Swaziland', 'United States of America', 'Tanzania', 'Libyan Arab Jamahiriya', 'Netherlands Antilles', 'Cape Verde', 'Antarctica (the territory South of 60 deg S)', 'Palestinian Territory', 'Swaziland', 'Svalbard & Jan Mayen Islands', 'United States Virgin Islands', 'Saint Barthelemy', 'Tanzania', 'British Indian Ocean Territory (Chagos Archipelago)', 'Bolivia', 'Svalbard & Jan Mayen Islands', 'Taiwan', 'Moldova', 'Vietnam', \"Cote d'Ivoire\", 'Saint Barthelemy', 'Moldova', 'Saint Helena', 'Kyrgyz Republic', 'Tanzania', 'Pitcairn Islands', 'Slovakia (Slovak Republic)', 'Pitcairn Islands', 'Bouvet Island (Bouvetoya)', 'Antarctica (the territory South of 60 deg S)', 'Slovakia (Slovak Republic)', 'Turkey', 'Saint Martin', 'Netherlands Antilles', 'Svalbard & Jan Mayen Islands', 'Turkey', 'Antarctica (the territory South of 60 deg S)', 'Swaziland', 'Antarctica (the territory South of 60 deg S)', 'Palestinian Territory', 'Svalbard & Jan Mayen Islands', 'United States of America', 'Taiwan', 'Micronesia', 'Saint Barthelemy', 'Reunion', 'Korea', 'Taiwan', 'British Indian Ocean Territory (Chagos Archipelago)', 'Bouvet Island (Bouvetoya)', 'Iran', 'Palestinian Territory', 'Bolivia', 'Svalbard & Jan Mayen Islands', 'Slovakia (Slovak Republic)', 'Netherlands Antilles', 'Antarctica (the territory South of 60 deg S)', 'Svalbard & Jan Mayen Islands', 'Turkey', 'Saint Martin', 'Cape Verde', 'Pitcairn Islands', 'Pitcairn Islands', \"Cote d'Ivoire\", 'Korea', 'Iran', 'United States Virgin Islands', 'Svalbard & Jan Mayen Islands', 'Saint Barthelemy', 'Slovakia (Slovak Republic)', 'Libyan Arab Jamahiriya', 'Slovakia (Slovak Republic)', 'Palestinian Territory', 'United States of America', 'Netherlands Antilles', 'Saint Barthelemy', 'Reunion', 'Czech Republic', 'Cape Verde', 'British Indian Ocean Territory (Chagos Archipelago)', 'Tanzania', 'Saint Barthelemy', 'Korea', 'Moldova', 'Czech Republic', 'Palestinian Territory', 'Venezuela', 'United States of America', 'Palestinian Territory', 'Svalbard & Jan Mayen Islands', 'Turkey', 'Micronesia', 'Saint Martin', 'Tanzania', 'Turkey', 'Slovakia (Slovak Republic)', 'Bouvet Island (Bouvetoya)', 'Bolivia', 'Slovakia (Slovak Republic)', 'Slovakia (Slovak Republic)', 'Taiwan', 'British Virgin Islands', 'Reunion', 'Saint Helena', 'Tanzania', 'Korea', 'Swaziland', 'United States Virgin Islands', 'Czech Republic', 'Micronesia', 'Taiwan', 'Tanzania', 'United States of America', 'Reunion', 'United States of America', 'Netherlands Antilles', 'Micronesia', 'Turkey', 'United States of America', 'Micronesia', 'Netherlands Antilles', 'United States Virgin Islands', 'United States Virgin Islands', 'Iran', 'Reunion', 'Korea', 'Svalbard & Jan Mayen Islands', 'Moldova', 'United States Virgin Islands', 'Svalbard & Jan Mayen Islands', \"Cote d'Ivoire\", 'Bolivia', 'Turkey', 'Netherlands Antilles', 'Tanzania', 'Reunion', 'Libyan Arab Jamahiriya', 'Kyrgyz Republic', 'Vietnam', 'Reunion', 'Korea', 'Taiwan', 'Antarctica (the territory South of 60 deg S)', 'British Virgin Islands', 'Micronesia', 'United States Virgin Islands', 'Turkey', 'Saint Barthelemy', 'Bolivia', 'Libyan Arab Jamahiriya', 'Micronesia', 'Reunion', 'Cape Verde', 'Czech Republic', 'Netherlands Antilles', 'Saint Barthelemy', 'Saint Barthelemy', 'British Indian Ocean Territory (Chagos Archipelago)', 'Vietnam', 'Korea', 'United States Virgin Islands', 'British Indian Ocean Territory (Chagos Archipelago)', 'United States Virgin Islands', 'Saint Barthelemy', 'Libyan Arab Jamahiriya', 'Pitcairn Islands', 'Cape Verde', 'Moldova', 'Palestinian Territory', 'Bouvet Island (Bouvetoya)', 'Iran', 'Reunion', 'Turkey', 'Venezuela', 'Saint Martin', 'Libyan Arab Jamahiriya', 'Cape Verde', 'United States Virgin Islands', 'Cape Verde', 'Turkey', 'Libyan Arab Jamahiriya', 'Czech Republic', 'United States of America', 'Czech Republic', 'Saint Helena', 'Cape Verde', 'Tanzania', 'Palestinian Territory', 'Micronesia', 'Saint Helena', 'Saint Barthelemy', 'Pitcairn Islands', 'Korea', 'Korea', 'Korea', 'British Virgin Islands', 'Tanzania', 'Saint Martin']\n"
     ]
    }
   ],
   "source": [
    "# Get the ISO 3166 country list\n",
    "iso_countries = {country.name for country in pycountry.countries}\n",
    "\n",
    "# Check which countries are not in the ISO 3166 list\n",
    "non_iso_countries = [country for country in streaming['Country'] if country not in iso_countries]\n",
    "\n",
    "# Count how many match\n",
    "matched_countries = len(streaming['Country']) - len(non_iso_countries)\n",
    "\n",
    "# Count the number of non-matching countries\n",
    "non_matching_count = len(non_iso_countries)\n",
    "\n",
    "# Display the number of matches and non-matching countries\n",
    "print(\"\\nTotal unique countries in dataset:\", len(streaming['Country']))\n",
    "print(\"Number of countries that match the ISO 3166 list:\", matched_countries)\n",
    "print(\"\\nNumber of countries not matched to ISO 3166 list:\", non_matching_count)\n",
    "\n",
    "# Display the countries that don't match the ISO 3166 list\n",
    "print(\"Countries not in the ISO 3166 list:\")\n",
    "print(non_iso_countries)"
   ]
  },
  {
   "cell_type": "markdown",
   "metadata": {},
   "source": [
    "- Global Reach: The data suggests a wide geographical reach, covering most countries worldwide. This diversity could indicate that the platform is globally accessible or popular across many regions.\n",
    "\n",
    "- Some country names might not match due to common variations or outdated names."
   ]
  },
  {
   "cell_type": "markdown",
   "metadata": {},
   "source": [
    "##### Genre"
   ]
  },
  {
   "cell_type": "code",
   "execution_count": 968,
   "metadata": {},
   "outputs": [
    {
     "data": {
      "text/plain": [
       "6"
      ]
     },
     "execution_count": 968,
     "metadata": {},
     "output_type": "execute_result"
    }
   ],
   "source": [
    "streaming['Genre'].nunique()"
   ]
  },
  {
   "cell_type": "code",
   "execution_count": 969,
   "metadata": {},
   "outputs": [
    {
     "data": {
      "text/plain": [
       "array(['Sci-Fi', 'Comedy', 'Documentary', 'Action', 'Drama', 'Thriller'],\n",
       "      dtype=object)"
      ]
     },
     "execution_count": 969,
     "metadata": {},
     "output_type": "execute_result"
    }
   ],
   "source": [
    "streaming['Genre'].unique()"
   ]
  },
  {
   "cell_type": "code",
   "execution_count": 970,
   "metadata": {},
   "outputs": [
    {
     "name": "stdout",
     "output_type": "stream",
     "text": [
      "User count per genre:\n"
     ]
    },
    {
     "data": {
      "text/html": [
       "<div>\n",
       "<style scoped>\n",
       "    .dataframe tbody tr th:only-of-type {\n",
       "        vertical-align: middle;\n",
       "    }\n",
       "\n",
       "    .dataframe tbody tr th {\n",
       "        vertical-align: top;\n",
       "    }\n",
       "\n",
       "    .dataframe thead th {\n",
       "        text-align: right;\n",
       "    }\n",
       "</style>\n",
       "<table border=\"1\" class=\"dataframe\">\n",
       "  <thead>\n",
       "    <tr style=\"text-align: right;\">\n",
       "      <th></th>\n",
       "      <th>Genre</th>\n",
       "      <th>User_Count_per_Genre</th>\n",
       "    </tr>\n",
       "  </thead>\n",
       "  <tbody>\n",
       "    <tr>\n",
       "      <th>2</th>\n",
       "      <td>Documentary</td>\n",
       "      <td>1065</td>\n",
       "    </tr>\n",
       "    <tr>\n",
       "      <th>5</th>\n",
       "      <td>Thriller</td>\n",
       "      <td>1050</td>\n",
       "    </tr>\n",
       "    <tr>\n",
       "      <th>4</th>\n",
       "      <td>Sci-Fi</td>\n",
       "      <td>1041</td>\n",
       "    </tr>\n",
       "    <tr>\n",
       "      <th>1</th>\n",
       "      <td>Comedy</td>\n",
       "      <td>1033</td>\n",
       "    </tr>\n",
       "    <tr>\n",
       "      <th>0</th>\n",
       "      <td>Action</td>\n",
       "      <td>1030</td>\n",
       "    </tr>\n",
       "    <tr>\n",
       "      <th>3</th>\n",
       "      <td>Drama</td>\n",
       "      <td>995</td>\n",
       "    </tr>\n",
       "  </tbody>\n",
       "</table>\n",
       "</div>"
      ],
      "text/plain": [
       "         Genre  User_Count_per_Genre\n",
       "2  Documentary                  1065\n",
       "5     Thriller                  1050\n",
       "4       Sci-Fi                  1041\n",
       "1       Comedy                  1033\n",
       "0       Action                  1030\n",
       "3        Drama                   995"
      ]
     },
     "execution_count": 970,
     "metadata": {},
     "output_type": "execute_result"
    }
   ],
   "source": [
    "# Group by Genre and count unique User_IDs\n",
    "user_count_per_genre = streaming.groupby('Genre')['User_ID'].nunique().reset_index()\n",
    "\n",
    "# Rename columns for clarity\n",
    "user_count_per_genre.columns = ['Genre', 'User_Count_per_Genre']\n",
    "\n",
    "# Sort by User_Count_per_Genre in descending order\n",
    "user_count_per_genre_sorted = user_count_per_genre.sort_values(by='User_Count_per_Genre', ascending=False)\n",
    "\n",
    "# Display the user count for each genre\n",
    "print(\"User count per genre:\")\n",
    "user_count_per_genre_sorted"
   ]
  },
  {
   "cell_type": "code",
   "execution_count": 971,
   "metadata": {},
   "outputs": [
    {
     "data": {
      "image/png": "[encoded data removed]",
      "text/plain": [
       "<Figure size 1200x600 with 1 Axes>"
      ]
     },
     "metadata": {},
     "output_type": "display_data"
    }
   ],
   "source": [
    "# Visualize the user count per genre\n",
    "plt.figure(figsize=(12, 6))\n",
    "sns.barplot(x='User_Count_per_Genre', y='Genre', data=user_count_per_genre_sorted, palette='viridis')\n",
    "plt.title('User Count per Genre')\n",
    "plt.xlabel('Number of Users')\n",
    "plt.ylabel('Genre')\n",
    "plt.tight_layout()  # Ensure everything fits well within the figure area\n",
    "plt.show()"
   ]
  },
  {
   "cell_type": "markdown",
   "metadata": {},
   "source": [
    "- Diverse Interests: The data shows a broad spectrum of interests among users, with substantial engagement across various genres, from educational documentaries to high-stakes thrillers and sci-fi adventures.\n",
    "\n",
    "- Content Strategy Implications: The high user counts in these genres suggest areas where the streaming service can continue to invest in and expand its content library to retain and attract viewers.\n",
    "\n",
    "- Potential for Niche Content: While genres like Drama are less popular compared to the top genres, they still have a considerable user base, indicating potential for targeted content offerings to cater to specific audience segments."
   ]
  },
  {
   "cell_type": "markdown",
   "metadata": {},
   "source": [
    "##### Age"
   ]
  },
  {
   "cell_type": "code",
   "execution_count": 972,
   "metadata": {},
   "outputs": [
    {
     "data": {
      "text/plain": [
       "61"
      ]
     },
     "execution_count": 972,
     "metadata": {},
     "output_type": "execute_result"
    }
   ],
   "source": [
    "streaming['Age'].nunique()"
   ]
  },
  {
   "cell_type": "code",
   "execution_count": 973,
   "metadata": {},
   "outputs": [
    {
     "data": {
      "text/plain": [
       "array([56, 52, 14, 36, 31, 53, 10, 28, 41, 40, 58, 66, 57, 43, 67, 46, 27,\n",
       "       62, 42, 24, 64, 68, 60, 37, 45, 26, 18, 15, 25, 32, 54, 17, 22, 34,\n",
       "       39, 59, 38, 44, 61, 51, 33, 12, 70, 65, 63, 29, 23, 21, 55, 13, 49,\n",
       "       11, 48, 30, 16, 20, 50, 69, 47, 19, 35], dtype=int64)"
      ]
     },
     "execution_count": 973,
     "metadata": {},
     "output_type": "execute_result"
    }
   ],
   "source": [
    "streaming['Age'].unique()"
   ]
  },
  {
   "cell_type": "code",
   "execution_count": 974,
   "metadata": {},
   "outputs": [
    {
     "data": {
      "image/png": "[encoded data removed]",
      "text/plain": [
       "<Figure size 1200x600 with 1 Axes>"
      ]
     },
     "metadata": {},
     "output_type": "display_data"
    }
   ],
   "source": [
    "# Alternatively, you can use a box plot to visualize the age distribution\n",
    "plt.figure(figsize=(12, 6))\n",
    "sns.boxplot(x=streaming['Age'], color='green')\n",
    "plt.title('Box Plot of User Ages')\n",
    "plt.xlabel('Age')\n",
    "plt.show()"
   ]
  },
  {
   "cell_type": "markdown",
   "metadata": {},
   "source": [
    "- Broad Age Appeal: The platform attracts users from a wide range of ages, from young teenagers (10 years old) to older adults (70 years old). This suggests that the content is appealing to a diverse audience. Additionally, the ages are spread evenly from the minimum to the maximum value, with no significant outliers pulling the distribution to either side.\n",
    "\n",
    "- Peaks in Certain Age Groups: The median age of the audience is 40 years old. The Interquartile Range (IQR) stretches from 25 to 55 years, placing the middle 50% of the data within this span. Young Adults (20-35 years) and Mid-Age Users (35-50 years) constitute the most significant portions of the user base. These age groups are typically tech-savvy and likely to engage with streaming services frequently. This demographic likely includes working professionals and parents who contribute significantly to the viewership.\n",
    "\n",
    "- Symmetry and Skewness: The position of the median within the box and the roughly equal length of the whiskers indicate that the data has a symmetrical distribution. The data is evenly spread around the median, indicating that there is no significant skew towards younger or older users."
   ]
  },
  {
   "cell_type": "markdown",
   "metadata": {},
   "source": [
    "##### Gender"
   ]
  },
  {
   "cell_type": "code",
   "execution_count": 975,
   "metadata": {},
   "outputs": [
    {
     "data": {
      "text/plain": [
       "2"
      ]
     },
     "execution_count": 975,
     "metadata": {},
     "output_type": "execute_result"
    }
   ],
   "source": [
    "streaming['Gender'].nunique()"
   ]
  },
  {
   "cell_type": "code",
   "execution_count": 976,
   "metadata": {},
   "outputs": [
    {
     "data": {
      "text/plain": [
       "array(['Female', 'Male'], dtype=object)"
      ]
     },
     "execution_count": 976,
     "metadata": {},
     "output_type": "execute_result"
    }
   ],
   "source": [
    "streaming['Gender'].unique()"
   ]
  },
  {
   "cell_type": "code",
   "execution_count": 977,
   "metadata": {},
   "outputs": [
    {
     "name": "stdout",
     "output_type": "stream",
     "text": [
      "User count by gender:\n"
     ]
    },
    {
     "data": {
      "text/html": [
       "<div>\n",
       "<style scoped>\n",
       "    .dataframe tbody tr th:only-of-type {\n",
       "        vertical-align: middle;\n",
       "    }\n",
       "\n",
       "    .dataframe tbody tr th {\n",
       "        vertical-align: top;\n",
       "    }\n",
       "\n",
       "    .dataframe thead th {\n",
       "        text-align: right;\n",
       "    }\n",
       "</style>\n",
       "<table border=\"1\" class=\"dataframe\">\n",
       "  <thead>\n",
       "    <tr style=\"text-align: right;\">\n",
       "      <th></th>\n",
       "      <th>Gender</th>\n",
       "      <th>User_Count_per_Gender</th>\n",
       "    </tr>\n",
       "  </thead>\n",
       "  <tbody>\n",
       "    <tr>\n",
       "      <th>0</th>\n",
       "      <td>Female</td>\n",
       "      <td>3148</td>\n",
       "    </tr>\n",
       "    <tr>\n",
       "      <th>1</th>\n",
       "      <td>Male</td>\n",
       "      <td>3066</td>\n",
       "    </tr>\n",
       "  </tbody>\n",
       "</table>\n",
       "</div>"
      ],
      "text/plain": [
       "   Gender  User_Count_per_Gender\n",
       "0  Female                   3148\n",
       "1    Male                   3066"
      ]
     },
     "execution_count": 977,
     "metadata": {},
     "output_type": "execute_result"
    }
   ],
   "source": [
    "# Group by Gender and count unique User_IDs\n",
    "gender_user_counts = streaming.groupby('Gender')['User_ID'].nunique().reset_index()\n",
    "\n",
    "# Rename columns for clarity\n",
    "gender_user_counts.columns = ['Gender', 'User_Count_per_Gender']\n",
    "\n",
    "# Display the user count for each gender\n",
    "print(\"User count by gender:\")\n",
    "gender_user_counts"
   ]
  },
  {
   "cell_type": "markdown",
   "metadata": {},
   "source": [
    "The streaming platform has a nearly balanced gender distribution among its users, with a slight majority of female users. This indicates that the content and services provided by the platform appeal to both genders almost equally, suggesting a diverse and inclusive user base."
   ]
  },
  {
   "cell_type": "markdown",
   "metadata": {},
   "source": [
    "##### Subscription_Status"
   ]
  },
  {
   "cell_type": "code",
   "execution_count": 978,
   "metadata": {},
   "outputs": [
    {
     "data": {
      "text/plain": [
       "2"
      ]
     },
     "execution_count": 978,
     "metadata": {},
     "output_type": "execute_result"
    }
   ],
   "source": [
    "streaming['Subscription_Status'].nunique()"
   ]
  },
  {
   "cell_type": "code",
   "execution_count": 979,
   "metadata": {},
   "outputs": [
    {
     "data": {
      "text/plain": [
       "array(['Premium', 'Free'], dtype=object)"
      ]
     },
     "execution_count": 979,
     "metadata": {},
     "output_type": "execute_result"
    }
   ],
   "source": [
    "streaming['Subscription_Status'].unique()"
   ]
  },
  {
   "cell_type": "code",
   "execution_count": 980,
   "metadata": {},
   "outputs": [
    {
     "name": "stdout",
     "output_type": "stream",
     "text": [
      "User count by subscription status:\n"
     ]
    },
    {
     "data": {
      "text/html": [
       "<div>\n",
       "<style scoped>\n",
       "    .dataframe tbody tr th:only-of-type {\n",
       "        vertical-align: middle;\n",
       "    }\n",
       "\n",
       "    .dataframe tbody tr th {\n",
       "        vertical-align: top;\n",
       "    }\n",
       "\n",
       "    .dataframe thead th {\n",
       "        text-align: right;\n",
       "    }\n",
       "</style>\n",
       "<table border=\"1\" class=\"dataframe\">\n",
       "  <thead>\n",
       "    <tr style=\"text-align: right;\">\n",
       "      <th></th>\n",
       "      <th>Subscription_Status</th>\n",
       "      <th>User_Count_per_Subscription</th>\n",
       "    </tr>\n",
       "  </thead>\n",
       "  <tbody>\n",
       "    <tr>\n",
       "      <th>0</th>\n",
       "      <td>Free</td>\n",
       "      <td>3111</td>\n",
       "    </tr>\n",
       "    <tr>\n",
       "      <th>1</th>\n",
       "      <td>Premium</td>\n",
       "      <td>3103</td>\n",
       "    </tr>\n",
       "  </tbody>\n",
       "</table>\n",
       "</div>"
      ],
      "text/plain": [
       "  Subscription_Status  User_Count_per_Subscription\n",
       "0                Free                         3111\n",
       "1             Premium                         3103"
      ]
     },
     "execution_count": 980,
     "metadata": {},
     "output_type": "execute_result"
    }
   ],
   "source": [
    "# Group by Subscription_Status and count unique User_IDs\n",
    "subscription_user_counts = streaming.groupby('Subscription_Status')['User_ID'].nunique().reset_index()\n",
    "\n",
    "# Rename columns for clarity\n",
    "subscription_user_counts.columns = ['Subscription_Status', 'User_Count_per_Subscription']\n",
    "\n",
    "# Display the user count for each subscription status\n",
    "print(\"User count by subscription status:\")\n",
    "subscription_user_counts"
   ]
  },
  {
   "cell_type": "markdown",
   "metadata": {},
   "source": [
    "The streaming platform has an almost equal distribution of free and premium users, indicating a balanced appeal to both non-paying and paying users. This suggests that the platform successfully caters to a wide audience, offering valuable content and services for both free and premium users. ​"
   ]
  },
  {
   "cell_type": "markdown",
   "metadata": {},
   "source": [
    "##### Ratings"
   ]
  },
  {
   "cell_type": "code",
   "execution_count": 981,
   "metadata": {},
   "outputs": [
    {
     "data": {
      "text/plain": [
       "5"
      ]
     },
     "execution_count": 981,
     "metadata": {},
     "output_type": "execute_result"
    }
   ],
   "source": [
    "streaming['Ratings'].nunique()"
   ]
  },
  {
   "cell_type": "code",
   "execution_count": 982,
   "metadata": {},
   "outputs": [
    {
     "data": {
      "text/plain": [
       "array([3, 2, 4, 1, 5], dtype=int64)"
      ]
     },
     "execution_count": 982,
     "metadata": {},
     "output_type": "execute_result"
    }
   ],
   "source": [
    "streaming['Ratings'].unique()"
   ]
  },
  {
   "cell_type": "code",
   "execution_count": 983,
   "metadata": {},
   "outputs": [
    {
     "name": "stdout",
     "output_type": "stream",
     "text": [
      "Ratings sorted by video count:\n"
     ]
    },
    {
     "data": {
      "text/html": [
       "<div>\n",
       "<style scoped>\n",
       "    .dataframe tbody tr th:only-of-type {\n",
       "        vertical-align: middle;\n",
       "    }\n",
       "\n",
       "    .dataframe tbody tr th {\n",
       "        vertical-align: top;\n",
       "    }\n",
       "\n",
       "    .dataframe thead th {\n",
       "        text-align: right;\n",
       "    }\n",
       "</style>\n",
       "<table border=\"1\" class=\"dataframe\">\n",
       "  <thead>\n",
       "    <tr style=\"text-align: right;\">\n",
       "      <th></th>\n",
       "      <th>Ratings</th>\n",
       "      <th>Video_Count</th>\n",
       "    </tr>\n",
       "  </thead>\n",
       "  <tbody>\n",
       "    <tr>\n",
       "      <th>2</th>\n",
       "      <td>3</td>\n",
       "      <td>1301</td>\n",
       "    </tr>\n",
       "    <tr>\n",
       "      <th>1</th>\n",
       "      <td>2</td>\n",
       "      <td>1242</td>\n",
       "    </tr>\n",
       "    <tr>\n",
       "      <th>0</th>\n",
       "      <td>1</td>\n",
       "      <td>1237</td>\n",
       "    </tr>\n",
       "    <tr>\n",
       "      <th>3</th>\n",
       "      <td>4</td>\n",
       "      <td>1230</td>\n",
       "    </tr>\n",
       "    <tr>\n",
       "      <th>4</th>\n",
       "      <td>5</td>\n",
       "      <td>1204</td>\n",
       "    </tr>\n",
       "  </tbody>\n",
       "</table>\n",
       "</div>"
      ],
      "text/plain": [
       "   Ratings  Video_Count\n",
       "2        3         1301\n",
       "1        2         1242\n",
       "0        1         1237\n",
       "3        4         1230\n",
       "4        5         1204"
      ]
     },
     "execution_count": 983,
     "metadata": {},
     "output_type": "execute_result"
    }
   ],
   "source": [
    "# Group by Ratings and count the number of Video_IDs for each rating\n",
    "ratings_video_count = streaming.groupby('Ratings')['Video_ID'].count().reset_index()\n",
    "\n",
    "# Rename columns for clarity\n",
    "ratings_video_count.columns = ['Ratings', 'Video_Count']\n",
    "\n",
    "# Sort by Video_Count in descending order\n",
    "ratings_video_count_sorted = ratings_video_count.sort_values(by='Video_Count', ascending=False)\n",
    "\n",
    "# Display the sorted ratings by video count\n",
    "print(\"Ratings sorted by video count:\")\n",
    "ratings_video_count_sorted"
   ]
  },
  {
   "cell_type": "markdown",
   "metadata": {},
   "source": [
    "The majority of videos have a rating of 3, followed by ratings 2 and 1. Higher ratings of 4 and 5 have slightly fewer videos, indicating that while there is a distribution across all ratings, the middle rating (3) is the most common. This suggests that user satisfaction is generally moderate, with a significant portion of content receiving average ratings. "
   ]
  },
  {
   "cell_type": "markdown",
   "metadata": {},
   "source": [
    "*Premium Users*"
   ]
  },
  {
   "cell_type": "code",
   "execution_count": 984,
   "metadata": {},
   "outputs": [
    {
     "name": "stdout",
     "output_type": "stream",
     "text": [
      "Premium users' ratings sorted by video count:\n"
     ]
    },
    {
     "data": {
      "text/html": [
       "<div>\n",
       "<style scoped>\n",
       "    .dataframe tbody tr th:only-of-type {\n",
       "        vertical-align: middle;\n",
       "    }\n",
       "\n",
       "    .dataframe tbody tr th {\n",
       "        vertical-align: top;\n",
       "    }\n",
       "\n",
       "    .dataframe thead th {\n",
       "        text-align: right;\n",
       "    }\n",
       "</style>\n",
       "<table border=\"1\" class=\"dataframe\">\n",
       "  <thead>\n",
       "    <tr style=\"text-align: right;\">\n",
       "      <th></th>\n",
       "      <th>Ratings</th>\n",
       "      <th>Video_Count</th>\n",
       "    </tr>\n",
       "  </thead>\n",
       "  <tbody>\n",
       "    <tr>\n",
       "      <th>3</th>\n",
       "      <td>4</td>\n",
       "      <td>655</td>\n",
       "    </tr>\n",
       "    <tr>\n",
       "      <th>2</th>\n",
       "      <td>3</td>\n",
       "      <td>636</td>\n",
       "    </tr>\n",
       "    <tr>\n",
       "      <th>1</th>\n",
       "      <td>2</td>\n",
       "      <td>624</td>\n",
       "    </tr>\n",
       "    <tr>\n",
       "      <th>0</th>\n",
       "      <td>1</td>\n",
       "      <td>621</td>\n",
       "    </tr>\n",
       "    <tr>\n",
       "      <th>4</th>\n",
       "      <td>5</td>\n",
       "      <td>567</td>\n",
       "    </tr>\n",
       "  </tbody>\n",
       "</table>\n",
       "</div>"
      ],
      "text/plain": [
       "   Ratings  Video_Count\n",
       "3        4          655\n",
       "2        3          636\n",
       "1        2          624\n",
       "0        1          621\n",
       "4        5          567"
      ]
     },
     "execution_count": 984,
     "metadata": {},
     "output_type": "execute_result"
    }
   ],
   "source": [
    "# Filter the dataset for Premium users\n",
    "premium_users = streaming[streaming['Subscription_Status'] == 'Premium']\n",
    "\n",
    "# Group by Ratings and count the number of Video_IDs for each rating\n",
    "premium_ratings_count = premium_users.groupby('Ratings')['Video_ID'].count().reset_index()\n",
    "\n",
    "# Rename columns for clarity\n",
    "premium_ratings_count.columns = ['Ratings', 'Video_Count']\n",
    "\n",
    "# Sort by Video_Count in descending order\n",
    "premium_ratings_count_sorted = premium_ratings_count.sort_values(by='Video_Count', ascending=False)\n",
    "\n",
    "# Display the sorted ratings by video count for Premium users\n",
    "print(\"Premium users' ratings sorted by video count:\")\n",
    "premium_ratings_count_sorted"
   ]
  },
  {
   "cell_type": "markdown",
   "metadata": {},
   "source": [
    "Premium users tend to rate videos slightly higher on average, with the most common rating being 4. This suggests that Premium users generally have a positive experience with the content, as indicated by the higher frequency of 4-star ratings. However, there is still a significant number of videos rated 3, 2, and 1, indicating that not all content meets the high expectations of Premium users. The least common rating is 5, suggesting that while Premium users appreciate the content, there is room for improvement to achieve the highest level of satisfaction."
   ]
  },
  {
   "cell_type": "markdown",
   "metadata": {},
   "source": [
    "*Free users*"
   ]
  },
  {
   "cell_type": "code",
   "execution_count": 985,
   "metadata": {},
   "outputs": [
    {
     "name": "stdout",
     "output_type": "stream",
     "text": [
      "Free users' ratings sorted by video count:\n"
     ]
    },
    {
     "data": {
      "text/html": [
       "<div>\n",
       "<style scoped>\n",
       "    .dataframe tbody tr th:only-of-type {\n",
       "        vertical-align: middle;\n",
       "    }\n",
       "\n",
       "    .dataframe tbody tr th {\n",
       "        vertical-align: top;\n",
       "    }\n",
       "\n",
       "    .dataframe thead th {\n",
       "        text-align: right;\n",
       "    }\n",
       "</style>\n",
       "<table border=\"1\" class=\"dataframe\">\n",
       "  <thead>\n",
       "    <tr style=\"text-align: right;\">\n",
       "      <th></th>\n",
       "      <th>Ratings</th>\n",
       "      <th>Video_Count</th>\n",
       "    </tr>\n",
       "  </thead>\n",
       "  <tbody>\n",
       "    <tr>\n",
       "      <th>2</th>\n",
       "      <td>3</td>\n",
       "      <td>665</td>\n",
       "    </tr>\n",
       "    <tr>\n",
       "      <th>4</th>\n",
       "      <td>5</td>\n",
       "      <td>637</td>\n",
       "    </tr>\n",
       "    <tr>\n",
       "      <th>1</th>\n",
       "      <td>2</td>\n",
       "      <td>618</td>\n",
       "    </tr>\n",
       "    <tr>\n",
       "      <th>0</th>\n",
       "      <td>1</td>\n",
       "      <td>616</td>\n",
       "    </tr>\n",
       "    <tr>\n",
       "      <th>3</th>\n",
       "      <td>4</td>\n",
       "      <td>575</td>\n",
       "    </tr>\n",
       "  </tbody>\n",
       "</table>\n",
       "</div>"
      ],
      "text/plain": [
       "   Ratings  Video_Count\n",
       "2        3          665\n",
       "4        5          637\n",
       "1        2          618\n",
       "0        1          616\n",
       "3        4          575"
      ]
     },
     "execution_count": 985,
     "metadata": {},
     "output_type": "execute_result"
    }
   ],
   "source": [
    "# Filter the dataset for Free users\n",
    "free_users = streaming[streaming['Subscription_Status'] == 'Free']\n",
    "\n",
    "# Group by Ratings and count the number of Video_IDs for each rating\n",
    "free_ratings_count = free_users.groupby('Ratings')['Video_ID'].count().reset_index()\n",
    "\n",
    "# Rename columns for clarity\n",
    "free_ratings_count.columns = ['Ratings', 'Video_Count']\n",
    "\n",
    "# Sort by Video_Count in descending order\n",
    "free_ratings_count_sorted = free_ratings_count.sort_values(by='Video_Count', ascending=False)\n",
    "\n",
    "# Display the sorted ratings by video count for Free users\n",
    "print(\"Free users' ratings sorted by video count:\")\n",
    "free_ratings_count_sorted"
   ]
  },
  {
   "cell_type": "markdown",
   "metadata": {},
   "source": [
    "Free users tend to give a balanced range of ratings, with the most common rating being 3. Interestingly, the highest rating (5) is also frequently given by Free users, indicating that many find the content highly satisfactory. However, there is still a substantial number of lower ratings (2 and 1), suggesting mixed experiences. The relatively lower frequency of 4-star ratings compared to 5-star ratings indicates that Free users might have polarized opinions about the content, either finding it excellent or mediocre."
   ]
  },
  {
   "cell_type": "markdown",
   "metadata": {},
   "source": [
    "*Comparison between Premium and Free Users*"
   ]
  },
  {
   "cell_type": "code",
   "execution_count": 986,
   "metadata": {},
   "outputs": [
    {
     "data": {
      "image/png": "[encoded data removed]",
      "text/plain": [
       "<Figure size 1200x600 with 1 Axes>"
      ]
     },
     "metadata": {},
     "output_type": "display_data"
    }
   ],
   "source": [
    "# Combine the data\n",
    "premium_ratings_count_sorted['Subscription_Status'] = 'Premium'\n",
    "free_ratings_count_sorted['Subscription_Status'] = 'Free'\n",
    "combined_ratings_count = pd.concat([premium_ratings_count_sorted, free_ratings_count_sorted])\n",
    "\n",
    "# Plot the grouped bar plot\n",
    "plt.figure(figsize=(12, 6))\n",
    "sns.barplot(x='Ratings', y='Video_Count', hue='Subscription_Status', data=combined_ratings_count, palette='viridis')\n",
    "plt.title('Comparison of Ratings by Premium and Free Users')\n",
    "plt.xlabel('Ratings')\n",
    "plt.ylabel('Number of Videos')\n",
    "plt.legend(title='Subscription Status')\n",
    "plt.show()"
   ]
  },
  {
   "cell_type": "markdown",
   "metadata": {},
   "source": [
    "- Higher Positive Ratings: Premium users most commonly rate videos at 4, while Free users most commonly rate videos at 3.\n",
    "\n",
    "- Balanced Feedback: Free users provide a more balanced range of ratings, including a significant number of 5-star ratings, indicating high satisfaction.\n",
    "\n",
    "- Polarization: Free users seem to have more polarized views, with high counts for both the highest and lower ratings, unlike Premium users who tend to give more moderate ratings (4)."
   ]
  },
  {
   "cell_type": "markdown",
   "metadata": {},
   "source": [
    "##### Languages"
   ]
  },
  {
   "cell_type": "code",
   "execution_count": 987,
   "metadata": {},
   "outputs": [
    {
     "data": {
      "text/plain": [
       "5"
      ]
     },
     "execution_count": 987,
     "metadata": {},
     "output_type": "execute_result"
    }
   ],
   "source": [
    "streaming['Languages'].nunique()"
   ]
  },
  {
   "cell_type": "code",
   "execution_count": 988,
   "metadata": {},
   "outputs": [
    {
     "data": {
      "text/plain": [
       "array(['Spanish', 'Chinese', 'German', 'French', 'English'], dtype=object)"
      ]
     },
     "execution_count": 988,
     "metadata": {},
     "output_type": "execute_result"
    }
   ],
   "source": [
    "streaming['Languages'].unique()"
   ]
  },
  {
   "cell_type": "code",
   "execution_count": 989,
   "metadata": {},
   "outputs": [
    {
     "name": "stdout",
     "output_type": "stream",
     "text": [
      "User count by language:\n"
     ]
    },
    {
     "data": {
      "text/html": [
       "<div>\n",
       "<style scoped>\n",
       "    .dataframe tbody tr th:only-of-type {\n",
       "        vertical-align: middle;\n",
       "    }\n",
       "\n",
       "    .dataframe tbody tr th {\n",
       "        vertical-align: top;\n",
       "    }\n",
       "\n",
       "    .dataframe thead th {\n",
       "        text-align: right;\n",
       "    }\n",
       "</style>\n",
       "<table border=\"1\" class=\"dataframe\">\n",
       "  <thead>\n",
       "    <tr style=\"text-align: right;\">\n",
       "      <th></th>\n",
       "      <th>Languages</th>\n",
       "      <th>User_Count_Languages</th>\n",
       "    </tr>\n",
       "  </thead>\n",
       "  <tbody>\n",
       "    <tr>\n",
       "      <th>1</th>\n",
       "      <td>English</td>\n",
       "      <td>1313</td>\n",
       "    </tr>\n",
       "    <tr>\n",
       "      <th>0</th>\n",
       "      <td>Chinese</td>\n",
       "      <td>1264</td>\n",
       "    </tr>\n",
       "    <tr>\n",
       "      <th>3</th>\n",
       "      <td>German</td>\n",
       "      <td>1257</td>\n",
       "    </tr>\n",
       "    <tr>\n",
       "      <th>4</th>\n",
       "      <td>Spanish</td>\n",
       "      <td>1196</td>\n",
       "    </tr>\n",
       "    <tr>\n",
       "      <th>2</th>\n",
       "      <td>French</td>\n",
       "      <td>1184</td>\n",
       "    </tr>\n",
       "  </tbody>\n",
       "</table>\n",
       "</div>"
      ],
      "text/plain": [
       "  Languages  User_Count_Languages\n",
       "1   English                  1313\n",
       "0   Chinese                  1264\n",
       "3    German                  1257\n",
       "4   Spanish                  1196\n",
       "2    French                  1184"
      ]
     },
     "execution_count": 989,
     "metadata": {},
     "output_type": "execute_result"
    }
   ],
   "source": [
    "# Group by Languages and count unique User_IDs\n",
    "language_user_counts = streaming.groupby('Languages')['User_ID'].nunique().reset_index()\n",
    "\n",
    "# Rename columns for clarity\n",
    "language_user_counts.columns = ['Languages', 'User_Count_Languages']\n",
    "\n",
    "# Sort by User_Count in descending order\n",
    "language_user_counts_sorted = language_user_counts.sort_values(by='User_Count_Languages', ascending=False)\n",
    "\n",
    "# Display the user count for each language\n",
    "print(\"User count by language:\")\n",
    "language_user_counts_sorted"
   ]
  },
  {
   "cell_type": "code",
   "execution_count": 990,
   "metadata": {},
   "outputs": [
    {
     "data": {
      "image/png": "[encoded data removed]",
      "text/plain": [
       "<Figure size 1200x600 with 1 Axes>"
      ]
     },
     "metadata": {},
     "output_type": "display_data"
    }
   ],
   "source": [
    "# Visualize the user count by language\n",
    "plt.figure(figsize=(12, 6))\n",
    "sns.barplot(x='User_Count_Languages', y='Languages', data=language_user_counts_sorted, palette='viridis')\n",
    "plt.title('User Count by Language')\n",
    "plt.xlabel('Number of Users')\n",
    "plt.ylabel('Languages')\n",
    "plt.show()"
   ]
  },
  {
   "cell_type": "markdown",
   "metadata": {},
   "source": [
    "- The platform has a diverse user base with a significant number of users speaking English, Chinese, German, Spanish, and French.   This diversity suggests that the platform's content and services appeal to a wide range of linguistic groups, highlighting the importance of offering multilingual support and content to cater to all users effectively.\n",
    "\n",
    "- English is the Most Common Language: With 1,313 users, English is the most commonly spoken language among the users."
   ]
  },
  {
   "cell_type": "markdown",
   "metadata": {},
   "source": [
    "##### Device_Type"
   ]
  },
  {
   "cell_type": "code",
   "execution_count": 991,
   "metadata": {},
   "outputs": [
    {
     "data": {
      "text/plain": [
       "5"
      ]
     },
     "execution_count": 991,
     "metadata": {},
     "output_type": "execute_result"
    }
   ],
   "source": [
    "streaming['Device_Type'].nunique()"
   ]
  },
  {
   "cell_type": "code",
   "execution_count": 992,
   "metadata": {},
   "outputs": [
    {
     "data": {
      "text/plain": [
       "array(['Smartphone', 'Desktop', 'Tablet', 'Laptop', 'Smart TV'],\n",
       "      dtype=object)"
      ]
     },
     "execution_count": 992,
     "metadata": {},
     "output_type": "execute_result"
    }
   ],
   "source": [
    "streaming['Device_Type'].unique()"
   ]
  },
  {
   "cell_type": "code",
   "execution_count": 993,
   "metadata": {},
   "outputs": [
    {
     "name": "stdout",
     "output_type": "stream",
     "text": [
      "User count by device type:\n"
     ]
    },
    {
     "data": {
      "text/html": [
       "<div>\n",
       "<style scoped>\n",
       "    .dataframe tbody tr th:only-of-type {\n",
       "        vertical-align: middle;\n",
       "    }\n",
       "\n",
       "    .dataframe tbody tr th {\n",
       "        vertical-align: top;\n",
       "    }\n",
       "\n",
       "    .dataframe thead th {\n",
       "        text-align: right;\n",
       "    }\n",
       "</style>\n",
       "<table border=\"1\" class=\"dataframe\">\n",
       "  <thead>\n",
       "    <tr style=\"text-align: right;\">\n",
       "      <th></th>\n",
       "      <th>Device_Type</th>\n",
       "      <th>User_Count_by_Device</th>\n",
       "    </tr>\n",
       "  </thead>\n",
       "  <tbody>\n",
       "    <tr>\n",
       "      <th>2</th>\n",
       "      <td>Smart TV</td>\n",
       "      <td>1306</td>\n",
       "    </tr>\n",
       "    <tr>\n",
       "      <th>0</th>\n",
       "      <td>Desktop</td>\n",
       "      <td>1270</td>\n",
       "    </tr>\n",
       "    <tr>\n",
       "      <th>3</th>\n",
       "      <td>Smartphone</td>\n",
       "      <td>1233</td>\n",
       "    </tr>\n",
       "    <tr>\n",
       "      <th>4</th>\n",
       "      <td>Tablet</td>\n",
       "      <td>1217</td>\n",
       "    </tr>\n",
       "    <tr>\n",
       "      <th>1</th>\n",
       "      <td>Laptop</td>\n",
       "      <td>1188</td>\n",
       "    </tr>\n",
       "  </tbody>\n",
       "</table>\n",
       "</div>"
      ],
      "text/plain": [
       "  Device_Type  User_Count_by_Device\n",
       "2    Smart TV                  1306\n",
       "0     Desktop                  1270\n",
       "3  Smartphone                  1233\n",
       "4      Tablet                  1217\n",
       "1      Laptop                  1188"
      ]
     },
     "execution_count": 993,
     "metadata": {},
     "output_type": "execute_result"
    }
   ],
   "source": [
    "# Group by Device_Type and count unique User_IDs\n",
    "device_type_user_counts = streaming.groupby('Device_Type')['User_ID'].nunique().reset_index()\n",
    "\n",
    "# Rename columns for clarity\n",
    "device_type_user_counts.columns = ['Device_Type', 'User_Count_by_Device']\n",
    "\n",
    "# Sort by User_Count in descending order\n",
    "device_type_user_counts_sorted = device_type_user_counts.sort_values(by='User_Count_by_Device', ascending=False)\n",
    "\n",
    "# Display the user count for each device type\n",
    "print(\"User count by device type:\")\n",
    "device_type_user_counts_sorted"
   ]
  },
  {
   "cell_type": "code",
   "execution_count": 994,
   "metadata": {},
   "outputs": [
    {
     "data": {
      "image/png": "[encoded data removed]",
      "text/plain": [
       "<Figure size 1200x600 with 1 Axes>"
      ]
     },
     "metadata": {},
     "output_type": "display_data"
    }
   ],
   "source": [
    "# Visualize the user count by device type\n",
    "plt.figure(figsize=(12, 6))\n",
    "sns.barplot(x='User_Count_by_Device', y='Device_Type', data=device_type_user_counts_sorted, palette='viridis')\n",
    "plt.title('User Count by Device Type')\n",
    "plt.xlabel('Number of Users')\n",
    "plt.ylabel('Device Type')\n",
    "plt.show()"
   ]
  },
  {
   "cell_type": "markdown",
   "metadata": {},
   "source": [
    "Smart TVs and Desktops are the most common devices used by the platform's users, followed closely by Smartphones, Tablets, and Laptops. This suggests that the platform is accessed on a variety of devices, with a slight preference for Smart TVs and Desktops. Ensuring a seamless user experience across these devices is crucial for maintaining user satisfaction and engagement. "
   ]
  },
  {
   "cell_type": "markdown",
   "metadata": {},
   "source": [
    "##### Location"
   ]
  },
  {
   "cell_type": "code",
   "execution_count": 995,
   "metadata": {},
   "outputs": [
    {
     "data": {
      "text/plain": [
       "5169"
      ]
     },
     "execution_count": 995,
     "metadata": {},
     "output_type": "execute_result"
    }
   ],
   "source": [
    "streaming['Location'].nunique()"
   ]
  },
  {
   "cell_type": "code",
   "execution_count": 996,
   "metadata": {},
   "outputs": [
    {
     "data": {
      "text/plain": [
       "array(['Reedshire', 'Stevenhaven', 'Vaughntown', ..., 'Lake Michealton',\n",
       "       'Lloydland', 'Timothystad'], dtype=object)"
      ]
     },
     "execution_count": 996,
     "metadata": {},
     "output_type": "execute_result"
    }
   ],
   "source": [
    "streaming['Location'].unique()"
   ]
  },
  {
   "cell_type": "code",
   "execution_count": 997,
   "metadata": {},
   "outputs": [
    {
     "name": "stdout",
     "output_type": "stream",
     "text": [
      "User count by location (Top 10):\n"
     ]
    },
    {
     "data": {
      "text/html": [
       "<div>\n",
       "<style scoped>\n",
       "    .dataframe tbody tr th:only-of-type {\n",
       "        vertical-align: middle;\n",
       "    }\n",
       "\n",
       "    .dataframe tbody tr th {\n",
       "        vertical-align: top;\n",
       "    }\n",
       "\n",
       "    .dataframe thead th {\n",
       "        text-align: right;\n",
       "    }\n",
       "</style>\n",
       "<table border=\"1\" class=\"dataframe\">\n",
       "  <thead>\n",
       "    <tr style=\"text-align: right;\">\n",
       "      <th></th>\n",
       "      <th>Location</th>\n",
       "      <th>User_Count_byLocation</th>\n",
       "    </tr>\n",
       "  </thead>\n",
       "  <tbody>\n",
       "    <tr>\n",
       "      <th>916</th>\n",
       "      <td>East Michael</td>\n",
       "      <td>7</td>\n",
       "    </tr>\n",
       "    <tr>\n",
       "      <th>2674</th>\n",
       "      <td>New John</td>\n",
       "      <td>7</td>\n",
       "    </tr>\n",
       "    <tr>\n",
       "      <th>4043</th>\n",
       "      <td>Scottton</td>\n",
       "      <td>6</td>\n",
       "    </tr>\n",
       "    <tr>\n",
       "      <th>3688</th>\n",
       "      <td>Port Michael</td>\n",
       "      <td>6</td>\n",
       "    </tr>\n",
       "    <tr>\n",
       "      <th>4206</th>\n",
       "      <td>South Daniel</td>\n",
       "      <td>6</td>\n",
       "    </tr>\n",
       "    <tr>\n",
       "      <th>3525</th>\n",
       "      <td>Port David</td>\n",
       "      <td>6</td>\n",
       "    </tr>\n",
       "    <tr>\n",
       "      <th>1808</th>\n",
       "      <td>Lake Christopher</td>\n",
       "      <td>6</td>\n",
       "    </tr>\n",
       "    <tr>\n",
       "      <th>3047</th>\n",
       "      <td>North Jessica</td>\n",
       "      <td>6</td>\n",
       "    </tr>\n",
       "    <tr>\n",
       "      <th>2687</th>\n",
       "      <td>New Joseph</td>\n",
       "      <td>6</td>\n",
       "    </tr>\n",
       "    <tr>\n",
       "      <th>3799</th>\n",
       "      <td>Port William</td>\n",
       "      <td>6</td>\n",
       "    </tr>\n",
       "  </tbody>\n",
       "</table>\n",
       "</div>"
      ],
      "text/plain": [
       "              Location  User_Count_byLocation\n",
       "916       East Michael                      7\n",
       "2674          New John                      7\n",
       "4043          Scottton                      6\n",
       "3688      Port Michael                      6\n",
       "4206      South Daniel                      6\n",
       "3525        Port David                      6\n",
       "1808  Lake Christopher                      6\n",
       "3047     North Jessica                      6\n",
       "2687        New Joseph                      6\n",
       "3799      Port William                      6"
      ]
     },
     "execution_count": 997,
     "metadata": {},
     "output_type": "execute_result"
    }
   ],
   "source": [
    "# Group by Location and count unique User_IDs\n",
    "location_user_counts = streaming.groupby('Location')['User_ID'].nunique().reset_index()\n",
    "\n",
    "# Rename columns for clarity\n",
    "location_user_counts.columns = ['Location', 'User_Count_byLocation']\n",
    "\n",
    "# Sort by User_Count in descending order\n",
    "location_user_counts_sorted = location_user_counts.sort_values(by='User_Count_byLocation', ascending=False).head(10)  # Display top 10 locations\n",
    "\n",
    "# Display the user count for each location\n",
    "print(\"User count by location (Top 10):\")\n",
    "location_user_counts_sorted"
   ]
  },
  {
   "cell_type": "markdown",
   "metadata": {},
   "source": [
    "There are numerous locations in the dataset (5,169), but the granularity of users per location is quite low, with the top locations having only 7 users each. Since the location data does not include city or country information, classifying and utilizing this information effectively will be very difficult."
   ]
  },
  {
   "cell_type": "markdown",
   "metadata": {},
   "source": [
    "##### Playback_Quality"
   ]
  },
  {
   "cell_type": "code",
   "execution_count": 998,
   "metadata": {},
   "outputs": [
    {
     "data": {
      "text/plain": [
       "3"
      ]
     },
     "execution_count": 998,
     "metadata": {},
     "output_type": "execute_result"
    }
   ],
   "source": [
    "streaming['Playback_Quality'].nunique()"
   ]
  },
  {
   "cell_type": "code",
   "execution_count": 999,
   "metadata": {},
   "outputs": [
    {
     "data": {
      "text/plain": [
       "array(['4K', 'SD', 'HD'], dtype=object)"
      ]
     },
     "execution_count": 999,
     "metadata": {},
     "output_type": "execute_result"
    }
   ],
   "source": [
    "streaming['Playback_Quality'].unique()"
   ]
  },
  {
   "cell_type": "code",
   "execution_count": 1000,
   "metadata": {},
   "outputs": [
    {
     "name": "stdout",
     "output_type": "stream",
     "text": [
      "Cross-tabulation of Device_Type and Playback_Quality:\n"
     ]
    },
    {
     "data": {
      "text/html": [
       "<div>\n",
       "<style scoped>\n",
       "    .dataframe tbody tr th:only-of-type {\n",
       "        vertical-align: middle;\n",
       "    }\n",
       "\n",
       "    .dataframe tbody tr th {\n",
       "        vertical-align: top;\n",
       "    }\n",
       "\n",
       "    .dataframe thead th {\n",
       "        text-align: right;\n",
       "    }\n",
       "</style>\n",
       "<table border=\"1\" class=\"dataframe\">\n",
       "  <thead>\n",
       "    <tr style=\"text-align: right;\">\n",
       "      <th>Playback_Quality</th>\n",
       "      <th>4K</th>\n",
       "      <th>HD</th>\n",
       "      <th>SD</th>\n",
       "    </tr>\n",
       "    <tr>\n",
       "      <th>Device_Type</th>\n",
       "      <th></th>\n",
       "      <th></th>\n",
       "      <th></th>\n",
       "    </tr>\n",
       "  </thead>\n",
       "  <tbody>\n",
       "    <tr>\n",
       "      <th>Desktop</th>\n",
       "      <td>407</td>\n",
       "      <td>441</td>\n",
       "      <td>422</td>\n",
       "    </tr>\n",
       "    <tr>\n",
       "      <th>Laptop</th>\n",
       "      <td>409</td>\n",
       "      <td>404</td>\n",
       "      <td>375</td>\n",
       "    </tr>\n",
       "    <tr>\n",
       "      <th>Smart TV</th>\n",
       "      <td>450</td>\n",
       "      <td>409</td>\n",
       "      <td>447</td>\n",
       "    </tr>\n",
       "    <tr>\n",
       "      <th>Smartphone</th>\n",
       "      <td>407</td>\n",
       "      <td>406</td>\n",
       "      <td>420</td>\n",
       "    </tr>\n",
       "    <tr>\n",
       "      <th>Tablet</th>\n",
       "      <td>419</td>\n",
       "      <td>396</td>\n",
       "      <td>402</td>\n",
       "    </tr>\n",
       "  </tbody>\n",
       "</table>\n",
       "</div>"
      ],
      "text/plain": [
       "Playback_Quality   4K   HD   SD\n",
       "Device_Type                    \n",
       "Desktop           407  441  422\n",
       "Laptop            409  404  375\n",
       "Smart TV          450  409  447\n",
       "Smartphone        407  406  420\n",
       "Tablet            419  396  402"
      ]
     },
     "execution_count": 1000,
     "metadata": {},
     "output_type": "execute_result"
    }
   ],
   "source": [
    "# Create a cross-tabulation of Device_Type and Playback_Quality\n",
    "device_playback_quality = pd.crosstab(streaming['Device_Type'], streaming['Playback_Quality'])\n",
    "\n",
    "# Display the cross-tabulation\n",
    "print(\"Cross-tabulation of Device_Type and Playback_Quality:\")\n",
    "device_playback_quality"
   ]
  },
  {
   "cell_type": "markdown",
   "metadata": {},
   "source": [
    "- Smart TVs Lead in 4K Playback:\n",
    "    Smart TVs have the highest number of 4K playback instances (450), suggesting they are the preferred device for high-quality streaming.\n",
    "\n",
    "- Balanced HD Playback Across Devices:\n",
    "    HD playback is relatively balanced across all device types, with Desktop (441) having the highest and Tablet (396) having the lowest.\n",
    "\n",
    "- SD Playback Preference:\n",
    "    Smart TVs (447) and Desktops (422) show higher SD playback instances, indicating some users still opt for lower quality streaming on these devices.\n",
    "\n",
    "- Smartphone and Tablet Usage:\n",
    "    Smartphones and Tablets have a more balanced distribution across all playback qualities, with a slight preference for 4K and SD over HD."
   ]
  },
  {
   "cell_type": "code",
   "execution_count": 1001,
   "metadata": {},
   "outputs": [
    {
     "data": {
      "image/png": "[encoded data removed]",
      "text/plain": [
       "<Figure size 1200x600 with 2 Axes>"
      ]
     },
     "metadata": {},
     "output_type": "display_data"
    }
   ],
   "source": [
    "# Visualize the data using a heatmap\n",
    "plt.figure(figsize=(12, 6))\n",
    "sns.heatmap(device_playback_quality, annot=True, fmt='d', cmap='viridis')\n",
    "plt.title('Playback Quality by Device Type')\n",
    "plt.xlabel('Playback Quality')\n",
    "plt.ylabel('Device Type')\n",
    "plt.show()"
   ]
  },
  {
   "cell_type": "markdown",
   "metadata": {},
   "source": [
    "- High-Quality Streaming: Smart TVs are the primary choice for 4K streaming, highlighting their suitability for high-quality content consumption.\n",
    "\n",
    "- Versatile Devices: Desktops and Laptops support all playback qualities well, showing versatility in usage.\n",
    "\n",
    "- Mobile Devices: Smartphones and Tablets are used almost equally across different playback qualities, indicating flexible usage patterns."
   ]
  },
  {
   "cell_type": "markdown",
   "metadata": {},
   "source": [
    "##### Interaction_Events"
   ]
  },
  {
   "cell_type": "code",
   "execution_count": 1002,
   "metadata": {},
   "outputs": [
    {
     "data": {
      "text/plain": [
       "101"
      ]
     },
     "execution_count": 1002,
     "metadata": {},
     "output_type": "execute_result"
    }
   ],
   "source": [
    "streaming['Interaction_Events'].nunique()"
   ]
  },
  {
   "cell_type": "code",
   "execution_count": 1003,
   "metadata": {},
   "outputs": [
    {
     "name": "stdout",
     "output_type": "stream",
     "text": [
      "Unique interaction events:\n",
      "[ 73  22  41  40  76  26  82  79  19  52  62  63  81  78  27  70  24  47\n",
      "  64  99  34  86  50  55  89  56  83  66  17  68  11  65  54   1  31  80\n",
      "  43  29  92  42  59  10  20   6  91  93  84   8  39  48  51  98  28  77\n",
      "  25  97  94  30  61  96   5   2  21   0  15  85  37   3   9  74 100  69\n",
      "  38  12  88  14  45  90  67  18  35  60  44  53  33  75  95  36  23  49\n",
      "  57   7  16  71  46  58  72  87  13  32   4]\n",
      "Interaction event counts:\n"
     ]
    },
    {
     "data": {
      "text/html": [
       "<div>\n",
       "<style scoped>\n",
       "    .dataframe tbody tr th:only-of-type {\n",
       "        vertical-align: middle;\n",
       "    }\n",
       "\n",
       "    .dataframe tbody tr th {\n",
       "        vertical-align: top;\n",
       "    }\n",
       "\n",
       "    .dataframe thead th {\n",
       "        text-align: right;\n",
       "    }\n",
       "</style>\n",
       "<table border=\"1\" class=\"dataframe\">\n",
       "  <thead>\n",
       "    <tr style=\"text-align: right;\">\n",
       "      <th></th>\n",
       "      <th>Interaction_Event</th>\n",
       "      <th>Interactions_Count</th>\n",
       "    </tr>\n",
       "  </thead>\n",
       "  <tbody>\n",
       "    <tr>\n",
       "      <th>0</th>\n",
       "      <td>44</td>\n",
       "      <td>80</td>\n",
       "    </tr>\n",
       "    <tr>\n",
       "      <th>1</th>\n",
       "      <td>7</td>\n",
       "      <td>80</td>\n",
       "    </tr>\n",
       "    <tr>\n",
       "      <th>2</th>\n",
       "      <td>51</td>\n",
       "      <td>78</td>\n",
       "    </tr>\n",
       "    <tr>\n",
       "      <th>3</th>\n",
       "      <td>3</td>\n",
       "      <td>74</td>\n",
       "    </tr>\n",
       "    <tr>\n",
       "      <th>4</th>\n",
       "      <td>47</td>\n",
       "      <td>74</td>\n",
       "    </tr>\n",
       "    <tr>\n",
       "      <th>...</th>\n",
       "      <td>...</td>\n",
       "      <td>...</td>\n",
       "    </tr>\n",
       "    <tr>\n",
       "      <th>96</th>\n",
       "      <td>17</td>\n",
       "      <td>46</td>\n",
       "    </tr>\n",
       "    <tr>\n",
       "      <th>97</th>\n",
       "      <td>38</td>\n",
       "      <td>45</td>\n",
       "    </tr>\n",
       "    <tr>\n",
       "      <th>98</th>\n",
       "      <td>4</td>\n",
       "      <td>45</td>\n",
       "    </tr>\n",
       "    <tr>\n",
       "      <th>99</th>\n",
       "      <td>89</td>\n",
       "      <td>43</td>\n",
       "    </tr>\n",
       "    <tr>\n",
       "      <th>100</th>\n",
       "      <td>0</td>\n",
       "      <td>42</td>\n",
       "    </tr>\n",
       "  </tbody>\n",
       "</table>\n",
       "<p>101 rows × 2 columns</p>\n",
       "</div>"
      ],
      "text/plain": [
       "     Interaction_Event  Interactions_Count\n",
       "0                   44                  80\n",
       "1                    7                  80\n",
       "2                   51                  78\n",
       "3                    3                  74\n",
       "4                   47                  74\n",
       "..                 ...                 ...\n",
       "96                  17                  46\n",
       "97                  38                  45\n",
       "98                   4                  45\n",
       "99                  89                  43\n",
       "100                  0                  42\n",
       "\n",
       "[101 rows x 2 columns]"
      ]
     },
     "execution_count": 1003,
     "metadata": {},
     "output_type": "execute_result"
    }
   ],
   "source": [
    "# Identify unique interaction events\n",
    "unique_interaction_events = streaming['Interaction_Events'].unique()\n",
    "print(\"Unique interaction events:\")\n",
    "print(unique_interaction_events)\n",
    "\n",
    "# Count the number of each type of interaction event\n",
    "interaction_event_counts = streaming['Interaction_Events'].value_counts().reset_index()\n",
    "interaction_event_counts.columns = ['Interaction_Event', 'Interactions_Count']\n",
    "\n",
    "# Display the counts\n",
    "print(\"Interaction event counts:\")\n",
    "interaction_event_counts"
   ]
  },
  {
   "cell_type": "code",
   "execution_count": 1004,
   "metadata": {},
   "outputs": [
    {
     "data": {
      "image/png": "[encoded data removed]",
      "text/plain": [
       "<Figure size 1200x600 with 1 Axes>"
      ]
     },
     "metadata": {},
     "output_type": "display_data"
    }
   ],
   "source": [
    "# Visualize the interaction event counts\n",
    "plt.figure(figsize=(12, 6))\n",
    "sns.barplot(x='Interactions_Count', y='Interaction_Event', data=interaction_event_counts, palette='viridis')\n",
    "plt.title('Distribution of Interaction Events')\n",
    "plt.xlabel('Number of Events')\n",
    "plt.ylabel('Interaction Event')\n",
    "plt.show()"
   ]
  },
  {
   "cell_type": "markdown",
   "metadata": {},
   "source": [
    "The analysis of interaction events reveals diverse user engagement patterns on the platform. The most common interaction events highlight key user behaviors, while less frequent events suggest areas for potential improvement. Understanding these patterns is crucial for optimizing user experience and increasing engagement on the platform."
   ]
  },
  {
   "cell_type": "code",
   "execution_count": 1005,
   "metadata": {},
   "outputs": [
    {
     "name": "stdout",
     "output_type": "stream",
     "text": [
      "Sorted cross-tabulation of Device_Type and Interaction_Events:\n"
     ]
    },
    {
     "data": {
      "text/html": [
       "<div>\n",
       "<style scoped>\n",
       "    .dataframe tbody tr th:only-of-type {\n",
       "        vertical-align: middle;\n",
       "    }\n",
       "\n",
       "    .dataframe tbody tr th {\n",
       "        vertical-align: top;\n",
       "    }\n",
       "\n",
       "    .dataframe thead th {\n",
       "        text-align: right;\n",
       "    }\n",
       "</style>\n",
       "<table border=\"1\" class=\"dataframe\">\n",
       "  <thead>\n",
       "    <tr style=\"text-align: right;\">\n",
       "      <th>Interaction_Events</th>\n",
       "      <th>0</th>\n",
       "      <th>1</th>\n",
       "      <th>2</th>\n",
       "      <th>3</th>\n",
       "      <th>4</th>\n",
       "      <th>5</th>\n",
       "      <th>6</th>\n",
       "      <th>7</th>\n",
       "      <th>8</th>\n",
       "      <th>9</th>\n",
       "      <th>10</th>\n",
       "      <th>11</th>\n",
       "      <th>12</th>\n",
       "      <th>13</th>\n",
       "      <th>14</th>\n",
       "      <th>15</th>\n",
       "      <th>16</th>\n",
       "      <th>17</th>\n",
       "      <th>18</th>\n",
       "      <th>19</th>\n",
       "      <th>20</th>\n",
       "      <th>21</th>\n",
       "      <th>22</th>\n",
       "      <th>23</th>\n",
       "      <th>24</th>\n",
       "      <th>25</th>\n",
       "      <th>26</th>\n",
       "      <th>27</th>\n",
       "      <th>28</th>\n",
       "      <th>29</th>\n",
       "      <th>30</th>\n",
       "      <th>31</th>\n",
       "      <th>32</th>\n",
       "      <th>33</th>\n",
       "      <th>34</th>\n",
       "      <th>35</th>\n",
       "      <th>36</th>\n",
       "      <th>37</th>\n",
       "      <th>38</th>\n",
       "      <th>39</th>\n",
       "      <th>40</th>\n",
       "      <th>41</th>\n",
       "      <th>42</th>\n",
       "      <th>43</th>\n",
       "      <th>44</th>\n",
       "      <th>45</th>\n",
       "      <th>46</th>\n",
       "      <th>47</th>\n",
       "      <th>48</th>\n",
       "      <th>49</th>\n",
       "      <th>50</th>\n",
       "      <th>51</th>\n",
       "      <th>52</th>\n",
       "      <th>53</th>\n",
       "      <th>54</th>\n",
       "      <th>55</th>\n",
       "      <th>56</th>\n",
       "      <th>57</th>\n",
       "      <th>58</th>\n",
       "      <th>59</th>\n",
       "      <th>60</th>\n",
       "      <th>61</th>\n",
       "      <th>62</th>\n",
       "      <th>63</th>\n",
       "      <th>64</th>\n",
       "      <th>65</th>\n",
       "      <th>66</th>\n",
       "      <th>67</th>\n",
       "      <th>68</th>\n",
       "      <th>69</th>\n",
       "      <th>70</th>\n",
       "      <th>71</th>\n",
       "      <th>72</th>\n",
       "      <th>73</th>\n",
       "      <th>74</th>\n",
       "      <th>75</th>\n",
       "      <th>76</th>\n",
       "      <th>77</th>\n",
       "      <th>78</th>\n",
       "      <th>79</th>\n",
       "      <th>80</th>\n",
       "      <th>81</th>\n",
       "      <th>82</th>\n",
       "      <th>83</th>\n",
       "      <th>84</th>\n",
       "      <th>85</th>\n",
       "      <th>86</th>\n",
       "      <th>87</th>\n",
       "      <th>88</th>\n",
       "      <th>89</th>\n",
       "      <th>90</th>\n",
       "      <th>91</th>\n",
       "      <th>92</th>\n",
       "      <th>93</th>\n",
       "      <th>94</th>\n",
       "      <th>95</th>\n",
       "      <th>96</th>\n",
       "      <th>97</th>\n",
       "      <th>98</th>\n",
       "      <th>99</th>\n",
       "      <th>100</th>\n",
       "      <th>Total_Events</th>\n",
       "    </tr>\n",
       "    <tr>\n",
       "      <th>Device_Type</th>\n",
       "      <th></th>\n",
       "      <th></th>\n",
       "      <th></th>\n",
       "      <th></th>\n",
       "      <th></th>\n",
       "      <th></th>\n",
       "      <th></th>\n",
       "      <th></th>\n",
       "      <th></th>\n",
       "      <th></th>\n",
       "      <th></th>\n",
       "      <th></th>\n",
       "      <th></th>\n",
       "      <th></th>\n",
       "      <th></th>\n",
       "      <th></th>\n",
       "      <th></th>\n",
       "      <th></th>\n",
       "      <th></th>\n",
       "      <th></th>\n",
       "      <th></th>\n",
       "      <th></th>\n",
       "      <th></th>\n",
       "      <th></th>\n",
       "      <th></th>\n",
       "      <th></th>\n",
       "      <th></th>\n",
       "      <th></th>\n",
       "      <th></th>\n",
       "      <th></th>\n",
       "      <th></th>\n",
       "      <th></th>\n",
       "      <th></th>\n",
       "      <th></th>\n",
       "      <th></th>\n",
       "      <th></th>\n",
       "      <th></th>\n",
       "      <th></th>\n",
       "      <th></th>\n",
       "      <th></th>\n",
       "      <th></th>\n",
       "      <th></th>\n",
       "      <th></th>\n",
       "      <th></th>\n",
       "      <th></th>\n",
       "      <th></th>\n",
       "      <th></th>\n",
       "      <th></th>\n",
       "      <th></th>\n",
       "      <th></th>\n",
       "      <th></th>\n",
       "      <th></th>\n",
       "      <th></th>\n",
       "      <th></th>\n",
       "      <th></th>\n",
       "      <th></th>\n",
       "      <th></th>\n",
       "      <th></th>\n",
       "      <th></th>\n",
       "      <th></th>\n",
       "      <th></th>\n",
       "      <th></th>\n",
       "      <th></th>\n",
       "      <th></th>\n",
       "      <th></th>\n",
       "      <th></th>\n",
       "      <th></th>\n",
       "      <th></th>\n",
       "      <th></th>\n",
       "      <th></th>\n",
       "      <th></th>\n",
       "      <th></th>\n",
       "      <th></th>\n",
       "      <th></th>\n",
       "      <th></th>\n",
       "      <th></th>\n",
       "      <th></th>\n",
       "      <th></th>\n",
       "      <th></th>\n",
       "      <th></th>\n",
       "      <th></th>\n",
       "      <th></th>\n",
       "      <th></th>\n",
       "      <th></th>\n",
       "      <th></th>\n",
       "      <th></th>\n",
       "      <th></th>\n",
       "      <th></th>\n",
       "      <th></th>\n",
       "      <th></th>\n",
       "      <th></th>\n",
       "      <th></th>\n",
       "      <th></th>\n",
       "      <th></th>\n",
       "      <th></th>\n",
       "      <th></th>\n",
       "      <th></th>\n",
       "      <th></th>\n",
       "      <th></th>\n",
       "      <th></th>\n",
       "      <th></th>\n",
       "      <th></th>\n",
       "    </tr>\n",
       "  </thead>\n",
       "  <tbody>\n",
       "    <tr>\n",
       "      <th>Smart TV</th>\n",
       "      <td>9</td>\n",
       "      <td>11</td>\n",
       "      <td>13</td>\n",
       "      <td>18</td>\n",
       "      <td>8</td>\n",
       "      <td>16</td>\n",
       "      <td>12</td>\n",
       "      <td>12</td>\n",
       "      <td>15</td>\n",
       "      <td>15</td>\n",
       "      <td>17</td>\n",
       "      <td>11</td>\n",
       "      <td>17</td>\n",
       "      <td>15</td>\n",
       "      <td>19</td>\n",
       "      <td>10</td>\n",
       "      <td>12</td>\n",
       "      <td>8</td>\n",
       "      <td>12</td>\n",
       "      <td>13</td>\n",
       "      <td>14</td>\n",
       "      <td>16</td>\n",
       "      <td>16</td>\n",
       "      <td>9</td>\n",
       "      <td>14</td>\n",
       "      <td>12</td>\n",
       "      <td>10</td>\n",
       "      <td>12</td>\n",
       "      <td>8</td>\n",
       "      <td>15</td>\n",
       "      <td>8</td>\n",
       "      <td>11</td>\n",
       "      <td>11</td>\n",
       "      <td>15</td>\n",
       "      <td>11</td>\n",
       "      <td>10</td>\n",
       "      <td>10</td>\n",
       "      <td>14</td>\n",
       "      <td>9</td>\n",
       "      <td>10</td>\n",
       "      <td>13</td>\n",
       "      <td>10</td>\n",
       "      <td>13</td>\n",
       "      <td>15</td>\n",
       "      <td>14</td>\n",
       "      <td>10</td>\n",
       "      <td>18</td>\n",
       "      <td>22</td>\n",
       "      <td>12</td>\n",
       "      <td>10</td>\n",
       "      <td>15</td>\n",
       "      <td>14</td>\n",
       "      <td>13</td>\n",
       "      <td>15</td>\n",
       "      <td>13</td>\n",
       "      <td>10</td>\n",
       "      <td>18</td>\n",
       "      <td>17</td>\n",
       "      <td>12</td>\n",
       "      <td>14</td>\n",
       "      <td>11</td>\n",
       "      <td>13</td>\n",
       "      <td>13</td>\n",
       "      <td>14</td>\n",
       "      <td>13</td>\n",
       "      <td>14</td>\n",
       "      <td>16</td>\n",
       "      <td>9</td>\n",
       "      <td>15</td>\n",
       "      <td>14</td>\n",
       "      <td>16</td>\n",
       "      <td>20</td>\n",
       "      <td>13</td>\n",
       "      <td>10</td>\n",
       "      <td>18</td>\n",
       "      <td>18</td>\n",
       "      <td>11</td>\n",
       "      <td>16</td>\n",
       "      <td>7</td>\n",
       "      <td>12</td>\n",
       "      <td>14</td>\n",
       "      <td>13</td>\n",
       "      <td>14</td>\n",
       "      <td>10</td>\n",
       "      <td>10</td>\n",
       "      <td>11</td>\n",
       "      <td>10</td>\n",
       "      <td>12</td>\n",
       "      <td>10</td>\n",
       "      <td>10</td>\n",
       "      <td>17</td>\n",
       "      <td>19</td>\n",
       "      <td>17</td>\n",
       "      <td>10</td>\n",
       "      <td>9</td>\n",
       "      <td>12</td>\n",
       "      <td>11</td>\n",
       "      <td>13</td>\n",
       "      <td>13</td>\n",
       "      <td>11</td>\n",
       "      <td>11</td>\n",
       "      <td>1306</td>\n",
       "    </tr>\n",
       "    <tr>\n",
       "      <th>Desktop</th>\n",
       "      <td>9</td>\n",
       "      <td>8</td>\n",
       "      <td>15</td>\n",
       "      <td>8</td>\n",
       "      <td>14</td>\n",
       "      <td>14</td>\n",
       "      <td>15</td>\n",
       "      <td>16</td>\n",
       "      <td>7</td>\n",
       "      <td>10</td>\n",
       "      <td>16</td>\n",
       "      <td>9</td>\n",
       "      <td>15</td>\n",
       "      <td>13</td>\n",
       "      <td>12</td>\n",
       "      <td>19</td>\n",
       "      <td>13</td>\n",
       "      <td>11</td>\n",
       "      <td>15</td>\n",
       "      <td>10</td>\n",
       "      <td>9</td>\n",
       "      <td>12</td>\n",
       "      <td>12</td>\n",
       "      <td>14</td>\n",
       "      <td>8</td>\n",
       "      <td>10</td>\n",
       "      <td>21</td>\n",
       "      <td>12</td>\n",
       "      <td>8</td>\n",
       "      <td>13</td>\n",
       "      <td>13</td>\n",
       "      <td>12</td>\n",
       "      <td>12</td>\n",
       "      <td>11</td>\n",
       "      <td>16</td>\n",
       "      <td>9</td>\n",
       "      <td>6</td>\n",
       "      <td>8</td>\n",
       "      <td>9</td>\n",
       "      <td>8</td>\n",
       "      <td>17</td>\n",
       "      <td>7</td>\n",
       "      <td>13</td>\n",
       "      <td>14</td>\n",
       "      <td>25</td>\n",
       "      <td>16</td>\n",
       "      <td>10</td>\n",
       "      <td>12</td>\n",
       "      <td>13</td>\n",
       "      <td>16</td>\n",
       "      <td>11</td>\n",
       "      <td>16</td>\n",
       "      <td>12</td>\n",
       "      <td>15</td>\n",
       "      <td>17</td>\n",
       "      <td>12</td>\n",
       "      <td>9</td>\n",
       "      <td>13</td>\n",
       "      <td>15</td>\n",
       "      <td>20</td>\n",
       "      <td>11</td>\n",
       "      <td>13</td>\n",
       "      <td>8</td>\n",
       "      <td>12</td>\n",
       "      <td>14</td>\n",
       "      <td>10</td>\n",
       "      <td>11</td>\n",
       "      <td>14</td>\n",
       "      <td>12</td>\n",
       "      <td>8</td>\n",
       "      <td>19</td>\n",
       "      <td>14</td>\n",
       "      <td>14</td>\n",
       "      <td>17</td>\n",
       "      <td>15</td>\n",
       "      <td>11</td>\n",
       "      <td>15</td>\n",
       "      <td>8</td>\n",
       "      <td>18</td>\n",
       "      <td>17</td>\n",
       "      <td>11</td>\n",
       "      <td>12</td>\n",
       "      <td>13</td>\n",
       "      <td>11</td>\n",
       "      <td>16</td>\n",
       "      <td>10</td>\n",
       "      <td>17</td>\n",
       "      <td>16</td>\n",
       "      <td>13</td>\n",
       "      <td>8</td>\n",
       "      <td>8</td>\n",
       "      <td>19</td>\n",
       "      <td>7</td>\n",
       "      <td>15</td>\n",
       "      <td>11</td>\n",
       "      <td>13</td>\n",
       "      <td>10</td>\n",
       "      <td>13</td>\n",
       "      <td>11</td>\n",
       "      <td>8</td>\n",
       "      <td>12</td>\n",
       "      <td>1270</td>\n",
       "    </tr>\n",
       "    <tr>\n",
       "      <th>Smartphone</th>\n",
       "      <td>6</td>\n",
       "      <td>9</td>\n",
       "      <td>15</td>\n",
       "      <td>20</td>\n",
       "      <td>8</td>\n",
       "      <td>15</td>\n",
       "      <td>10</td>\n",
       "      <td>17</td>\n",
       "      <td>15</td>\n",
       "      <td>12</td>\n",
       "      <td>9</td>\n",
       "      <td>12</td>\n",
       "      <td>10</td>\n",
       "      <td>10</td>\n",
       "      <td>19</td>\n",
       "      <td>14</td>\n",
       "      <td>12</td>\n",
       "      <td>8</td>\n",
       "      <td>15</td>\n",
       "      <td>10</td>\n",
       "      <td>13</td>\n",
       "      <td>8</td>\n",
       "      <td>7</td>\n",
       "      <td>5</td>\n",
       "      <td>12</td>\n",
       "      <td>12</td>\n",
       "      <td>13</td>\n",
       "      <td>13</td>\n",
       "      <td>9</td>\n",
       "      <td>15</td>\n",
       "      <td>12</td>\n",
       "      <td>14</td>\n",
       "      <td>13</td>\n",
       "      <td>12</td>\n",
       "      <td>10</td>\n",
       "      <td>12</td>\n",
       "      <td>19</td>\n",
       "      <td>9</td>\n",
       "      <td>8</td>\n",
       "      <td>12</td>\n",
       "      <td>10</td>\n",
       "      <td>8</td>\n",
       "      <td>12</td>\n",
       "      <td>12</td>\n",
       "      <td>14</td>\n",
       "      <td>13</td>\n",
       "      <td>7</td>\n",
       "      <td>17</td>\n",
       "      <td>16</td>\n",
       "      <td>18</td>\n",
       "      <td>9</td>\n",
       "      <td>13</td>\n",
       "      <td>13</td>\n",
       "      <td>13</td>\n",
       "      <td>10</td>\n",
       "      <td>12</td>\n",
       "      <td>13</td>\n",
       "      <td>20</td>\n",
       "      <td>16</td>\n",
       "      <td>13</td>\n",
       "      <td>11</td>\n",
       "      <td>9</td>\n",
       "      <td>13</td>\n",
       "      <td>7</td>\n",
       "      <td>7</td>\n",
       "      <td>11</td>\n",
       "      <td>17</td>\n",
       "      <td>18</td>\n",
       "      <td>15</td>\n",
       "      <td>9</td>\n",
       "      <td>11</td>\n",
       "      <td>12</td>\n",
       "      <td>13</td>\n",
       "      <td>12</td>\n",
       "      <td>15</td>\n",
       "      <td>9</td>\n",
       "      <td>12</td>\n",
       "      <td>18</td>\n",
       "      <td>15</td>\n",
       "      <td>13</td>\n",
       "      <td>16</td>\n",
       "      <td>13</td>\n",
       "      <td>10</td>\n",
       "      <td>10</td>\n",
       "      <td>10</td>\n",
       "      <td>16</td>\n",
       "      <td>8</td>\n",
       "      <td>10</td>\n",
       "      <td>11</td>\n",
       "      <td>10</td>\n",
       "      <td>15</td>\n",
       "      <td>9</td>\n",
       "      <td>7</td>\n",
       "      <td>13</td>\n",
       "      <td>11</td>\n",
       "      <td>9</td>\n",
       "      <td>13</td>\n",
       "      <td>13</td>\n",
       "      <td>14</td>\n",
       "      <td>16</td>\n",
       "      <td>19</td>\n",
       "      <td>1233</td>\n",
       "    </tr>\n",
       "    <tr>\n",
       "      <th>Tablet</th>\n",
       "      <td>8</td>\n",
       "      <td>8</td>\n",
       "      <td>7</td>\n",
       "      <td>13</td>\n",
       "      <td>11</td>\n",
       "      <td>8</td>\n",
       "      <td>8</td>\n",
       "      <td>20</td>\n",
       "      <td>7</td>\n",
       "      <td>8</td>\n",
       "      <td>15</td>\n",
       "      <td>15</td>\n",
       "      <td>12</td>\n",
       "      <td>9</td>\n",
       "      <td>9</td>\n",
       "      <td>11</td>\n",
       "      <td>10</td>\n",
       "      <td>12</td>\n",
       "      <td>9</td>\n",
       "      <td>9</td>\n",
       "      <td>9</td>\n",
       "      <td>17</td>\n",
       "      <td>7</td>\n",
       "      <td>11</td>\n",
       "      <td>16</td>\n",
       "      <td>11</td>\n",
       "      <td>9</td>\n",
       "      <td>11</td>\n",
       "      <td>12</td>\n",
       "      <td>13</td>\n",
       "      <td>8</td>\n",
       "      <td>13</td>\n",
       "      <td>18</td>\n",
       "      <td>12</td>\n",
       "      <td>11</td>\n",
       "      <td>7</td>\n",
       "      <td>14</td>\n",
       "      <td>9</td>\n",
       "      <td>10</td>\n",
       "      <td>15</td>\n",
       "      <td>16</td>\n",
       "      <td>12</td>\n",
       "      <td>15</td>\n",
       "      <td>14</td>\n",
       "      <td>16</td>\n",
       "      <td>14</td>\n",
       "      <td>11</td>\n",
       "      <td>10</td>\n",
       "      <td>13</td>\n",
       "      <td>9</td>\n",
       "      <td>15</td>\n",
       "      <td>17</td>\n",
       "      <td>8</td>\n",
       "      <td>17</td>\n",
       "      <td>13</td>\n",
       "      <td>14</td>\n",
       "      <td>11</td>\n",
       "      <td>10</td>\n",
       "      <td>5</td>\n",
       "      <td>15</td>\n",
       "      <td>13</td>\n",
       "      <td>10</td>\n",
       "      <td>9</td>\n",
       "      <td>10</td>\n",
       "      <td>16</td>\n",
       "      <td>12</td>\n",
       "      <td>13</td>\n",
       "      <td>14</td>\n",
       "      <td>14</td>\n",
       "      <td>17</td>\n",
       "      <td>9</td>\n",
       "      <td>15</td>\n",
       "      <td>13</td>\n",
       "      <td>12</td>\n",
       "      <td>6</td>\n",
       "      <td>10</td>\n",
       "      <td>13</td>\n",
       "      <td>15</td>\n",
       "      <td>8</td>\n",
       "      <td>14</td>\n",
       "      <td>13</td>\n",
       "      <td>16</td>\n",
       "      <td>15</td>\n",
       "      <td>15</td>\n",
       "      <td>12</td>\n",
       "      <td>13</td>\n",
       "      <td>10</td>\n",
       "      <td>8</td>\n",
       "      <td>19</td>\n",
       "      <td>7</td>\n",
       "      <td>9</td>\n",
       "      <td>11</td>\n",
       "      <td>10</td>\n",
       "      <td>12</td>\n",
       "      <td>15</td>\n",
       "      <td>17</td>\n",
       "      <td>11</td>\n",
       "      <td>19</td>\n",
       "      <td>14</td>\n",
       "      <td>18</td>\n",
       "      <td>13</td>\n",
       "      <td>1217</td>\n",
       "    </tr>\n",
       "    <tr>\n",
       "      <th>Laptop</th>\n",
       "      <td>10</td>\n",
       "      <td>10</td>\n",
       "      <td>11</td>\n",
       "      <td>15</td>\n",
       "      <td>4</td>\n",
       "      <td>11</td>\n",
       "      <td>17</td>\n",
       "      <td>15</td>\n",
       "      <td>14</td>\n",
       "      <td>14</td>\n",
       "      <td>13</td>\n",
       "      <td>13</td>\n",
       "      <td>12</td>\n",
       "      <td>9</td>\n",
       "      <td>7</td>\n",
       "      <td>9</td>\n",
       "      <td>14</td>\n",
       "      <td>7</td>\n",
       "      <td>6</td>\n",
       "      <td>11</td>\n",
       "      <td>13</td>\n",
       "      <td>14</td>\n",
       "      <td>9</td>\n",
       "      <td>12</td>\n",
       "      <td>5</td>\n",
       "      <td>11</td>\n",
       "      <td>17</td>\n",
       "      <td>14</td>\n",
       "      <td>10</td>\n",
       "      <td>11</td>\n",
       "      <td>10</td>\n",
       "      <td>16</td>\n",
       "      <td>14</td>\n",
       "      <td>11</td>\n",
       "      <td>11</td>\n",
       "      <td>10</td>\n",
       "      <td>12</td>\n",
       "      <td>13</td>\n",
       "      <td>9</td>\n",
       "      <td>7</td>\n",
       "      <td>16</td>\n",
       "      <td>14</td>\n",
       "      <td>7</td>\n",
       "      <td>9</td>\n",
       "      <td>11</td>\n",
       "      <td>11</td>\n",
       "      <td>14</td>\n",
       "      <td>13</td>\n",
       "      <td>12</td>\n",
       "      <td>15</td>\n",
       "      <td>9</td>\n",
       "      <td>18</td>\n",
       "      <td>9</td>\n",
       "      <td>11</td>\n",
       "      <td>6</td>\n",
       "      <td>5</td>\n",
       "      <td>14</td>\n",
       "      <td>9</td>\n",
       "      <td>15</td>\n",
       "      <td>4</td>\n",
       "      <td>22</td>\n",
       "      <td>10</td>\n",
       "      <td>16</td>\n",
       "      <td>17</td>\n",
       "      <td>10</td>\n",
       "      <td>11</td>\n",
       "      <td>10</td>\n",
       "      <td>10</td>\n",
       "      <td>14</td>\n",
       "      <td>12</td>\n",
       "      <td>13</td>\n",
       "      <td>11</td>\n",
       "      <td>10</td>\n",
       "      <td>11</td>\n",
       "      <td>13</td>\n",
       "      <td>10</td>\n",
       "      <td>17</td>\n",
       "      <td>10</td>\n",
       "      <td>12</td>\n",
       "      <td>16</td>\n",
       "      <td>14</td>\n",
       "      <td>18</td>\n",
       "      <td>17</td>\n",
       "      <td>10</td>\n",
       "      <td>11</td>\n",
       "      <td>5</td>\n",
       "      <td>14</td>\n",
       "      <td>12</td>\n",
       "      <td>5</td>\n",
       "      <td>8</td>\n",
       "      <td>11</td>\n",
       "      <td>14</td>\n",
       "      <td>11</td>\n",
       "      <td>8</td>\n",
       "      <td>13</td>\n",
       "      <td>17</td>\n",
       "      <td>15</td>\n",
       "      <td>12</td>\n",
       "      <td>17</td>\n",
       "      <td>17</td>\n",
       "      <td>11</td>\n",
       "      <td>1188</td>\n",
       "    </tr>\n",
       "  </tbody>\n",
       "</table>\n",
       "</div>"
      ],
      "text/plain": [
       "Interaction_Events   0   1   2   3   4   5   6   7   8   9  10  11  12  13  \\\n",
       "Device_Type                                                                  \n",
       "Smart TV             9  11  13  18   8  16  12  12  15  15  17  11  17  15   \n",
       "Desktop              9   8  15   8  14  14  15  16   7  10  16   9  15  13   \n",
       "Smartphone           6   9  15  20   8  15  10  17  15  12   9  12  10  10   \n",
       "Tablet               8   8   7  13  11   8   8  20   7   8  15  15  12   9   \n",
       "Laptop              10  10  11  15   4  11  17  15  14  14  13  13  12   9   \n",
       "\n",
       "Interaction_Events  14  15  16  17  18  19  20  21  22  23  24  25  26  27  \\\n",
       "Device_Type                                                                  \n",
       "Smart TV            19  10  12   8  12  13  14  16  16   9  14  12  10  12   \n",
       "Desktop             12  19  13  11  15  10   9  12  12  14   8  10  21  12   \n",
       "Smartphone          19  14  12   8  15  10  13   8   7   5  12  12  13  13   \n",
       "Tablet               9  11  10  12   9   9   9  17   7  11  16  11   9  11   \n",
       "Laptop               7   9  14   7   6  11  13  14   9  12   5  11  17  14   \n",
       "\n",
       "Interaction_Events  28  29  30  31  32  33  34  35  36  37  38  39  40  41  \\\n",
       "Device_Type                                                                  \n",
       "Smart TV             8  15   8  11  11  15  11  10  10  14   9  10  13  10   \n",
       "Desktop              8  13  13  12  12  11  16   9   6   8   9   8  17   7   \n",
       "Smartphone           9  15  12  14  13  12  10  12  19   9   8  12  10   8   \n",
       "Tablet              12  13   8  13  18  12  11   7  14   9  10  15  16  12   \n",
       "Laptop              10  11  10  16  14  11  11  10  12  13   9   7  16  14   \n",
       "\n",
       "Interaction_Events  42  43  44  45  46  47  48  49  50  51  52  53  54  55  \\\n",
       "Device_Type                                                                  \n",
       "Smart TV            13  15  14  10  18  22  12  10  15  14  13  15  13  10   \n",
       "Desktop             13  14  25  16  10  12  13  16  11  16  12  15  17  12   \n",
       "Smartphone          12  12  14  13   7  17  16  18   9  13  13  13  10  12   \n",
       "Tablet              15  14  16  14  11  10  13   9  15  17   8  17  13  14   \n",
       "Laptop               7   9  11  11  14  13  12  15   9  18   9  11   6   5   \n",
       "\n",
       "Interaction_Events  56  57  58  59  60  61  62  63  64  65  66  67  68  69  \\\n",
       "Device_Type                                                                  \n",
       "Smart TV            18  17  12  14  11  13  13  14  13  14  16   9  15  14   \n",
       "Desktop              9  13  15  20  11  13   8  12  14  10  11  14  12   8   \n",
       "Smartphone          13  20  16  13  11   9  13   7   7  11  17  18  15   9   \n",
       "Tablet              11  10   5  15  13  10   9  10  16  12  13  14  14  17   \n",
       "Laptop              14   9  15   4  22  10  16  17  10  11  10  10  14  12   \n",
       "\n",
       "Interaction_Events  70  71  72  73  74  75  76  77  78  79  80  81  82  83  \\\n",
       "Device_Type                                                                  \n",
       "Smart TV            16  20  13  10  18  18  11  16   7  12  14  13  14  10   \n",
       "Desktop             19  14  14  17  15  11  15   8  18  17  11  12  13  11   \n",
       "Smartphone          11  12  13  12  15   9  12  18  15  13  16  13  10  10   \n",
       "Tablet               9  15  13  12   6  10  13  15   8  14  13  16  15  15   \n",
       "Laptop              13  11  10  11  13  10  17  10  12  16  14  18  17  10   \n",
       "\n",
       "Interaction_Events  84  85  86  87  88  89  90  91  92  93  94  95  96  97  \\\n",
       "Device_Type                                                                  \n",
       "Smart TV            10  11  10  12  10  10  17  19  17  10   9  12  11  13   \n",
       "Desktop             16  10  17  16  13   8   8  19   7  15  11  13  10  13   \n",
       "Smartphone          10  16   8  10  11  10  15   9   7  13  11   9  13  13   \n",
       "Tablet              12  13  10   8  19   7   9  11  10  12  15  17  11  19   \n",
       "Laptop              11   5  14  12   5   8  11  14  11   8  13  17  15  12   \n",
       "\n",
       "Interaction_Events  98  99  100  Total_Events  \n",
       "Device_Type                                    \n",
       "Smart TV            13  11   11          1306  \n",
       "Desktop             11   8   12          1270  \n",
       "Smartphone          14  16   19          1233  \n",
       "Tablet              14  18   13          1217  \n",
       "Laptop              17  17   11          1188  "
      ]
     },
     "execution_count": 1005,
     "metadata": {},
     "output_type": "execute_result"
    }
   ],
   "source": [
    "# Create a cross-tabulation of Device_Type and Interaction_Events\n",
    "device_interaction_events = pd.crosstab(streaming['Device_Type'], streaming['Interaction_Events'])\n",
    "\n",
    "# Add a column for the total interaction events per device type\n",
    "device_interaction_events['Total_Events'] = device_interaction_events.sum(axis=1)\n",
    "\n",
    "# Sort the DataFrame by the total interaction events\n",
    "device_interaction_events_sorted = device_interaction_events.sort_values(by='Total_Events', ascending=False)\n",
    "\n",
    "# Display the cross-tabulation\n",
    "print(\"Sorted cross-tabulation of Device_Type and Interaction_Events:\")\n",
    "device_interaction_events_sorted"
   ]
  },
  {
   "cell_type": "markdown",
   "metadata": {},
   "source": [
    "- Smartphones Lead in Interaction:\n",
    "    Smartphones have the highest total number of interaction events, indicating they are the most actively used devices for interacting with the platform.\n",
    "\n",
    "- High Engagement on Tablets and Desktops:\n",
    "    Tablets and Desktops also show a high number of interaction events, suggesting significant user engagement on these devices as well.\n",
    "\n",
    "- Balanced Usage of Smart TVs and Laptops:\n",
    "    Smart TVs and Laptops have a balanced distribution of interaction events, reflecting their consistent usage across different types of interactions.\n",
    "\n",
    "- Diverse Interaction Patterns:\n",
    "    While the total number of interactions varies, all device types support a wide range of interaction events, showing the platform's versatility in catering to different user behaviors."
   ]
  },
  {
   "cell_type": "markdown",
   "metadata": {},
   "source": [
    "### Key Insights"
   ]
  },
  {
   "cell_type": "markdown",
   "metadata": {},
   "source": [
    "- Nonexistent multiple session IDs: There are no users with multiple sessions, as the User_ID and Session_ID are in a one-to-one relationship.\n",
    "\n",
    "- Device sharing patterns by mainly small groups: While some devices are highly shared (up to 16 users), the most common pattern is small group sharing, with most devices being shared by 6 users. Additionally, a minority of devices are used exclusively by a single user, highlighting a mix of communal and personal usage.\n",
    "\n",
    "- There are exactly 100 distinct videos available in the streaming app, possibly representing the most-watched content on the platform.\n",
    "\n",
    "- The top 10 most-watched videos each have more than 70 distinct users, with Video_ID 40 being the most popular at 79 users. In contrast, the bottom 10 least-watched videos have around 50 distinct users each, with Video_ID 39 being the least popular at 46 users.\n",
    "\n",
    "- The data reveals a wide range of video-watching durations, from just a few seconds to nearly two hours. The distribution is skewed towards shorter viewing times, indicating that most users engage with shorter videos or only part of longer content. However, some users still watch videos for extended periods, likely consuming full-length content such as movies or documentaries.\n",
    "\n",
    "- The streaming platform attracts a diverse and balanced audience, with users aged 10 to 70. The median age is 40, and the central 50% of users are between 25 and 55. Young adults (20-35) and mid-age users (35-50) are the core demographics, indicating the platform's content appeals broadly across age groups.\n",
    "\n",
    "- The streaming platform has a nearly balanced gender distribution, with 3,148 female users and 3,066 male users, indicating broad appeal to both genders.\n",
    "\n",
    "- The streaming platform has an almost equal distribution of free (3,111 users) and premium (3,103 users) accounts, indicating balanced appeal to both non-paying and paying users.\n",
    "\n",
    "- Premium users tend to rate videos more favorably, with a significant number of 4-star ratings. Free users display more polarized opinions, with many videos rated both very highly (5) and very low (1).\n",
    "\n",
    "- The platform has a diverse user base, with the most common languages being English (1,313 users), Chinese (1,264 users), German (1,257 users), Spanish (1,196 users), and French (1,184 users). This highlights the importance of offering multilingual support and content to cater to a wide range of users.\n",
    "\n",
    "- Users primarily access the platform via Smart TVs (1,306 users) and Desktops (1,270 users), followed by Smartphones, Tablets, and Laptops. Ensuring a seamless experience across these devices is crucial for user satisfaction and engagement.\n",
    "\n",
    "- Smart TVs are the preferred device for 4K streaming, while Desktops and Laptops support a balanced distribution of playback qualities, indicating their versatility. Mobile devices (Smartphones and Tablets) show flexible usage patterns with a nearly equal distribution across all playback qualities. This highlights the importance of optimizing content delivery for high-quality streaming on Smart TVs and maintaining versatile playback options for other devices.\n",
    "\n",
    "- Smartphones have the highest interaction events, followed by Tablets and Desktops, indicating their active use. Smart TVs and Laptops show consistent interaction patterns. Optimizing the user experience on these devices is crucial for maintaining high engagement levels."
   ]
  },
  {
   "cell_type": "markdown",
   "metadata": {},
   "source": [
    "#### To explore"
   ]
  },
  {
   "cell_type": "markdown",
   "metadata": {},
   "source": [
    "- Video_ID:\n",
    "    - Analyze Viewing Patterns: Investigate the distribution of viewing durations to identify common viewing patterns and understand typical user engagement.\n",
    "    - Identify High Engagement Content: Look into the videos associated with the maximum durations to learn what makes them engaging.\n",
    "    - Consider Short Engagement: Understand why some users have very short engagement to improve content or user experience.\n",
    "\n",
    "- Duration_Watched (minutes):\n",
    "    - Explore specific videos with the shortest and longest durations to understand user behavior. (genre)\n",
    "    - Optimization Opportunities: Analyzing why users disengage quickly could lead to improvements in content delivery, recommendations, or user interface design to increase watch time.\n",
    "\n",
    "- Country:\n",
    "    - Localization Opportunities: Consider language support, cultural preferences, and region-specific content to enhance user experiences in diverse locations.\n",
    "\n",
    "- Age:\n",
    "    - Potential Target Age Groups: Identifying the age groups with the highest frequencies can help in tailoring content and marketing strategies to the most engaged users. For example, if there are peaks around ages 20-30, it indicates a strong engagement from young adults.\n",
    "    - User Experience Customization: Understanding the age distribution helps in designing a user interface that caters to different age groups. Younger users might prefer a more interactive and dynamic UI, while older users might appreciate a simpler, more intuitive design.\n",
    "    - age in relevant groups\n",
    "\n",
    "- Gender:\n",
    "    - gender by genre\n",
    "\n",
    "- subscription status\n",
    "    - country\n",
    "    - age group\n",
    "\n",
    "- Languages:\n",
    "    - country\n",
    "    - age group\n",
    "\n",
    "- Device:\n",
    "    - by age group\n",
    "    - by country\n",
    "    - subscription"
   ]
  },
  {
   "cell_type": "markdown",
   "metadata": {},
   "source": [
    "## 5. Feature Engineering"
   ]
  },
  {
   "cell_type": "markdown",
   "metadata": {},
   "source": [
    "### Data Transformation"
   ]
  },
  {
   "cell_type": "markdown",
   "metadata": {},
   "source": [
    "Let's adapt data into a format suitable for further analysis."
   ]
  },
  {
   "cell_type": "markdown",
   "metadata": {},
   "source": [
    "#### Index Column"
   ]
  },
  {
   "cell_type": "markdown",
   "metadata": {},
   "source": [
    "As USER_ID and Session_ID are such a long extensive in character string, we will reemplace these with an index column 'ID'."
   ]
  },
  {
   "cell_type": "code",
   "execution_count": 1006,
   "metadata": {},
   "outputs": [
    {
     "data": {
      "text/html": [
       "<div>\n",
       "<style scoped>\n",
       "    .dataframe tbody tr th:only-of-type {\n",
       "        vertical-align: middle;\n",
       "    }\n",
       "\n",
       "    .dataframe tbody tr th {\n",
       "        vertical-align: top;\n",
       "    }\n",
       "\n",
       "    .dataframe thead th {\n",
       "        text-align: right;\n",
       "    }\n",
       "</style>\n",
       "<table border=\"1\" class=\"dataframe\">\n",
       "  <thead>\n",
       "    <tr style=\"text-align: right;\">\n",
       "      <th></th>\n",
       "      <th>User_ID</th>\n",
       "      <th>Session_ID</th>\n",
       "      <th>Device_ID</th>\n",
       "      <th>Video_ID</th>\n",
       "      <th>Duration_Watched (minutes)</th>\n",
       "      <th>Genre</th>\n",
       "      <th>Country</th>\n",
       "      <th>Age</th>\n",
       "      <th>Gender</th>\n",
       "      <th>Subscription_Status</th>\n",
       "      <th>Ratings</th>\n",
       "      <th>Languages</th>\n",
       "      <th>Device_Type</th>\n",
       "      <th>Location</th>\n",
       "      <th>Playback_Quality</th>\n",
       "      <th>Interaction_Events</th>\n",
       "      <th>ID</th>\n",
       "    </tr>\n",
       "  </thead>\n",
       "  <tbody>\n",
       "    <tr>\n",
       "      <th>0</th>\n",
       "      <td>eb4f9229-74df-45f6-baac-cf19241b8b30</td>\n",
       "      <td>cb2142a7-0750-49ed-b8ac-a975fe1ff69a</td>\n",
       "      <td>232</td>\n",
       "      <td>11</td>\n",
       "      <td>90.044525</td>\n",
       "      <td>Sci-Fi</td>\n",
       "      <td>Sudan</td>\n",
       "      <td>56</td>\n",
       "      <td>Female</td>\n",
       "      <td>Premium</td>\n",
       "      <td>3</td>\n",
       "      <td>Spanish</td>\n",
       "      <td>Smartphone</td>\n",
       "      <td>Reedshire</td>\n",
       "      <td>4K</td>\n",
       "      <td>73</td>\n",
       "      <td>0</td>\n",
       "    </tr>\n",
       "    <tr>\n",
       "      <th>1</th>\n",
       "      <td>661d4b59-4328-410a-901c-1e3b4c40c334</td>\n",
       "      <td>3bc0a662-b353-4015-8b0c-55ceb510d13a</td>\n",
       "      <td>549</td>\n",
       "      <td>85</td>\n",
       "      <td>68.973479</td>\n",
       "      <td>Comedy</td>\n",
       "      <td>Cuba</td>\n",
       "      <td>52</td>\n",
       "      <td>Male</td>\n",
       "      <td>Premium</td>\n",
       "      <td>3</td>\n",
       "      <td>Chinese</td>\n",
       "      <td>Desktop</td>\n",
       "      <td>Stevenhaven</td>\n",
       "      <td>SD</td>\n",
       "      <td>22</td>\n",
       "      <td>1</td>\n",
       "    </tr>\n",
       "    <tr>\n",
       "      <th>2</th>\n",
       "      <td>dd3fe9e9-ea82-4891-ab93-8a47c80e3251</td>\n",
       "      <td>bd545b4a-9f54-4e87-b9f8-15ae20b44f22</td>\n",
       "      <td>844</td>\n",
       "      <td>50</td>\n",
       "      <td>42.511343</td>\n",
       "      <td>Comedy</td>\n",
       "      <td>Japan</td>\n",
       "      <td>14</td>\n",
       "      <td>Female</td>\n",
       "      <td>Premium</td>\n",
       "      <td>3</td>\n",
       "      <td>Spanish</td>\n",
       "      <td>Tablet</td>\n",
       "      <td>Vaughntown</td>\n",
       "      <td>HD</td>\n",
       "      <td>41</td>\n",
       "      <td>2</td>\n",
       "    </tr>\n",
       "    <tr>\n",
       "      <th>3</th>\n",
       "      <td>a1b3365b-1d00-4ddf-bc43-02fc9c10c680</td>\n",
       "      <td>0441086d-c59e-478d-a496-5c5b995ecfdb</td>\n",
       "      <td>201</td>\n",
       "      <td>38</td>\n",
       "      <td>53.316660</td>\n",
       "      <td>Documentary</td>\n",
       "      <td>Lao People's Democratic Republic</td>\n",
       "      <td>36</td>\n",
       "      <td>Male</td>\n",
       "      <td>Premium</td>\n",
       "      <td>2</td>\n",
       "      <td>Spanish</td>\n",
       "      <td>Laptop</td>\n",
       "      <td>East Raymondbury</td>\n",
       "      <td>SD</td>\n",
       "      <td>40</td>\n",
       "      <td>3</td>\n",
       "    </tr>\n",
       "    <tr>\n",
       "      <th>4</th>\n",
       "      <td>338d3f91-5f1c-4590-8803-324901826406</td>\n",
       "      <td>0295f01d-7f15-4799-856c-90c688697ef8</td>\n",
       "      <td>700</td>\n",
       "      <td>31</td>\n",
       "      <td>69.437786</td>\n",
       "      <td>Action</td>\n",
       "      <td>Bangladesh</td>\n",
       "      <td>31</td>\n",
       "      <td>Male</td>\n",
       "      <td>Premium</td>\n",
       "      <td>4</td>\n",
       "      <td>German</td>\n",
       "      <td>Laptop</td>\n",
       "      <td>Michaelchester</td>\n",
       "      <td>HD</td>\n",
       "      <td>41</td>\n",
       "      <td>4</td>\n",
       "    </tr>\n",
       "  </tbody>\n",
       "</table>\n",
       "</div>"
      ],
      "text/plain": [
       "                                User_ID                            Session_ID  \\\n",
       "0  eb4f9229-74df-45f6-baac-cf19241b8b30  cb2142a7-0750-49ed-b8ac-a975fe1ff69a   \n",
       "1  661d4b59-4328-410a-901c-1e3b4c40c334  3bc0a662-b353-4015-8b0c-55ceb510d13a   \n",
       "2  dd3fe9e9-ea82-4891-ab93-8a47c80e3251  bd545b4a-9f54-4e87-b9f8-15ae20b44f22   \n",
       "3  a1b3365b-1d00-4ddf-bc43-02fc9c10c680  0441086d-c59e-478d-a496-5c5b995ecfdb   \n",
       "4  338d3f91-5f1c-4590-8803-324901826406  0295f01d-7f15-4799-856c-90c688697ef8   \n",
       "\n",
       "   Device_ID  Video_ID  Duration_Watched (minutes)        Genre  \\\n",
       "0        232        11                   90.044525       Sci-Fi   \n",
       "1        549        85                   68.973479       Comedy   \n",
       "2        844        50                   42.511343       Comedy   \n",
       "3        201        38                   53.316660  Documentary   \n",
       "4        700        31                   69.437786       Action   \n",
       "\n",
       "                            Country  Age  Gender Subscription_Status  Ratings  \\\n",
       "0                             Sudan   56  Female             Premium        3   \n",
       "1                              Cuba   52    Male             Premium        3   \n",
       "2                             Japan   14  Female             Premium        3   \n",
       "3  Lao People's Democratic Republic   36    Male             Premium        2   \n",
       "4                        Bangladesh   31    Male             Premium        4   \n",
       "\n",
       "  Languages Device_Type          Location Playback_Quality  \\\n",
       "0   Spanish  Smartphone         Reedshire               4K   \n",
       "1   Chinese     Desktop       Stevenhaven               SD   \n",
       "2   Spanish      Tablet        Vaughntown               HD   \n",
       "3   Spanish      Laptop  East Raymondbury               SD   \n",
       "4    German      Laptop    Michaelchester               HD   \n",
       "\n",
       "   Interaction_Events  ID  \n",
       "0                  73   0  \n",
       "1                  22   1  \n",
       "2                  41   2  \n",
       "3                  40   3  \n",
       "4                  41   4  "
      ]
     },
     "execution_count": 1006,
     "metadata": {},
     "output_type": "execute_result"
    }
   ],
   "source": [
    "streaming['ID'] = streaming.index\n",
    "streaming.head()"
   ]
  },
  {
   "cell_type": "code",
   "execution_count": 1007,
   "metadata": {},
   "outputs": [
    {
     "data": {
      "text/plain": [
       "Index(['User_ID', 'Session_ID', 'Device_ID', 'Video_ID',\n",
       "       'Duration_Watched (minutes)', 'Genre', 'Country', 'Age', 'Gender',\n",
       "       'Subscription_Status', 'Ratings', 'Languages', 'Device_Type',\n",
       "       'Location', 'Playback_Quality', 'Interaction_Events', 'ID'],\n",
       "      dtype='object')"
      ]
     },
     "execution_count": 1007,
     "metadata": {},
     "output_type": "execute_result"
    }
   ],
   "source": [
    "streaming.columns"
   ]
  },
  {
   "cell_type": "code",
   "execution_count": 1008,
   "metadata": {},
   "outputs": [
    {
     "data": {
      "text/html": [
       "<div>\n",
       "<style scoped>\n",
       "    .dataframe tbody tr th:only-of-type {\n",
       "        vertical-align: middle;\n",
       "    }\n",
       "\n",
       "    .dataframe tbody tr th {\n",
       "        vertical-align: top;\n",
       "    }\n",
       "\n",
       "    .dataframe thead th {\n",
       "        text-align: right;\n",
       "    }\n",
       "</style>\n",
       "<table border=\"1\" class=\"dataframe\">\n",
       "  <thead>\n",
       "    <tr style=\"text-align: right;\">\n",
       "      <th></th>\n",
       "      <th>ID</th>\n",
       "      <th>User_ID</th>\n",
       "      <th>Country</th>\n",
       "      <th>Location</th>\n",
       "      <th>Age</th>\n",
       "      <th>Gender</th>\n",
       "      <th>Subscription_Status</th>\n",
       "      <th>Device_ID</th>\n",
       "      <th>Device_Type</th>\n",
       "      <th>Session_ID</th>\n",
       "      <th>Video_ID</th>\n",
       "      <th>Genre</th>\n",
       "      <th>Languages</th>\n",
       "      <th>Playback_Quality</th>\n",
       "      <th>Duration_Watched (minutes)</th>\n",
       "      <th>Ratings</th>\n",
       "      <th>Interaction_Events</th>\n",
       "    </tr>\n",
       "  </thead>\n",
       "  <tbody>\n",
       "    <tr>\n",
       "      <th>0</th>\n",
       "      <td>0</td>\n",
       "      <td>eb4f9229-74df-45f6-baac-cf19241b8b30</td>\n",
       "      <td>Sudan</td>\n",
       "      <td>Reedshire</td>\n",
       "      <td>56</td>\n",
       "      <td>Female</td>\n",
       "      <td>Premium</td>\n",
       "      <td>232</td>\n",
       "      <td>Smartphone</td>\n",
       "      <td>cb2142a7-0750-49ed-b8ac-a975fe1ff69a</td>\n",
       "      <td>11</td>\n",
       "      <td>Sci-Fi</td>\n",
       "      <td>Spanish</td>\n",
       "      <td>4K</td>\n",
       "      <td>90.044525</td>\n",
       "      <td>3</td>\n",
       "      <td>73</td>\n",
       "    </tr>\n",
       "    <tr>\n",
       "      <th>1</th>\n",
       "      <td>1</td>\n",
       "      <td>661d4b59-4328-410a-901c-1e3b4c40c334</td>\n",
       "      <td>Cuba</td>\n",
       "      <td>Stevenhaven</td>\n",
       "      <td>52</td>\n",
       "      <td>Male</td>\n",
       "      <td>Premium</td>\n",
       "      <td>549</td>\n",
       "      <td>Desktop</td>\n",
       "      <td>3bc0a662-b353-4015-8b0c-55ceb510d13a</td>\n",
       "      <td>85</td>\n",
       "      <td>Comedy</td>\n",
       "      <td>Chinese</td>\n",
       "      <td>SD</td>\n",
       "      <td>68.973479</td>\n",
       "      <td>3</td>\n",
       "      <td>22</td>\n",
       "    </tr>\n",
       "    <tr>\n",
       "      <th>2</th>\n",
       "      <td>2</td>\n",
       "      <td>dd3fe9e9-ea82-4891-ab93-8a47c80e3251</td>\n",
       "      <td>Japan</td>\n",
       "      <td>Vaughntown</td>\n",
       "      <td>14</td>\n",
       "      <td>Female</td>\n",
       "      <td>Premium</td>\n",
       "      <td>844</td>\n",
       "      <td>Tablet</td>\n",
       "      <td>bd545b4a-9f54-4e87-b9f8-15ae20b44f22</td>\n",
       "      <td>50</td>\n",
       "      <td>Comedy</td>\n",
       "      <td>Spanish</td>\n",
       "      <td>HD</td>\n",
       "      <td>42.511343</td>\n",
       "      <td>3</td>\n",
       "      <td>41</td>\n",
       "    </tr>\n",
       "    <tr>\n",
       "      <th>3</th>\n",
       "      <td>3</td>\n",
       "      <td>a1b3365b-1d00-4ddf-bc43-02fc9c10c680</td>\n",
       "      <td>Lao People's Democratic Republic</td>\n",
       "      <td>East Raymondbury</td>\n",
       "      <td>36</td>\n",
       "      <td>Male</td>\n",
       "      <td>Premium</td>\n",
       "      <td>201</td>\n",
       "      <td>Laptop</td>\n",
       "      <td>0441086d-c59e-478d-a496-5c5b995ecfdb</td>\n",
       "      <td>38</td>\n",
       "      <td>Documentary</td>\n",
       "      <td>Spanish</td>\n",
       "      <td>SD</td>\n",
       "      <td>53.316660</td>\n",
       "      <td>2</td>\n",
       "      <td>40</td>\n",
       "    </tr>\n",
       "    <tr>\n",
       "      <th>4</th>\n",
       "      <td>4</td>\n",
       "      <td>338d3f91-5f1c-4590-8803-324901826406</td>\n",
       "      <td>Bangladesh</td>\n",
       "      <td>Michaelchester</td>\n",
       "      <td>31</td>\n",
       "      <td>Male</td>\n",
       "      <td>Premium</td>\n",
       "      <td>700</td>\n",
       "      <td>Laptop</td>\n",
       "      <td>0295f01d-7f15-4799-856c-90c688697ef8</td>\n",
       "      <td>31</td>\n",
       "      <td>Action</td>\n",
       "      <td>German</td>\n",
       "      <td>HD</td>\n",
       "      <td>69.437786</td>\n",
       "      <td>4</td>\n",
       "      <td>41</td>\n",
       "    </tr>\n",
       "  </tbody>\n",
       "</table>\n",
       "</div>"
      ],
      "text/plain": [
       "   ID                               User_ID                           Country  \\\n",
       "0   0  eb4f9229-74df-45f6-baac-cf19241b8b30                             Sudan   \n",
       "1   1  661d4b59-4328-410a-901c-1e3b4c40c334                              Cuba   \n",
       "2   2  dd3fe9e9-ea82-4891-ab93-8a47c80e3251                             Japan   \n",
       "3   3  a1b3365b-1d00-4ddf-bc43-02fc9c10c680  Lao People's Democratic Republic   \n",
       "4   4  338d3f91-5f1c-4590-8803-324901826406                        Bangladesh   \n",
       "\n",
       "           Location  Age  Gender Subscription_Status  Device_ID Device_Type  \\\n",
       "0         Reedshire   56  Female             Premium        232  Smartphone   \n",
       "1       Stevenhaven   52    Male             Premium        549     Desktop   \n",
       "2        Vaughntown   14  Female             Premium        844      Tablet   \n",
       "3  East Raymondbury   36    Male             Premium        201      Laptop   \n",
       "4    Michaelchester   31    Male             Premium        700      Laptop   \n",
       "\n",
       "                             Session_ID  Video_ID        Genre Languages  \\\n",
       "0  cb2142a7-0750-49ed-b8ac-a975fe1ff69a        11       Sci-Fi   Spanish   \n",
       "1  3bc0a662-b353-4015-8b0c-55ceb510d13a        85       Comedy   Chinese   \n",
       "2  bd545b4a-9f54-4e87-b9f8-15ae20b44f22        50       Comedy   Spanish   \n",
       "3  0441086d-c59e-478d-a496-5c5b995ecfdb        38  Documentary   Spanish   \n",
       "4  0295f01d-7f15-4799-856c-90c688697ef8        31       Action    German   \n",
       "\n",
       "  Playback_Quality  Duration_Watched (minutes)  Ratings  Interaction_Events  \n",
       "0               4K                   90.044525        3                  73  \n",
       "1               SD                   68.973479        3                  22  \n",
       "2               HD                   42.511343        3                  41  \n",
       "3               SD                   53.316660        2                  40  \n",
       "4               HD                   69.437786        4                  41  "
      ]
     },
     "execution_count": 1008,
     "metadata": {},
     "output_type": "execute_result"
    }
   ],
   "source": [
    "# List the columns in the desired order\n",
    "columns_order = ['ID', 'User_ID', 'Country', 'Location', 'Age', 'Gender',\n",
    "       'Subscription_Status', 'Device_ID', 'Device_Type', 'Session_ID',\n",
    "       'Video_ID', 'Genre', 'Languages', 'Playback_Quality',\n",
    "       'Duration_Watched (minutes)', 'Ratings', 'Interaction_Events']\n",
    "\n",
    "# Reorder the columns\n",
    "streaming = streaming[columns_order]\n",
    "\n",
    "# Display the first few rows to verify the column order\n",
    "streaming.head()"
   ]
  },
  {
   "cell_type": "markdown",
   "metadata": {},
   "source": [
    "#### Country Standarization"
   ]
  },
  {
   "cell_type": "markdown",
   "metadata": {},
   "source": [
    "Standardize Country Names: Let's adjust the country names to align with ISO standards for consistency and accuracy."
   ]
  },
  {
   "cell_type": "code",
   "execution_count": 1009,
   "metadata": {},
   "outputs": [
    {
     "name": "stdout",
     "output_type": "stream",
     "text": [
      "Corrected list of unique countries:\n",
      "['Sudan' 'Cuba' 'Japan' 'Laos' 'Bangladesh' 'Tokelau' 'Guyana' 'Guinea'\n",
      " 'Palau' 'Ecuador' 'Iceland' 'Colombia' 'Dominican Republic' 'Georgia'\n",
      " 'Malaysia' 'Togo' 'Iran' 'Estonia' 'South Korea' 'Lebanon'\n",
      " 'Trinidad and Tobago' 'St Vincent & Grenadines' 'Belarus'\n",
      " 'Northern Mariana Islands, U.S.' 'Jersey' 'Niue' 'Lesotho' 'Anguilla'\n",
      " 'Romania' 'Uganda' 'Comoros' 'Austria' 'Paraguay' 'Angola' 'Philippines'\n",
      " 'Cambodia' 'Benin' 'Yemen' 'Luxembourg' 'Malawi'\n",
      " 'Heard Island and McDonald McDonald Islands' 'Wallis and Futuna Islands'\n",
      " 'Macao SAR China' 'Honduras' 'Liechtenstein' 'Uruguay' 'Cameroon'\n",
      " 'Cabo Verde' 'San Marino' 'Guadeloupe' 'Dominica' 'Egypt' 'Jamaica'\n",
      " 'Portugal' 'French Polynesia' 'The Gambia' 'Niger' 'Fiji'\n",
      " 'Virgin Islands, U.S.' 'Aruba' 'French Southern and Antarctic Lands'\n",
      " 'China' 'Sweden' 'Ivory Coast' 'Saudi Arabia' 'Croatia' 'Barbados'\n",
      " 'Turkmenistan' 'Falkland Islands (Malvinas)' 'Sierra Leone' 'Venezuela'\n",
      " 'South Africa' 'Denmark' 'Tanzania' 'Bolivia'\n",
      " 'South Georgia & South Sandwich Islands' 'Senegal' 'Bermuda' 'Chile'\n",
      " 'Bhutan' 'Mexico' 'Switzerland' 'Kazakhstan' 'Isle of Man' 'Guam'\n",
      " 'Brunei' 'Zambia' 'Mozambique' 'Slovenia' 'Serbia' 'Palestine'\n",
      " 'United Arab Emirates' 'Macedonia' 'Suriname' 'Latvia' 'Mayotte' 'Nauru'\n",
      " 'Maldives' 'Christmas Island' 'Bulgaria' 'Belize' 'Kuwait' 'Armenia'\n",
      " 'Burundi' 'Eritrea' 'Bosnia and Herzegovina' 'Nepal' 'Malta' 'Lithuania'\n",
      " 'India' 'Costa Rica' 'Faroe Islands' 'Zimbabwe' 'Hong Kong SAR China'\n",
      " 'Mauritius' 'New Caledonia' 'Greece' 'Mongolia' 'Italy' 'Norway'\n",
      " 'Virgin Islands, British' 'Réunion' 'Brazil' 'St Lucia' 'Ukraine'\n",
      " 'Panama' 'São Tomé and Príncipe' 'Turkey' 'Cocos (Keeling) Islands'\n",
      " 'Kenya' 'Morocco' 'Mauritania' 'Somalia' 'Turks & Caicos Islands'\n",
      " 'Tunisia' 'St Kitts & Nevis' 'Bahamas' 'Czechia' 'Kiribati' 'St. Helena'\n",
      " 'Papua New Guinea' 'Slovakia' 'Saint Barthélemy' 'Republic of the Congo'\n",
      " 'Seychelles' 'Samoa' 'Guernsey' 'Pakistan' 'Cook Islands'\n",
      " 'Myanmar (Burma)' 'Syria' 'Madagascar' 'Curaçao' 'Hungary' 'Ethiopia'\n",
      " 'Cyprus' 'Sint Maarten' 'Libya' 'Qatar' 'Martinique' 'Puerto Rico'\n",
      " 'British Indian Ocean Territory (Chagos Archipelago)'\n",
      " 'Svalbard and Jan Mayen' 'Afghanistan' 'Jordan'\n",
      " 'Bouvet Island (Bouvetoya)' 'St Pierre & Miquelon' 'New Zealand'\n",
      " 'Guatemala' 'Uzbekistan' 'Singapore' 'Micronesia' 'Israel' 'Vietnam'\n",
      " 'Canada' 'Sri Lanka' 'Sahrawi Arab Democratic Republic' 'Tonga' 'Haiti'\n",
      " 'American Samoa' 'Nicaragua' 'United States'\n",
      " 'United States Minor Outlying Islands' 'Montserrat' 'Albania' 'Monaco'\n",
      " 'Chad' 'Vatican City' 'Equatorial Guinea' 'Azerbaijan' 'Antarctica'\n",
      " 'Argentina' 'France' 'Finland' 'Oman' 'Central African Republic' 'Tuvalu'\n",
      " 'Gabon' 'Montenegro' 'Marshall Islands' 'Antigua and Barbuda' 'Namibia'\n",
      " 'Australia' 'Pitcairn' 'Botswana' 'Mali' 'Ireland' 'Burkina Faso'\n",
      " 'Gibraltar' 'East Timor' 'Kyrgyzstan' 'Tajikistan' 'Spain' 'El Salvador'\n",
      " 'Bahrain' 'Russia' 'Germany' 'Solomon Islands' 'Cayman Islands' 'Ghana'\n",
      " 'Nigeria' 'United Kingdom' 'Poland' 'Rwanda' 'Eswatini' 'Greenland'\n",
      " 'Netherlands' 'Moldova' 'Peru' 'Vanuatu' 'Guinea Bissau' 'Andorra' 'Iraq'\n",
      " 'Liberia' 'Grenada' 'Algeria' 'Belgium' 'Indonesia' 'French Guiana'\n",
      " 'Norfolk Island' 'Djibouti' 'Thailand' 'Taiwan, Province of China']\n",
      "\n",
      "Number of non-matching countries after correction: 40\n",
      "Non-matching countries after correction: ['Laos', 'Iran', 'South Korea', 'St Vincent & Grenadines', 'Northern Mariana Islands, U.S.', 'Heard Island and McDonald McDonald Islands', 'Wallis and Futuna Islands', 'Macao SAR China', 'The Gambia', 'French Southern and Antarctic Lands', 'Ivory Coast', 'Venezuela', 'Tanzania', 'Bolivia', 'South Georgia & South Sandwich Islands', 'Brunei', 'Palestine', 'Macedonia', 'Hong Kong SAR China', 'St Lucia', 'São Tomé and Príncipe', 'Turkey', 'Turks & Caicos Islands', 'St Kitts & Nevis', 'St. Helena', 'Republic of the Congo', 'Myanmar (Burma)', 'Syria', 'Sint Maarten', 'British Indian Ocean Territory (Chagos Archipelago)', 'Bouvet Island (Bouvetoya)', 'St Pierre & Miquelon', 'Micronesia', 'Vietnam', 'Sahrawi Arab Democratic Republic', 'Vatican City', 'East Timor', 'Russia', 'Moldova', 'Guinea Bissau']\n"
     ]
    }
   ],
   "source": [
    "# Create a mapping dictionary for non-matching countries\n",
    "country_corrections_1 = {\n",
    "    'Korea': 'South Korea',  # South Korea, officially the Republic of Korea\n",
    "    \"Lao People's Democratic Republic\": 'Laos',\n",
    "    'Macao': 'Macao SAR China',\n",
    "    'Palestinian Territory': 'Palestine',\n",
    "    'Saint Barthelemy': 'Saint Barthélemy',\n",
    "    'United States of America': 'United States',\n",
    "    'Russian Federation': 'Russia',\n",
    "    'Libyan Arab Jamahiriya': 'Libya',\n",
    "    'Cote d\\'Ivoire': 'Ivory Coast',\n",
    "    'Kyrgyz Republic': 'Kyrgyzstan',\n",
    "    'Slovakia (Slovak Republic)': 'Slovakia',\n",
    "    'Holy See (Vatican City State)': 'Vatican City',\n",
    "    'British Virgin Islands': 'Virgin Islands, British',\n",
    "    'United States Virgin Islands': 'Virgin Islands, U.S.',\n",
    "    'Svalbard & Jan Mayen Islands': 'Svalbard and Jan Mayen',\n",
    "    'Sao Tome and Principe': 'São Tomé and Príncipe',\n",
    "    'Saint Martin': 'Sint Maarten',\n",
    "    'Myanmar': 'Myanmar (Burma)',\n",
    "    'Swaziland': 'Eswatini',\n",
    "    'Heard Island and McDonald Islands': 'Heard Island and McDonald McDonald Islands',\n",
    "    'Congo': 'Republic of the Congo',\n",
    "    'Taiwan': 'Taiwan, Province of China',\n",
    "    'Hong Kong': 'Hong Kong SAR China',\n",
    "    'Netherlands Antilles': 'Curaçao',  # Netherlands Antilles dissolved, Curacao is one of the successor countries\n",
    "    'Pitcairn Islands': 'Pitcairn',\n",
    "    'Western Sahara': 'Sahrawi Arab Democratic Republic',\n",
    "    'Brunei Darussalam': 'Brunei',\n",
    "    'Czech Republic': 'Czechia',\n",
    "    'Saint Kitts and Nevis': 'St Kitts & Nevis',\n",
    "    'Cape Verde': 'Cabo Verde',\n",
    "    'French Southern Territories': 'French Southern and Antarctic Lands',\n",
    "    'Syrian Arab Republic': 'Syria',\n",
    "    'Guinea-Bissau': 'Guinea Bissau',\n",
    "    'South Korea': 'Korea, Republic of',\n",
    "    'North Macedonia': 'Macedonia',\n",
    "    'Reunion': 'Réunion',\n",
    "    'Saint Helena': 'St. Helena',\n",
    "    'Turks and Caicos Islands': 'Turks & Caicos Islands',\n",
    "    'Wallis and Futuna': 'Wallis and Futuna Islands',\n",
    "    'South Georgia and the South Sandwich Islands': 'South Georgia & South Sandwich Islands',\n",
    "    'Antarctica (the territory South of 60 deg S)': 'Antarctica',\n",
    "    'Saint Pierre and Miquelon': 'St Pierre & Miquelon',\n",
    "    'Timor-Leste': 'East Timor',\n",
    "    'Saint Vincent and the Grenadines': 'St Vincent & Grenadines',\n",
    "    'Saint Lucia': 'St Lucia',\n",
    "    'Northern Mariana Islands': 'Northern Mariana Islands, U.S.',\n",
    "    'Cocos (Keeling) Islands': 'Cocos (Keeling) Islands',\n",
    "    'Heard Island and McDonald McDonald Islands': 'Heard & McDonald Islands',\n",
    "    'Gambia': 'The Gambia',\n",
    "    'Faroe Islands': 'Faroe Islands',\n",
    "    'Tokelau': 'Tokelau',\n",
    "    'Bonaire, Sint Eustatius and Saba': 'Caribbean Netherlands',\n",
    "    'St. Helena': 'Saint Helena, Ascension and Tristan da Cunha',\n",
    "}\n",
    "\n",
    "# Replace non-matching country names in the dataset\n",
    "streaming['Country'] = streaming['Country'].replace(country_corrections_1)\n",
    "\n",
    "# Extract the corrected unique country names\n",
    "corrected_country_list = streaming['Country'].unique()\n",
    "\n",
    "# Verify the corrections\n",
    "iso_countries = {country.name for country in pycountry.countries}\n",
    "non_iso_countries_after_correction = [country for country in corrected_country_list if country not in iso_countries]\n",
    "\n",
    "# Display results\n",
    "print(\"Corrected list of unique countries:\")\n",
    "print(corrected_country_list)\n",
    "\n",
    "print(\"\\nNumber of non-matching countries after correction:\", len(non_iso_countries_after_correction))\n",
    "print(\"Non-matching countries after correction:\", non_iso_countries_after_correction)"
   ]
  },
  {
   "cell_type": "code",
   "execution_count": 1010,
   "metadata": {},
   "outputs": [
    {
     "name": "stdout",
     "output_type": "stream",
     "text": [
      "Corrected list of unique countries:\n",
      "['Sudan' 'Cuba' 'Japan' \"Lao People's Democratic Republic\" 'Bangladesh'\n",
      " 'Tokelau' 'Guyana' 'Guinea' 'Palau' 'Ecuador' 'Iceland' 'Colombia'\n",
      " 'Dominican Republic' 'Georgia' 'Malaysia' 'Togo'\n",
      " 'Iran, Islamic Republic of' 'Estonia' 'South Korea' 'Lebanon'\n",
      " 'Trinidad and Tobago' 'Saint Vincent and the Grenadines' 'Belarus'\n",
      " 'Northern Mariana Islands' 'Jersey' 'Niue' 'Lesotho' 'Anguilla' 'Romania'\n",
      " 'Uganda' 'Comoros' 'Austria' 'Paraguay' 'Angola' 'Philippines' 'Cambodia'\n",
      " 'Benin' 'Yemen' 'Luxembourg' 'Malawi'\n",
      " 'Heard Island and McDonald McDonald Islands' 'Wallis and Futuna' 'Macao'\n",
      " 'Honduras' 'Liechtenstein' 'Uruguay' 'Cameroon' 'Cabo Verde' 'San Marino'\n",
      " 'Guadeloupe' 'Dominica' 'Egypt' 'Jamaica' 'Portugal' 'French Polynesia'\n",
      " 'Gambia' 'Niger' 'Fiji' 'Virgin Islands, U.S.' 'Aruba'\n",
      " 'French Southern Territories' 'China' 'Sweden' \"Côte d'Ivoire\"\n",
      " 'Saudi Arabia' 'Croatia' 'Barbados' 'Turkmenistan'\n",
      " 'Falkland Islands (Malvinas)' 'Sierra Leone'\n",
      " 'Venezuela, Bolivarian Republic of' 'South Africa' 'Denmark'\n",
      " 'Tanzania, United Republic of' 'Bolivia, Plurinational State of'\n",
      " 'South Georgia and the South Sandwich Islands' 'Senegal' 'Bermuda'\n",
      " 'Chile' 'Bhutan' 'Mexico' 'Switzerland' 'Kazakhstan' 'Isle of Man' 'Guam'\n",
      " 'Brunei Darussalam' 'Zambia' 'Mozambique' 'Slovenia' 'Serbia'\n",
      " 'Palestine, State of' 'United Arab Emirates' 'North Macedonia' 'Suriname'\n",
      " 'Latvia' 'Mayotte' 'Nauru' 'Maldives' 'Christmas Island' 'Bulgaria'\n",
      " 'Belize' 'Kuwait' 'Armenia' 'Burundi' 'Eritrea' 'Bosnia and Herzegovina'\n",
      " 'Nepal' 'Malta' 'Lithuania' 'India' 'Costa Rica' 'Faroe Islands'\n",
      " 'Zimbabwe' 'Hong Kong' 'Mauritius' 'New Caledonia' 'Greece' 'Mongolia'\n",
      " 'Italy' 'Norway' 'Virgin Islands, British' 'Réunion' 'Brazil'\n",
      " 'Saint Lucia' 'Ukraine' 'Panama' 'Sao Tome and Principe' 'Türkiye'\n",
      " 'Cocos (Keeling) Islands' 'Kenya' 'Morocco' 'Mauritania' 'Somalia'\n",
      " 'Turks and Caicos Islands' 'Tunisia' 'Saint Kitts and Nevis' 'Bahamas'\n",
      " 'Czechia' 'Kiribati' 'St. Helena' 'Papua New Guinea' 'Slovakia'\n",
      " 'Saint Barthélemy' 'Congo' 'Seychelles' 'Samoa' 'Guernsey' 'Pakistan'\n",
      " 'Cook Islands' 'Myanmar' 'Syrian Arab Republic' 'Madagascar' 'Curaçao'\n",
      " 'Hungary' 'Ethiopia' 'Cyprus' 'Saint Martin (French part)' 'Libya'\n",
      " 'Qatar' 'Martinique' 'Puerto Rico' 'British Indian Ocean Territory'\n",
      " 'Svalbard and Jan Mayen' 'Afghanistan' 'Jordan' 'Bouvet Island'\n",
      " 'Saint Pierre and Miquelon' 'New Zealand' 'Guatemala' 'Uzbekistan'\n",
      " 'Singapore' 'Micronesia, Federated States of' 'Israel' 'Viet Nam'\n",
      " 'Canada' 'Sri Lanka' 'Western Sahara' 'Tonga' 'Haiti' 'American Samoa'\n",
      " 'Nicaragua' 'United States' 'United States Minor Outlying Islands'\n",
      " 'Montserrat' 'Albania' 'Monaco' 'Chad' 'Holy See (Vatican City State)'\n",
      " 'Equatorial Guinea' 'Azerbaijan' 'Antarctica' 'Argentina' 'France'\n",
      " 'Finland' 'Oman' 'Central African Republic' 'Tuvalu' 'Gabon' 'Montenegro'\n",
      " 'Marshall Islands' 'Antigua and Barbuda' 'Namibia' 'Australia' 'Pitcairn'\n",
      " 'Botswana' 'Mali' 'Ireland' 'Burkina Faso' 'Gibraltar' 'Timor-Leste'\n",
      " 'Kyrgyzstan' 'Tajikistan' 'Spain' 'El Salvador' 'Bahrain'\n",
      " 'Russian Federation' 'Germany' 'Solomon Islands' 'Cayman Islands' 'Ghana'\n",
      " 'Nigeria' 'United Kingdom' 'Poland' 'Rwanda' 'Eswatini' 'Greenland'\n",
      " 'Netherlands' 'Moldova, Republic of' 'Peru' 'Vanuatu' 'Guinea-Bissau'\n",
      " 'Andorra' 'Iraq' 'Liberia' 'Grenada' 'Algeria' 'Belgium' 'Indonesia'\n",
      " 'French Guiana' 'Norfolk Island' 'Djibouti' 'Thailand'\n",
      " 'Taiwan, Province of China']\n",
      "\n",
      "Number of non-matching countries after correction: 3\n",
      "Non-matching countries after correction: ['South Korea', 'Heard Island and McDonald McDonald Islands', 'St. Helena']\n"
     ]
    }
   ],
   "source": [
    "# Updated mapping dictionary for non-matching countries\n",
    "country_corrections_2 = {\n",
    "    'Laos': 'Lao People\\'s Democratic Republic',\n",
    "    'Iran': 'Iran, Islamic Republic of',\n",
    "    'St Vincent & Grenadines': 'Saint Vincent and the Grenadines',\n",
    "    'Northern Mariana Islands, U.S.': 'Northern Mariana Islands',\n",
    "    'Heard & McDonald Islands': 'Heard Island and McDonald Islands',\n",
    "    'Wallis and Futuna Islands': 'Wallis and Futuna',\n",
    "    'Macao SAR China': 'Macao',\n",
    "    'The Gambia': 'Gambia',\n",
    "    'French Southern and Antarctic Lands': 'French Southern Territories',\n",
    "    'Ivory Coast': 'Côte d\\'Ivoire',\n",
    "    'Venezuela': 'Venezuela, Bolivarian Republic of',\n",
    "    'Tanzania': 'Tanzania, United Republic of',\n",
    "    'Bolivia': 'Bolivia, Plurinational State of',\n",
    "    'South Georgia & South Sandwich Islands': 'South Georgia and the South Sandwich Islands',\n",
    "    'Brunei': 'Brunei Darussalam',\n",
    "    'Palestine': 'Palestine, State of',\n",
    "    'Macedonia': 'North Macedonia',\n",
    "    'Hong Kong SAR China': 'Hong Kong',\n",
    "    'St Lucia': 'Saint Lucia',\n",
    "    'São Tomé and Príncipe': 'Sao Tome and Principe',\n",
    "    'Turkey': 'Türkiye',\n",
    "    'Turks & Caicos Islands': 'Turks and Caicos Islands',\n",
    "    'St Kitts & Nevis': 'Saint Kitts and Nevis',\n",
    "    'Republic of the Congo': 'Congo',\n",
    "    'Myanmar (Burma)': 'Myanmar',\n",
    "    'Syria': 'Syrian Arab Republic',\n",
    "    'Sint Maarten': 'Saint Martin (French part)',\n",
    "    'British Indian Ocean Territory (Chagos Archipelago)': 'British Indian Ocean Territory',\n",
    "    'Bouvet Island (Bouvetoya)': 'Bouvet Island',\n",
    "    'St Pierre & Miquelon': 'Saint Pierre and Miquelon',\n",
    "    'Micronesia': 'Micronesia, Federated States of',\n",
    "    'Vietnam': 'Viet Nam',\n",
    "    'Sahrawi Arab Democratic Republic': 'Western Sahara',\n",
    "    'Vatican City': 'Holy See (Vatican City State)',\n",
    "    'East Timor': 'Timor-Leste',\n",
    "    'Russia': 'Russian Federation',\n",
    "    'Moldova': 'Moldova, Republic of',\n",
    "    'Guinea Bissau': 'Guinea-Bissau'\n",
    "}\n",
    "\n",
    "# Replace non-matching country names with their ISO standard equivalents\n",
    "streaming['Country'] = streaming['Country'].replace(country_corrections_2)\n",
    "\n",
    "# Verify the corrections\n",
    "corrected_unique_countries = streaming['Country'].unique()\n",
    "\n",
    "# Check how many are still not matching\n",
    "iso_countries = {country.name for country in pycountry.countries}\n",
    "non_iso_countries_after_correction = [country for country in corrected_unique_countries if country not in iso_countries]\n",
    "\n",
    "# Display results\n",
    "print(\"Corrected list of unique countries:\")\n",
    "print(corrected_unique_countries)\n",
    "\n",
    "print(\"\\nNumber of non-matching countries after correction:\", len(non_iso_countries_after_correction))\n",
    "print(\"Non-matching countries after correction:\", non_iso_countries_after_correction)"
   ]
  },
  {
   "cell_type": "code",
   "execution_count": 1011,
   "metadata": {},
   "outputs": [
    {
     "data": {
      "text/plain": [
       "(array(['Sudan', 'Cuba', 'Japan', \"Lao People's Democratic Republic\",\n",
       "        'Bangladesh', 'Tokelau', 'Guyana', 'Guinea', 'Palau', 'Ecuador',\n",
       "        'Iceland', 'Colombia', 'Dominican Republic', 'Georgia', 'Malaysia',\n",
       "        'Togo', 'Iran, Islamic Republic of', 'Estonia',\n",
       "        'Korea, Republic of', 'Lebanon', 'Trinidad and Tobago',\n",
       "        'Saint Vincent and the Grenadines', 'Belarus',\n",
       "        'Northern Mariana Islands', 'Jersey', 'Niue', 'Lesotho',\n",
       "        'Anguilla', 'Romania', 'Uganda', 'Comoros', 'Austria', 'Paraguay',\n",
       "        'Angola', 'Philippines', 'Cambodia', 'Benin', 'Yemen',\n",
       "        'Luxembourg', 'Malawi', 'Heard Island and McDonald Islands',\n",
       "        'Wallis and Futuna', 'Macao', 'Honduras', 'Liechtenstein',\n",
       "        'Uruguay', 'Cameroon', 'Cabo Verde', 'San Marino', 'Guadeloupe',\n",
       "        'Dominica', 'Egypt', 'Jamaica', 'Portugal', 'French Polynesia',\n",
       "        'Gambia', 'Niger', 'Fiji', 'Virgin Islands, U.S.', 'Aruba',\n",
       "        'French Southern Territories', 'China', 'Sweden', \"Côte d'Ivoire\",\n",
       "        'Saudi Arabia', 'Croatia', 'Barbados', 'Turkmenistan',\n",
       "        'Falkland Islands (Malvinas)', 'Sierra Leone',\n",
       "        'Venezuela, Bolivarian Republic of', 'South Africa', 'Denmark',\n",
       "        'Tanzania, United Republic of', 'Bolivia, Plurinational State of',\n",
       "        'South Georgia and the South Sandwich Islands', 'Senegal',\n",
       "        'Bermuda', 'Chile', 'Bhutan', 'Mexico', 'Switzerland',\n",
       "        'Kazakhstan', 'Isle of Man', 'Guam', 'Brunei Darussalam', 'Zambia',\n",
       "        'Mozambique', 'Slovenia', 'Serbia', 'Palestine, State of',\n",
       "        'United Arab Emirates', 'North Macedonia', 'Suriname', 'Latvia',\n",
       "        'Mayotte', 'Nauru', 'Maldives', 'Christmas Island', 'Bulgaria',\n",
       "        'Belize', 'Kuwait', 'Armenia', 'Burundi', 'Eritrea',\n",
       "        'Bosnia and Herzegovina', 'Nepal', 'Malta', 'Lithuania', 'India',\n",
       "        'Costa Rica', 'Faroe Islands', 'Zimbabwe', 'Hong Kong',\n",
       "        'Mauritius', 'New Caledonia', 'Greece', 'Mongolia', 'Italy',\n",
       "        'Norway', 'Virgin Islands, British', 'Réunion', 'Brazil',\n",
       "        'Saint Lucia', 'Ukraine', 'Panama', 'Sao Tome and Principe',\n",
       "        'Türkiye', 'Cocos (Keeling) Islands', 'Kenya', 'Morocco',\n",
       "        'Mauritania', 'Somalia', 'Turks and Caicos Islands', 'Tunisia',\n",
       "        'Saint Kitts and Nevis', 'Bahamas', 'Czechia', 'Kiribati',\n",
       "        'Saint Helena, Ascension and Tristan da Cunha', 'Papua New Guinea',\n",
       "        'Slovakia', 'Saint Barthélemy', 'Congo', 'Seychelles', 'Samoa',\n",
       "        'Guernsey', 'Pakistan', 'Cook Islands', 'Myanmar',\n",
       "        'Syrian Arab Republic', 'Madagascar', 'Curaçao', 'Hungary',\n",
       "        'Ethiopia', 'Cyprus', 'Saint Martin (French part)', 'Libya',\n",
       "        'Qatar', 'Martinique', 'Puerto Rico',\n",
       "        'British Indian Ocean Territory', 'Svalbard and Jan Mayen',\n",
       "        'Afghanistan', 'Jordan', 'Bouvet Island',\n",
       "        'Saint Pierre and Miquelon', 'New Zealand', 'Guatemala',\n",
       "        'Uzbekistan', 'Singapore', 'Micronesia, Federated States of',\n",
       "        'Israel', 'Viet Nam', 'Canada', 'Sri Lanka', 'Western Sahara',\n",
       "        'Tonga', 'Haiti', 'American Samoa', 'Nicaragua', 'United States',\n",
       "        'United States Minor Outlying Islands', 'Montserrat', 'Albania',\n",
       "        'Monaco', 'Chad', 'Holy See (Vatican City State)',\n",
       "        'Equatorial Guinea', 'Azerbaijan', 'Antarctica', 'Argentina',\n",
       "        'France', 'Finland', 'Oman', 'Central African Republic', 'Tuvalu',\n",
       "        'Gabon', 'Montenegro', 'Marshall Islands', 'Antigua and Barbuda',\n",
       "        'Namibia', 'Australia', 'Pitcairn', 'Botswana', 'Mali', 'Ireland',\n",
       "        'Burkina Faso', 'Gibraltar', 'Timor-Leste', 'Kyrgyzstan',\n",
       "        'Tajikistan', 'Spain', 'El Salvador', 'Bahrain',\n",
       "        'Russian Federation', 'Germany', 'Solomon Islands',\n",
       "        'Cayman Islands', 'Ghana', 'Nigeria', 'United Kingdom', 'Poland',\n",
       "        'Rwanda', 'Eswatini', 'Greenland', 'Netherlands',\n",
       "        'Moldova, Republic of', 'Peru', 'Vanuatu', 'Guinea-Bissau',\n",
       "        'Andorra', 'Iraq', 'Liberia', 'Grenada', 'Algeria', 'Belgium',\n",
       "        'Indonesia', 'French Guiana', 'Norfolk Island', 'Djibouti',\n",
       "        'Thailand', 'Taiwan, Province of China'], dtype=object),\n",
       " 0,\n",
       " [])"
      ]
     },
     "execution_count": 1011,
     "metadata": {},
     "output_type": "execute_result"
    }
   ],
   "source": [
    "# Updated mapping dictionary for remaining non-matching countries\n",
    "country_corrections_3 = {\n",
    "    'South Korea': 'Korea, Republic of',\n",
    "    'Heard Island and McDonald McDonald Islands': 'Heard Island and McDonald Islands',\n",
    "    'St. Helena': 'Saint Helena, Ascension and Tristan da Cunha',\n",
    "}\n",
    "\n",
    "# Replace non-matching country names with their ISO standard equivalents\n",
    "streaming['Country'] = streaming['Country'].replace(country_corrections_3)\n",
    "\n",
    "# Verify the corrections\n",
    "corrected_unique_countries = streaming['Country'].unique()\n",
    "\n",
    "# Check how many are still not matching\n",
    "iso_countries = {country.name for country in pycountry.countries}\n",
    "non_iso_countries_after_correction = [country for country in corrected_unique_countries if country not in iso_countries]\n",
    "\n",
    "# Display results\n",
    "corrected_unique_countries, len(non_iso_countries_after_correction), non_iso_countries_after_correction"
   ]
  },
  {
   "cell_type": "markdown",
   "metadata": {},
   "source": [
    "The number of non-matching countries is now zero, aligning the 'Country' column data with the ISO 3166 standard."
   ]
  },
  {
   "cell_type": "markdown",
   "metadata": {},
   "source": [
    "##### Visualization for Country"
   ]
  },
  {
   "cell_type": "code",
   "execution_count": 1012,
   "metadata": {},
   "outputs": [
    {
     "data": {
      "image/png": "[encoded data removed]",
      "text/plain": [
       "<Figure size 1200x800 with 1 Axes>"
      ]
     },
     "metadata": {},
     "output_type": "display_data"
    }
   ],
   "source": [
    "# Count the number of users per country\n",
    "country_user_counts = streaming['Country'].value_counts().reset_index()\n",
    "country_user_counts.columns = ['Country', 'User_ID']\n",
    "\n",
    "# Bar plot for User Count by Country\n",
    "plt.figure(figsize=(12, 8))\n",
    "sns.barplot(x='User_ID', y='Country', data=country_user_counts.head(10), palette='viridis')\n",
    "plt.title('Top 10 Countries by User Count')\n",
    "plt.xlabel('Number of Users')\n",
    "plt.ylabel('Country')\n",
    "plt.show()"
   ]
  },
  {
   "cell_type": "markdown",
   "metadata": {},
   "source": [
    "Country is group by counts of the unique User_IDs to determine user counts per country. The bar plot is used to display the top 10 countries with the highest number of users."
   ]
  },
  {
   "cell_type": "code",
   "execution_count": 1013,
   "metadata": {},
   "outputs": [
    {
     "data": {
      "application/vnd.plotly.v1+json": {
       "config": {
        "plotlyServerURL": "https://plot.ly"
       },
       "data": [
        {
         "coloraxis": "coloraxis",
         "geo": "geo",
         "hovertemplate": "<b>%{hovertext}</b><br><br>Country=%{location}<br>User_ID=%{z}<extra></extra>",
         "hovertext": [
          "Congo",
          "Wallis and Futuna",
          "Korea, Republic of",
          "Solomon Islands",
          "Uganda",
          "New Caledonia",
          "Mongolia",
          "Tokelau",
          "Saint Lucia",
          "Chad",
          "Switzerland",
          "Svalbard and Jan Mayen",
          "Brunei Darussalam",
          "Holy See (Vatican City State)",
          "Oman",
          "Comoros",
          "Namibia",
          "Australia",
          "Réunion",
          "Mauritius",
          "Kuwait",
          "Bermuda",
          "Cambodia",
          "Gabon",
          "Barbados",
          "Lesotho",
          "Saint Martin (French part)",
          "Armenia",
          "Egypt",
          "Honduras",
          "Singapore",
          "North Macedonia",
          "San Marino",
          "Malaysia",
          "Tajikistan",
          "Israel",
          "Spain",
          "Antarctica",
          "Niue",
          "Costa Rica",
          "Fiji",
          "Qatar",
          "Somalia",
          "Western Sahara",
          "Malta",
          "Angola",
          "Macao",
          "Norfolk Island",
          "Hong Kong",
          "Jersey",
          "Belarus",
          "American Samoa",
          "Isle of Man",
          "Panama",
          "Slovenia",
          "Turkmenistan",
          "Serbia",
          "Croatia",
          "Suriname",
          "Virgin Islands, U.S.",
          "Anguilla",
          "French Polynesia",
          "Trinidad and Tobago",
          "Uruguay",
          "Cabo Verde",
          "Liberia",
          "Heard Island and McDonald Islands",
          "Niger",
          "Bangladesh",
          "Germany",
          "Saint Barthélemy",
          "Madagascar",
          "Zambia",
          "Saint Vincent and the Grenadines",
          "United States",
          "Botswana",
          "Yemen",
          "Lebanon",
          "Puerto Rico",
          "Ghana",
          "Georgia",
          "Aruba",
          "Sri Lanka",
          "Seychelles",
          "Grenada",
          "Northern Mariana Islands",
          "Papua New Guinea",
          "United Kingdom",
          "Guam",
          "China",
          "Austria",
          "Czechia",
          "Ecuador",
          "New Zealand",
          "Iran, Islamic Republic of",
          "Chile",
          "Senegal",
          "Tanzania, United Republic of",
          "Timor-Leste",
          "French Southern Territories",
          "Sweden",
          "Syrian Arab Republic",
          "Libya",
          "Montenegro",
          "Bulgaria",
          "Falkland Islands (Malvinas)",
          "Samoa",
          "Moldova, Republic of",
          "Algeria",
          "Montserrat",
          "Azerbaijan",
          "Tonga",
          "Central African Republic",
          "Russian Federation",
          "Myanmar",
          "Guernsey",
          "Virgin Islands, British",
          "Sudan",
          "Taiwan, Province of China",
          "Sierra Leone",
          "Lao People's Democratic Republic",
          "Venezuela, Bolivarian Republic of",
          "South Africa",
          "Iceland",
          "Eritrea",
          "Lithuania",
          "Belize",
          "Greece",
          "Viet Nam",
          "Greenland",
          "Maldives",
          "Nauru",
          "Mozambique",
          "Kiribati",
          "Burundi",
          "United States Minor Outlying Islands",
          "Andorra",
          "Mali",
          "Latvia",
          "Côte d'Ivoire",
          "Luxembourg",
          "Türkiye",
          "Portugal",
          "Faroe Islands",
          "Jamaica",
          "Cameroon",
          "Liechtenstein",
          "Micronesia, Federated States of",
          "Bhutan",
          "Mexico",
          "Guatemala",
          "Romania",
          "Norway",
          "Kyrgyzstan",
          "Philippines",
          "Ireland",
          "Benin",
          "Antigua and Barbuda",
          "Dominica",
          "Dominican Republic",
          "Tuvalu",
          "Nepal",
          "Zimbabwe",
          "Morocco",
          "Kenya",
          "Palau",
          "Cocos (Keeling) Islands",
          "Sao Tome and Principe",
          "Japan",
          "Curaçao",
          "Poland",
          "Palestine, State of",
          "Cuba",
          "Saint Helena, Ascension and Tristan da Cunha",
          "France",
          "Malawi",
          "Finland",
          "Thailand",
          "Iraq",
          "Guinea-Bissau",
          "Martinique",
          "Bahrain",
          "Burkina Faso",
          "Slovakia",
          "Canada",
          "Christmas Island",
          "Pakistan",
          "Uzbekistan",
          "Nigeria",
          "Jordan",
          "Vanuatu",
          "Indonesia",
          "Gibraltar",
          "Eswatini",
          "Paraguay",
          "El Salvador",
          "Cayman Islands",
          "Nicaragua",
          "Cyprus",
          "Argentina",
          "Monaco",
          "Bahamas",
          "Bosnia and Herzegovina",
          "Cook Islands",
          "Mayotte",
          "United Arab Emirates",
          "British Indian Ocean Territory",
          "Estonia",
          "Guyana",
          "Tunisia",
          "Saint Kitts and Nevis",
          "Togo",
          "Italy",
          "Bouvet Island",
          "South Georgia and the South Sandwich Islands",
          "Albania",
          "Saint Pierre and Miquelon",
          "Belgium",
          "Ethiopia",
          "Peru",
          "Haiti",
          "Turks and Caicos Islands",
          "Kazakhstan",
          "Saudi Arabia",
          "Mauritania",
          "Ukraine",
          "French Guiana",
          "Equatorial Guinea",
          "Hungary",
          "Marshall Islands",
          "Brazil",
          "Guinea",
          "Djibouti",
          "India",
          "Guadeloupe",
          "Pitcairn",
          "Netherlands",
          "Denmark",
          "Rwanda",
          "Colombia",
          "Bolivia, Plurinational State of",
          "Afghanistan",
          "Gambia"
         ],
         "locationmode": "country names",
         "locations": [
          "Congo",
          "Wallis and Futuna",
          "Korea, Republic of",
          "Solomon Islands",
          "Uganda",
          "New Caledonia",
          "Mongolia",
          "Tokelau",
          "Saint Lucia",
          "Chad",
          "Switzerland",
          "Svalbard and Jan Mayen",
          "Brunei Darussalam",
          "Holy See (Vatican City State)",
          "Oman",
          "Comoros",
          "Namibia",
          "Australia",
          "Réunion",
          "Mauritius",
          "Kuwait",
          "Bermuda",
          "Cambodia",
          "Gabon",
          "Barbados",
          "Lesotho",
          "Saint Martin (French part)",
          "Armenia",
          "Egypt",
          "Honduras",
          "Singapore",
          "North Macedonia",
          "San Marino",
          "Malaysia",
          "Tajikistan",
          "Israel",
          "Spain",
          "Antarctica",
          "Niue",
          "Costa Rica",
          "Fiji",
          "Qatar",
          "Somalia",
          "Western Sahara",
          "Malta",
          "Angola",
          "Macao",
          "Norfolk Island",
          "Hong Kong",
          "Jersey",
          "Belarus",
          "American Samoa",
          "Isle of Man",
          "Panama",
          "Slovenia",
          "Turkmenistan",
          "Serbia",
          "Croatia",
          "Suriname",
          "Virgin Islands, U.S.",
          "Anguilla",
          "French Polynesia",
          "Trinidad and Tobago",
          "Uruguay",
          "Cabo Verde",
          "Liberia",
          "Heard Island and McDonald Islands",
          "Niger",
          "Bangladesh",
          "Germany",
          "Saint Barthélemy",
          "Madagascar",
          "Zambia",
          "Saint Vincent and the Grenadines",
          "United States",
          "Botswana",
          "Yemen",
          "Lebanon",
          "Puerto Rico",
          "Ghana",
          "Georgia",
          "Aruba",
          "Sri Lanka",
          "Seychelles",
          "Grenada",
          "Northern Mariana Islands",
          "Papua New Guinea",
          "United Kingdom",
          "Guam",
          "China",
          "Austria",
          "Czechia",
          "Ecuador",
          "New Zealand",
          "Iran, Islamic Republic of",
          "Chile",
          "Senegal",
          "Tanzania, United Republic of",
          "Timor-Leste",
          "French Southern Territories",
          "Sweden",
          "Syrian Arab Republic",
          "Libya",
          "Montenegro",
          "Bulgaria",
          "Falkland Islands (Malvinas)",
          "Samoa",
          "Moldova, Republic of",
          "Algeria",
          "Montserrat",
          "Azerbaijan",
          "Tonga",
          "Central African Republic",
          "Russian Federation",
          "Myanmar",
          "Guernsey",
          "Virgin Islands, British",
          "Sudan",
          "Taiwan, Province of China",
          "Sierra Leone",
          "Lao People's Democratic Republic",
          "Venezuela, Bolivarian Republic of",
          "South Africa",
          "Iceland",
          "Eritrea",
          "Lithuania",
          "Belize",
          "Greece",
          "Viet Nam",
          "Greenland",
          "Maldives",
          "Nauru",
          "Mozambique",
          "Kiribati",
          "Burundi",
          "United States Minor Outlying Islands",
          "Andorra",
          "Mali",
          "Latvia",
          "Côte d'Ivoire",
          "Luxembourg",
          "Türkiye",
          "Portugal",
          "Faroe Islands",
          "Jamaica",
          "Cameroon",
          "Liechtenstein",
          "Micronesia, Federated States of",
          "Bhutan",
          "Mexico",
          "Guatemala",
          "Romania",
          "Norway",
          "Kyrgyzstan",
          "Philippines",
          "Ireland",
          "Benin",
          "Antigua and Barbuda",
          "Dominica",
          "Dominican Republic",
          "Tuvalu",
          "Nepal",
          "Zimbabwe",
          "Morocco",
          "Kenya",
          "Palau",
          "Cocos (Keeling) Islands",
          "Sao Tome and Principe",
          "Japan",
          "Curaçao",
          "Poland",
          "Palestine, State of",
          "Cuba",
          "Saint Helena, Ascension and Tristan da Cunha",
          "France",
          "Malawi",
          "Finland",
          "Thailand",
          "Iraq",
          "Guinea-Bissau",
          "Martinique",
          "Bahrain",
          "Burkina Faso",
          "Slovakia",
          "Canada",
          "Christmas Island",
          "Pakistan",
          "Uzbekistan",
          "Nigeria",
          "Jordan",
          "Vanuatu",
          "Indonesia",
          "Gibraltar",
          "Eswatini",
          "Paraguay",
          "El Salvador",
          "Cayman Islands",
          "Nicaragua",
          "Cyprus",
          "Argentina",
          "Monaco",
          "Bahamas",
          "Bosnia and Herzegovina",
          "Cook Islands",
          "Mayotte",
          "United Arab Emirates",
          "British Indian Ocean Territory",
          "Estonia",
          "Guyana",
          "Tunisia",
          "Saint Kitts and Nevis",
          "Togo",
          "Italy",
          "Bouvet Island",
          "South Georgia and the South Sandwich Islands",
          "Albania",
          "Saint Pierre and Miquelon",
          "Belgium",
          "Ethiopia",
          "Peru",
          "Haiti",
          "Turks and Caicos Islands",
          "Kazakhstan",
          "Saudi Arabia",
          "Mauritania",
          "Ukraine",
          "French Guiana",
          "Equatorial Guinea",
          "Hungary",
          "Marshall Islands",
          "Brazil",
          "Guinea",
          "Djibouti",
          "India",
          "Guadeloupe",
          "Pitcairn",
          "Netherlands",
          "Denmark",
          "Rwanda",
          "Colombia",
          "Bolivia, Plurinational State of",
          "Afghanistan",
          "Gambia"
         ],
         "name": "",
         "type": "choropleth",
         "z": [
          49,
          42,
          42,
          41,
          39,
          38,
          36,
          36,
          35,
          35,
          35,
          35,
          35,
          34,
          34,
          34,
          33,
          33,
          33,
          33,
          33,
          32,
          32,
          32,
          32,
          32,
          32,
          32,
          32,
          31,
          31,
          31,
          31,
          31,
          31,
          31,
          31,
          31,
          31,
          31,
          31,
          31,
          30,
          30,
          30,
          30,
          30,
          30,
          30,
          30,
          30,
          29,
          29,
          29,
          29,
          29,
          29,
          29,
          29,
          29,
          29,
          29,
          29,
          29,
          29,
          29,
          29,
          29,
          29,
          29,
          28,
          28,
          28,
          28,
          28,
          28,
          28,
          28,
          28,
          28,
          28,
          28,
          28,
          28,
          28,
          27,
          27,
          27,
          27,
          27,
          27,
          27,
          27,
          27,
          27,
          27,
          27,
          27,
          27,
          26,
          26,
          26,
          26,
          26,
          26,
          26,
          25,
          25,
          25,
          25,
          25,
          25,
          25,
          25,
          25,
          25,
          25,
          25,
          25,
          25,
          25,
          25,
          25,
          25,
          25,
          25,
          25,
          25,
          24,
          24,
          24,
          24,
          24,
          24,
          24,
          24,
          24,
          24,
          24,
          24,
          24,
          24,
          24,
          24,
          24,
          24,
          24,
          24,
          23,
          23,
          23,
          23,
          23,
          23,
          23,
          23,
          23,
          23,
          23,
          23,
          23,
          23,
          23,
          23,
          23,
          23,
          23,
          23,
          23,
          23,
          23,
          23,
          23,
          22,
          22,
          22,
          22,
          22,
          22,
          22,
          22,
          22,
          22,
          22,
          22,
          22,
          22,
          22,
          22,
          22,
          21,
          21,
          21,
          21,
          21,
          21,
          21,
          21,
          21,
          21,
          21,
          21,
          21,
          21,
          21,
          21,
          21,
          20,
          20,
          20,
          20,
          20,
          20,
          20,
          20,
          20,
          19,
          19,
          19,
          18,
          18,
          18,
          18,
          18,
          18,
          18,
          18,
          18,
          18,
          18,
          18,
          18,
          17,
          17,
          17,
          17,
          17,
          17,
          17,
          17,
          17,
          15,
          14
         ]
        }
       ],
       "layout": {
        "coloraxis": {
         "colorbar": {
          "title": {
           "text": "User_ID"
          }
         },
         "colorscale": [
          [
           0,
           "rgb(247,251,255)"
          ],
          [
           0.125,
           "rgb(222,235,247)"
          ],
          [
           0.25,
           "rgb(198,219,239)"
          ],
          [
           0.375,
           "rgb(158,202,225)"
          ],
          [
           0.5,
           "rgb(107,174,214)"
          ],
          [
           0.625,
           "rgb(66,146,198)"
          ],
          [
           0.75,
           "rgb(33,113,181)"
          ],
          [
           0.875,
           "rgb(8,81,156)"
          ],
          [
           1,
           "rgb(8,48,107)"
          ]
         ]
        },
        "geo": {
         "center": {},
         "domain": {
          "x": [
           0,
           1
          ],
          "y": [
           0,
           1
          ]
         }
        },
        "legend": {
         "tracegroupgap": 0
        },
        "template": {
         "data": {
          "bar": [
           {
            "error_x": {
             "color": "#2a3f5f"
            },
            "error_y": {
             "color": "#2a3f5f"
            },
            "marker": {
             "line": {
              "color": "#E5ECF6",
              "width": 0.5
             },
             "pattern": {
              "fillmode": "overlay",
              "size": 10,
              "solidity": 0.2
             }
            },
            "type": "bar"
           }
          ],
          "barpolar": [
           {
            "marker": {
             "line": {
              "color": "#E5ECF6",
              "width": 0.5
             },
             "pattern": {
              "fillmode": "overlay",
              "size": 10,
              "solidity": 0.2
             }
            },
            "type": "barpolar"
           }
          ],
          "carpet": [
           {
            "aaxis": {
             "endlinecolor": "#2a3f5f",
             "gridcolor": "white",
             "linecolor": "white",
             "minorgridcolor": "white",
             "startlinecolor": "#2a3f5f"
            },
            "baxis": {
             "endlinecolor": "#2a3f5f",
             "gridcolor": "white",
             "linecolor": "white",
             "minorgridcolor": "white",
             "startlinecolor": "#2a3f5f"
            },
            "type": "carpet"
           }
          ],
          "choropleth": [
           {
            "colorbar": {
             "outlinewidth": 0,
             "ticks": ""
            },
            "type": "choropleth"
           }
          ],
          "contour": [
           {
            "colorbar": {
             "outlinewidth": 0,
             "ticks": ""
            },
            "colorscale": [
             [
              0,
              "#0d0887"
             ],
             [
              0.1111111111111111,
              "#46039f"
             ],
             [
              0.2222222222222222,
              "#7201a8"
             ],
             [
              0.3333333333333333,
              "#9c179e"
             ],
             [
              0.4444444444444444,
              "#bd3786"
             ],
             [
              0.5555555555555556,
              "#d8576b"
             ],
             [
              0.6666666666666666,
              "#ed7953"
             ],
             [
              0.7777777777777778,
              "#fb9f3a"
             ],
             [
              0.8888888888888888,
              "#fdca26"
             ],
             [
              1,
              "#f0f921"
             ]
            ],
            "type": "contour"
           }
          ],
          "contourcarpet": [
           {
            "colorbar": {
             "outlinewidth": 0,
             "ticks": ""
            },
            "type": "contourcarpet"
           }
          ],
          "heatmap": [
           {
            "colorbar": {
             "outlinewidth": 0,
             "ticks": ""
            },
            "colorscale": [
             [
              0,
              "#0d0887"
             ],
             [
              0.1111111111111111,
              "#46039f"
             ],
             [
              0.2222222222222222,
              "#7201a8"
             ],
             [
              0.3333333333333333,
              "#9c179e"
             ],
             [
              0.4444444444444444,
              "#bd3786"
             ],
             [
              0.5555555555555556,
              "#d8576b"
             ],
             [
              0.6666666666666666,
              "#ed7953"
             ],
             [
              0.7777777777777778,
              "#fb9f3a"
             ],
             [
              0.8888888888888888,
              "#fdca26"
             ],
             [
              1,
              "#f0f921"
             ]
            ],
            "type": "heatmap"
           }
          ],
          "heatmapgl": [
           {
            "colorbar": {
             "outlinewidth": 0,
             "ticks": ""
            },
            "colorscale": [
             [
              0,
              "#0d0887"
             ],
             [
              0.1111111111111111,
              "#46039f"
             ],
             [
              0.2222222222222222,
              "#7201a8"
             ],
             [
              0.3333333333333333,
              "#9c179e"
             ],
             [
              0.4444444444444444,
              "#bd3786"
             ],
             [
              0.5555555555555556,
              "#d8576b"
             ],
             [
              0.6666666666666666,
              "#ed7953"
             ],
             [
              0.7777777777777778,
              "#fb9f3a"
             ],
             [
              0.8888888888888888,
              "#fdca26"
             ],
             [
              1,
              "#f0f921"
             ]
            ],
            "type": "heatmapgl"
           }
          ],
          "histogram": [
           {
            "marker": {
             "pattern": {
              "fillmode": "overlay",
              "size": 10,
              "solidity": 0.2
             }
            },
            "type": "histogram"
           }
          ],
          "histogram2d": [
           {
            "colorbar": {
             "outlinewidth": 0,
             "ticks": ""
            },
            "colorscale": [
             [
              0,
              "#0d0887"
             ],
             [
              0.1111111111111111,
              "#46039f"
             ],
             [
              0.2222222222222222,
              "#7201a8"
             ],
             [
              0.3333333333333333,
              "#9c179e"
             ],
             [
              0.4444444444444444,
              "#bd3786"
             ],
             [
              0.5555555555555556,
              "#d8576b"
             ],
             [
              0.6666666666666666,
              "#ed7953"
             ],
             [
              0.7777777777777778,
              "#fb9f3a"
             ],
             [
              0.8888888888888888,
              "#fdca26"
             ],
             [
              1,
              "#f0f921"
             ]
            ],
            "type": "histogram2d"
           }
          ],
          "histogram2dcontour": [
           {
            "colorbar": {
             "outlinewidth": 0,
             "ticks": ""
            },
            "colorscale": [
             [
              0,
              "#0d0887"
             ],
             [
              0.1111111111111111,
              "#46039f"
             ],
             [
              0.2222222222222222,
              "#7201a8"
             ],
             [
              0.3333333333333333,
              "#9c179e"
             ],
             [
              0.4444444444444444,
              "#bd3786"
             ],
             [
              0.5555555555555556,
              "#d8576b"
             ],
             [
              0.6666666666666666,
              "#ed7953"
             ],
             [
              0.7777777777777778,
              "#fb9f3a"
             ],
             [
              0.8888888888888888,
              "#fdca26"
             ],
             [
              1,
              "#f0f921"
             ]
            ],
            "type": "histogram2dcontour"
           }
          ],
          "mesh3d": [
           {
            "colorbar": {
             "outlinewidth": 0,
             "ticks": ""
            },
            "type": "mesh3d"
           }
          ],
          "parcoords": [
           {
            "line": {
             "colorbar": {
              "outlinewidth": 0,
              "ticks": ""
             }
            },
            "type": "parcoords"
           }
          ],
          "pie": [
           {
            "automargin": true,
            "type": "pie"
           }
          ],
          "scatter": [
           {
            "fillpattern": {
             "fillmode": "overlay",
             "size": 10,
             "solidity": 0.2
            },
            "type": "scatter"
           }
          ],
          "scatter3d": [
           {
            "line": {
             "colorbar": {
              "outlinewidth": 0,
              "ticks": ""
             }
            },
            "marker": {
             "colorbar": {
              "outlinewidth": 0,
              "ticks": ""
             }
            },
            "type": "scatter3d"
           }
          ],
          "scattercarpet": [
           {
            "marker": {
             "colorbar": {
              "outlinewidth": 0,
              "ticks": ""
             }
            },
            "type": "scattercarpet"
           }
          ],
          "scattergeo": [
           {
            "marker": {
             "colorbar": {
              "outlinewidth": 0,
              "ticks": ""
             }
            },
            "type": "scattergeo"
           }
          ],
          "scattergl": [
           {
            "marker": {
             "colorbar": {
              "outlinewidth": 0,
              "ticks": ""
             }
            },
            "type": "scattergl"
           }
          ],
          "scattermapbox": [
           {
            "marker": {
             "colorbar": {
              "outlinewidth": 0,
              "ticks": ""
             }
            },
            "type": "scattermapbox"
           }
          ],
          "scatterpolar": [
           {
            "marker": {
             "colorbar": {
              "outlinewidth": 0,
              "ticks": ""
             }
            },
            "type": "scatterpolar"
           }
          ],
          "scatterpolargl": [
           {
            "marker": {
             "colorbar": {
              "outlinewidth": 0,
              "ticks": ""
             }
            },
            "type": "scatterpolargl"
           }
          ],
          "scatterternary": [
           {
            "marker": {
             "colorbar": {
              "outlinewidth": 0,
              "ticks": ""
             }
            },
            "type": "scatterternary"
           }
          ],
          "surface": [
           {
            "colorbar": {
             "outlinewidth": 0,
             "ticks": ""
            },
            "colorscale": [
             [
              0,
              "#0d0887"
             ],
             [
              0.1111111111111111,
              "#46039f"
             ],
             [
              0.2222222222222222,
              "#7201a8"
             ],
             [
              0.3333333333333333,
              "#9c179e"
             ],
             [
              0.4444444444444444,
              "#bd3786"
             ],
             [
              0.5555555555555556,
              "#d8576b"
             ],
             [
              0.6666666666666666,
              "#ed7953"
             ],
             [
              0.7777777777777778,
              "#fb9f3a"
             ],
             [
              0.8888888888888888,
              "#fdca26"
             ],
             [
              1,
              "#f0f921"
             ]
            ],
            "type": "surface"
           }
          ],
          "table": [
           {
            "cells": {
             "fill": {
              "color": "#EBF0F8"
             },
             "line": {
              "color": "white"
             }
            },
            "header": {
             "fill": {
              "color": "#C8D4E3"
             },
             "line": {
              "color": "white"
             }
            },
            "type": "table"
           }
          ]
         },
         "layout": {
          "annotationdefaults": {
           "arrowcolor": "#2a3f5f",
           "arrowhead": 0,
           "arrowwidth": 1
          },
          "autotypenumbers": "strict",
          "coloraxis": {
           "colorbar": {
            "outlinewidth": 0,
            "ticks": ""
           }
          },
          "colorscale": {
           "diverging": [
            [
             0,
             "#8e0152"
            ],
            [
             0.1,
             "#c51b7d"
            ],
            [
             0.2,
             "#de77ae"
            ],
            [
             0.3,
             "#f1b6da"
            ],
            [
             0.4,
             "#fde0ef"
            ],
            [
             0.5,
             "#f7f7f7"
            ],
            [
             0.6,
             "#e6f5d0"
            ],
            [
             0.7,
             "#b8e186"
            ],
            [
             0.8,
             "#7fbc41"
            ],
            [
             0.9,
             "#4d9221"
            ],
            [
             1,
             "#276419"
            ]
           ],
           "sequential": [
            [
             0,
             "#0d0887"
            ],
            [
             0.1111111111111111,
             "#46039f"
            ],
            [
             0.2222222222222222,
             "#7201a8"
            ],
            [
             0.3333333333333333,
             "#9c179e"
            ],
            [
             0.4444444444444444,
             "#bd3786"
            ],
            [
             0.5555555555555556,
             "#d8576b"
            ],
            [
             0.6666666666666666,
             "#ed7953"
            ],
            [
             0.7777777777777778,
             "#fb9f3a"
            ],
            [
             0.8888888888888888,
             "#fdca26"
            ],
            [
             1,
             "#f0f921"
            ]
           ],
           "sequentialminus": [
            [
             0,
             "#0d0887"
            ],
            [
             0.1111111111111111,
             "#46039f"
            ],
            [
             0.2222222222222222,
             "#7201a8"
            ],
            [
             0.3333333333333333,
             "#9c179e"
            ],
            [
             0.4444444444444444,
             "#bd3786"
            ],
            [
             0.5555555555555556,
             "#d8576b"
            ],
            [
             0.6666666666666666,
             "#ed7953"
            ],
            [
             0.7777777777777778,
             "#fb9f3a"
            ],
            [
             0.8888888888888888,
             "#fdca26"
            ],
            [
             1,
             "#f0f921"
            ]
           ]
          },
          "colorway": [
           "#636efa",
           "#EF553B",
           "#00cc96",
           "#ab63fa",
           "#FFA15A",
           "#19d3f3",
           "#FF6692",
           "#B6E880",
           "#FF97FF",
           "#FECB52"
          ],
          "font": {
           "color": "#2a3f5f"
          },
          "geo": {
           "bgcolor": "white",
           "lakecolor": "white",
           "landcolor": "#E5ECF6",
           "showlakes": true,
           "showland": true,
           "subunitcolor": "white"
          },
          "hoverlabel": {
           "align": "left"
          },
          "hovermode": "closest",
          "mapbox": {
           "style": "light"
          },
          "paper_bgcolor": "white",
          "plot_bgcolor": "#E5ECF6",
          "polar": {
           "angularaxis": {
            "gridcolor": "white",
            "linecolor": "white",
            "ticks": ""
           },
           "bgcolor": "#E5ECF6",
           "radialaxis": {
            "gridcolor": "white",
            "linecolor": "white",
            "ticks": ""
           }
          },
          "scene": {
           "xaxis": {
            "backgroundcolor": "#E5ECF6",
            "gridcolor": "white",
            "gridwidth": 2,
            "linecolor": "white",
            "showbackground": true,
            "ticks": "",
            "zerolinecolor": "white"
           },
           "yaxis": {
            "backgroundcolor": "#E5ECF6",
            "gridcolor": "white",
            "gridwidth": 2,
            "linecolor": "white",
            "showbackground": true,
            "ticks": "",
            "zerolinecolor": "white"
           },
           "zaxis": {
            "backgroundcolor": "#E5ECF6",
            "gridcolor": "white",
            "gridwidth": 2,
            "linecolor": "white",
            "showbackground": true,
            "ticks": "",
            "zerolinecolor": "white"
           }
          },
          "shapedefaults": {
           "line": {
            "color": "#2a3f5f"
           }
          },
          "ternary": {
           "aaxis": {
            "gridcolor": "white",
            "linecolor": "white",
            "ticks": ""
           },
           "baxis": {
            "gridcolor": "white",
            "linecolor": "white",
            "ticks": ""
           },
           "bgcolor": "#E5ECF6",
           "caxis": {
            "gridcolor": "white",
            "linecolor": "white",
            "ticks": ""
           }
          },
          "title": {
           "x": 0.05
          },
          "xaxis": {
           "automargin": true,
           "gridcolor": "white",
           "linecolor": "white",
           "ticks": "",
           "title": {
            "standoff": 15
           },
           "zerolinecolor": "white",
           "zerolinewidth": 2
          },
          "yaxis": {
           "automargin": true,
           "gridcolor": "white",
           "linecolor": "white",
           "ticks": "",
           "title": {
            "standoff": 15
           },
           "zerolinecolor": "white",
           "zerolinewidth": 2
          }
         }
        },
        "title": {
         "text": "User Count by Country"
        }
       }
      }
     },
     "metadata": {},
     "output_type": "display_data"
    }
   ],
   "source": [
    "# Choropleth map for User Count by Country\n",
    "fig = px.choropleth(\n",
    "    country_user_counts,\n",
    "    locations='Country',\n",
    "    locationmode='country names',\n",
    "    color='User_ID',\n",
    "    hover_name='Country',\n",
    "    color_continuous_scale='Blues',\n",
    "    title='User Count by Country'\n",
    ")\n",
    "fig.show()"
   ]
  },
  {
   "cell_type": "markdown",
   "metadata": {},
   "source": [
    "This approach provides a geographical representation of user distribution, the map shows a color-coded representation of user counts, highlighting regions with the most users."
   ]
  },
  {
   "cell_type": "code",
   "execution_count": 1014,
   "metadata": {},
   "outputs": [
    {
     "data": {
      "image/png": "[encoded data removed]",
      "text/plain": [
       "<Figure size 1200x800 with 2 Axes>"
      ]
     },
     "metadata": {},
     "output_type": "display_data"
    }
   ],
   "source": [
    "# Calculate user counts per country\n",
    "country_activity = streaming['Country'].value_counts().reset_index()\n",
    "country_activity.columns = ['Country', 'User_Count']\n",
    "\n",
    "# Create a heatmap\n",
    "plt.figure(figsize=(12, 8))\n",
    "sns.heatmap(country_activity.pivot_table(index='Country', values='User_Count', fill_value=0).sort_values(by='User_Count', ascending=False), cmap='YlGnBu', annot=False)\n",
    "plt.title('Heatmap of User Activity by Country')\n",
    "plt.ylabel('Country')\n",
    "plt.show()"
   ]
  },
  {
   "cell_type": "markdown",
   "metadata": {},
   "source": [
    "Heatmap: This visualization shows the intensity of user activity across different countries."
   ]
  },
  {
   "cell_type": "markdown",
   "metadata": {},
   "source": [
    "### Feature Construction"
   ]
  },
  {
   "cell_type": "markdown",
   "metadata": {},
   "source": [
    "Creating new features from the current one to enhance the analysis."
   ]
  },
  {
   "cell_type": "markdown",
   "metadata": {},
   "source": [
    "#### Age"
   ]
  },
  {
   "cell_type": "markdown",
   "metadata": {},
   "source": [
    "Let's categorize the Age column into the following categories:\n",
    "\n",
    " - Kids: 0-12 years\n",
    " - Teenagers: 13-19 years\n",
    " - Young Adults: 20-35 years\n",
    " - Adults: 36-59 years\n",
    " - Seniors: 60+ years"
   ]
  },
  {
   "cell_type": "code",
   "execution_count": 1015,
   "metadata": {},
   "outputs": [
    {
     "data": {
      "text/html": [
       "<div>\n",
       "<style scoped>\n",
       "    .dataframe tbody tr th:only-of-type {\n",
       "        vertical-align: middle;\n",
       "    }\n",
       "\n",
       "    .dataframe tbody tr th {\n",
       "        vertical-align: top;\n",
       "    }\n",
       "\n",
       "    .dataframe thead th {\n",
       "        text-align: right;\n",
       "    }\n",
       "</style>\n",
       "<table border=\"1\" class=\"dataframe\">\n",
       "  <thead>\n",
       "    <tr style=\"text-align: right;\">\n",
       "      <th></th>\n",
       "      <th>Age</th>\n",
       "      <th>Age_Category</th>\n",
       "    </tr>\n",
       "  </thead>\n",
       "  <tbody>\n",
       "    <tr>\n",
       "      <th>0</th>\n",
       "      <td>56</td>\n",
       "      <td>Adults</td>\n",
       "    </tr>\n",
       "    <tr>\n",
       "      <th>1</th>\n",
       "      <td>52</td>\n",
       "      <td>Adults</td>\n",
       "    </tr>\n",
       "    <tr>\n",
       "      <th>2</th>\n",
       "      <td>14</td>\n",
       "      <td>Teenagers</td>\n",
       "    </tr>\n",
       "    <tr>\n",
       "      <th>3</th>\n",
       "      <td>36</td>\n",
       "      <td>Adults</td>\n",
       "    </tr>\n",
       "    <tr>\n",
       "      <th>4</th>\n",
       "      <td>31</td>\n",
       "      <td>Young Adults</td>\n",
       "    </tr>\n",
       "  </tbody>\n",
       "</table>\n",
       "</div>"
      ],
      "text/plain": [
       "   Age  Age_Category\n",
       "0   56        Adults\n",
       "1   52        Adults\n",
       "2   14     Teenagers\n",
       "3   36        Adults\n",
       "4   31  Young Adults"
      ]
     },
     "execution_count": 1015,
     "metadata": {},
     "output_type": "execute_result"
    }
   ],
   "source": [
    "# Define the function to categorize age\n",
    "def categorize_age(age):\n",
    "    if age <= 12:\n",
    "        return 'Kids'\n",
    "    elif age <= 19:\n",
    "        return 'Teenagers'\n",
    "    elif age <= 35:\n",
    "        return 'Young Adults'\n",
    "    elif age <= 59:\n",
    "        return 'Adults'\n",
    "    else:\n",
    "        return 'Seniors'\n",
    "\n",
    "# Apply the function to the Age column\n",
    "streaming['Age_Category'] = streaming['Age'].apply(categorize_age)\n",
    "\n",
    "# Display the first few rows to verify the transformation\n",
    "streaming[['Age', 'Age_Category']].head()"
   ]
  },
  {
   "cell_type": "markdown",
   "metadata": {},
   "source": [
    "#### Ordering Columns"
   ]
  },
  {
   "cell_type": "markdown",
   "metadata": {},
   "source": [
    "This is the current display of the dataset:"
   ]
  },
  {
   "cell_type": "code",
   "execution_count": 1016,
   "metadata": {},
   "outputs": [
    {
     "data": {
      "text/plain": [
       "Index(['ID', 'User_ID', 'Country', 'Location', 'Age', 'Gender',\n",
       "       'Subscription_Status', 'Device_ID', 'Device_Type', 'Session_ID',\n",
       "       'Video_ID', 'Genre', 'Languages', 'Playback_Quality',\n",
       "       'Duration_Watched (minutes)', 'Ratings', 'Interaction_Events',\n",
       "       'Age_Category'],\n",
       "      dtype='object')"
      ]
     },
     "execution_count": 1016,
     "metadata": {},
     "output_type": "execute_result"
    }
   ],
   "source": [
    "streaming.columns"
   ]
  },
  {
   "cell_type": "markdown",
   "metadata": {},
   "source": [
    "For a comprehensive understanding of the dataset, let's reorder and group related information together to follow a logical sequence from user information to session details and then interaction metrics.\n",
    "\n",
    "1. User Information:\n",
    "    - ID\n",
    "    - User_ID\n",
    "    - Country\n",
    "    - Location\n",
    "    - Age\n",
    "    - Age_Category\n",
    "    - Gender\n",
    "    - Subscription_Status\n",
    "\n",
    "2. Device Information:\n",
    "    - Device_ID\n",
    "    - Device_Type\n",
    "\n",
    "3. Session Information:\n",
    "    - Session_ID\n",
    "    - Video_ID\n",
    "    - Genre\n",
    "    - Languages\n",
    "    - Playback_Quality\n",
    "    - Duration_Watched (minutes)\n",
    "\n",
    "4. Interaction Metrics:\n",
    "    - Ratings\n",
    "    - Interaction_Events"
   ]
  },
  {
   "cell_type": "markdown",
   "metadata": {},
   "source": [
    "This order prioritizes user demographics first, followed by details about the device and session, and concludes with interaction metrics, providing a logical and easy-to-follow structure."
   ]
  },
  {
   "cell_type": "code",
   "execution_count": 1017,
   "metadata": {},
   "outputs": [
    {
     "data": {
      "text/html": [
       "<div>\n",
       "<style scoped>\n",
       "    .dataframe tbody tr th:only-of-type {\n",
       "        vertical-align: middle;\n",
       "    }\n",
       "\n",
       "    .dataframe tbody tr th {\n",
       "        vertical-align: top;\n",
       "    }\n",
       "\n",
       "    .dataframe thead th {\n",
       "        text-align: right;\n",
       "    }\n",
       "</style>\n",
       "<table border=\"1\" class=\"dataframe\">\n",
       "  <thead>\n",
       "    <tr style=\"text-align: right;\">\n",
       "      <th></th>\n",
       "      <th>ID</th>\n",
       "      <th>User_ID</th>\n",
       "      <th>Country</th>\n",
       "      <th>Location</th>\n",
       "      <th>Age</th>\n",
       "      <th>Age_Category</th>\n",
       "      <th>Gender</th>\n",
       "      <th>Subscription_Status</th>\n",
       "      <th>Device_ID</th>\n",
       "      <th>Device_Type</th>\n",
       "      <th>Session_ID</th>\n",
       "      <th>Video_ID</th>\n",
       "      <th>Genre</th>\n",
       "      <th>Languages</th>\n",
       "      <th>Playback_Quality</th>\n",
       "      <th>Duration_Watched (minutes)</th>\n",
       "      <th>Ratings</th>\n",
       "      <th>Interaction_Events</th>\n",
       "    </tr>\n",
       "  </thead>\n",
       "  <tbody>\n",
       "    <tr>\n",
       "      <th>0</th>\n",
       "      <td>0</td>\n",
       "      <td>eb4f9229-74df-45f6-baac-cf19241b8b30</td>\n",
       "      <td>Sudan</td>\n",
       "      <td>Reedshire</td>\n",
       "      <td>56</td>\n",
       "      <td>Adults</td>\n",
       "      <td>Female</td>\n",
       "      <td>Premium</td>\n",
       "      <td>232</td>\n",
       "      <td>Smartphone</td>\n",
       "      <td>cb2142a7-0750-49ed-b8ac-a975fe1ff69a</td>\n",
       "      <td>11</td>\n",
       "      <td>Sci-Fi</td>\n",
       "      <td>Spanish</td>\n",
       "      <td>4K</td>\n",
       "      <td>90.044525</td>\n",
       "      <td>3</td>\n",
       "      <td>73</td>\n",
       "    </tr>\n",
       "    <tr>\n",
       "      <th>1</th>\n",
       "      <td>1</td>\n",
       "      <td>661d4b59-4328-410a-901c-1e3b4c40c334</td>\n",
       "      <td>Cuba</td>\n",
       "      <td>Stevenhaven</td>\n",
       "      <td>52</td>\n",
       "      <td>Adults</td>\n",
       "      <td>Male</td>\n",
       "      <td>Premium</td>\n",
       "      <td>549</td>\n",
       "      <td>Desktop</td>\n",
       "      <td>3bc0a662-b353-4015-8b0c-55ceb510d13a</td>\n",
       "      <td>85</td>\n",
       "      <td>Comedy</td>\n",
       "      <td>Chinese</td>\n",
       "      <td>SD</td>\n",
       "      <td>68.973479</td>\n",
       "      <td>3</td>\n",
       "      <td>22</td>\n",
       "    </tr>\n",
       "    <tr>\n",
       "      <th>2</th>\n",
       "      <td>2</td>\n",
       "      <td>dd3fe9e9-ea82-4891-ab93-8a47c80e3251</td>\n",
       "      <td>Japan</td>\n",
       "      <td>Vaughntown</td>\n",
       "      <td>14</td>\n",
       "      <td>Teenagers</td>\n",
       "      <td>Female</td>\n",
       "      <td>Premium</td>\n",
       "      <td>844</td>\n",
       "      <td>Tablet</td>\n",
       "      <td>bd545b4a-9f54-4e87-b9f8-15ae20b44f22</td>\n",
       "      <td>50</td>\n",
       "      <td>Comedy</td>\n",
       "      <td>Spanish</td>\n",
       "      <td>HD</td>\n",
       "      <td>42.511343</td>\n",
       "      <td>3</td>\n",
       "      <td>41</td>\n",
       "    </tr>\n",
       "    <tr>\n",
       "      <th>3</th>\n",
       "      <td>3</td>\n",
       "      <td>a1b3365b-1d00-4ddf-bc43-02fc9c10c680</td>\n",
       "      <td>Lao People's Democratic Republic</td>\n",
       "      <td>East Raymondbury</td>\n",
       "      <td>36</td>\n",
       "      <td>Adults</td>\n",
       "      <td>Male</td>\n",
       "      <td>Premium</td>\n",
       "      <td>201</td>\n",
       "      <td>Laptop</td>\n",
       "      <td>0441086d-c59e-478d-a496-5c5b995ecfdb</td>\n",
       "      <td>38</td>\n",
       "      <td>Documentary</td>\n",
       "      <td>Spanish</td>\n",
       "      <td>SD</td>\n",
       "      <td>53.316660</td>\n",
       "      <td>2</td>\n",
       "      <td>40</td>\n",
       "    </tr>\n",
       "    <tr>\n",
       "      <th>4</th>\n",
       "      <td>4</td>\n",
       "      <td>338d3f91-5f1c-4590-8803-324901826406</td>\n",
       "      <td>Bangladesh</td>\n",
       "      <td>Michaelchester</td>\n",
       "      <td>31</td>\n",
       "      <td>Young Adults</td>\n",
       "      <td>Male</td>\n",
       "      <td>Premium</td>\n",
       "      <td>700</td>\n",
       "      <td>Laptop</td>\n",
       "      <td>0295f01d-7f15-4799-856c-90c688697ef8</td>\n",
       "      <td>31</td>\n",
       "      <td>Action</td>\n",
       "      <td>German</td>\n",
       "      <td>HD</td>\n",
       "      <td>69.437786</td>\n",
       "      <td>4</td>\n",
       "      <td>41</td>\n",
       "    </tr>\n",
       "  </tbody>\n",
       "</table>\n",
       "</div>"
      ],
      "text/plain": [
       "   ID                               User_ID                           Country  \\\n",
       "0   0  eb4f9229-74df-45f6-baac-cf19241b8b30                             Sudan   \n",
       "1   1  661d4b59-4328-410a-901c-1e3b4c40c334                              Cuba   \n",
       "2   2  dd3fe9e9-ea82-4891-ab93-8a47c80e3251                             Japan   \n",
       "3   3  a1b3365b-1d00-4ddf-bc43-02fc9c10c680  Lao People's Democratic Republic   \n",
       "4   4  338d3f91-5f1c-4590-8803-324901826406                        Bangladesh   \n",
       "\n",
       "           Location  Age  Age_Category  Gender Subscription_Status  Device_ID  \\\n",
       "0         Reedshire   56        Adults  Female             Premium        232   \n",
       "1       Stevenhaven   52        Adults    Male             Premium        549   \n",
       "2        Vaughntown   14     Teenagers  Female             Premium        844   \n",
       "3  East Raymondbury   36        Adults    Male             Premium        201   \n",
       "4    Michaelchester   31  Young Adults    Male             Premium        700   \n",
       "\n",
       "  Device_Type                            Session_ID  Video_ID        Genre  \\\n",
       "0  Smartphone  cb2142a7-0750-49ed-b8ac-a975fe1ff69a        11       Sci-Fi   \n",
       "1     Desktop  3bc0a662-b353-4015-8b0c-55ceb510d13a        85       Comedy   \n",
       "2      Tablet  bd545b4a-9f54-4e87-b9f8-15ae20b44f22        50       Comedy   \n",
       "3      Laptop  0441086d-c59e-478d-a496-5c5b995ecfdb        38  Documentary   \n",
       "4      Laptop  0295f01d-7f15-4799-856c-90c688697ef8        31       Action   \n",
       "\n",
       "  Languages Playback_Quality  Duration_Watched (minutes)  Ratings  \\\n",
       "0   Spanish               4K                   90.044525        3   \n",
       "1   Chinese               SD                   68.973479        3   \n",
       "2   Spanish               HD                   42.511343        3   \n",
       "3   Spanish               SD                   53.316660        2   \n",
       "4    German               HD                   69.437786        4   \n",
       "\n",
       "   Interaction_Events  \n",
       "0                  73  \n",
       "1                  22  \n",
       "2                  41  \n",
       "3                  40  \n",
       "4                  41  "
      ]
     },
     "execution_count": 1017,
     "metadata": {},
     "output_type": "execute_result"
    }
   ],
   "source": [
    "# Reorder the columns\n",
    "columns_order = [\n",
    "    # User Information\n",
    "    'ID', 'User_ID', 'Country', 'Location', 'Age', 'Age_Category', 'Gender', 'Subscription_Status',\n",
    "    \n",
    "    # Device Information\n",
    "    'Device_ID', 'Device_Type',\n",
    "    \n",
    "    # Session Information\n",
    "    'Session_ID', 'Video_ID', 'Genre', 'Languages', 'Playback_Quality', 'Duration_Watched (minutes)',\n",
    "    \n",
    "    # Interaction Metrics\n",
    "    'Ratings', 'Interaction_Events'\n",
    "]\n",
    "\n",
    "streaming = streaming[columns_order]\n",
    "\n",
    "# Display the first few rows to verify the transformation\n",
    "streaming.head()"
   ]
  },
  {
   "cell_type": "markdown",
   "metadata": {},
   "source": [
    "### Feature selection"
   ]
  },
  {
   "cell_type": "markdown",
   "metadata": {},
   "source": [
    "Aiming to reduce the number of input variables to improve model performance and avoid overcomplicating the model. It can be done using statistical techniques (filter methods), search algorithms (wrapper methods), or through the model's learning process itself (embedded methods).\n",
    "\n",
    "- Use filter methods (apply statistical measure to assign scoring to each feature)\n",
    "- Wrapper methods (frame the selection of features as a search problem and use a heuristic to perform the search)\n",
    "- Embedded methods (use machine learning to figure out which features contribute best to the accuracy)"
   ]
  },
  {
   "cell_type": "markdown",
   "metadata": {},
   "source": [
    "#### Removing Non-Essential Columns"
   ]
  },
  {
   "cell_type": "markdown",
   "metadata": {},
   "source": [
    "Let's eliminate columns that do not significantly contribute."
   ]
  },
  {
   "cell_type": "code",
   "execution_count": 1018,
   "metadata": {},
   "outputs": [],
   "source": [
    "# Removing the unwanted columns from the dataframe\n",
    "columns_to_drop = ['User_ID', 'Location', 'Session_ID']\n",
    "streaming = streaming.drop(columns=columns_to_drop)"
   ]
  },
  {
   "cell_type": "code",
   "execution_count": 1019,
   "metadata": {},
   "outputs": [
    {
     "data": {
      "text/html": [
       "<div>\n",
       "<style scoped>\n",
       "    .dataframe tbody tr th:only-of-type {\n",
       "        vertical-align: middle;\n",
       "    }\n",
       "\n",
       "    .dataframe tbody tr th {\n",
       "        vertical-align: top;\n",
       "    }\n",
       "\n",
       "    .dataframe thead th {\n",
       "        text-align: right;\n",
       "    }\n",
       "</style>\n",
       "<table border=\"1\" class=\"dataframe\">\n",
       "  <thead>\n",
       "    <tr style=\"text-align: right;\">\n",
       "      <th></th>\n",
       "      <th>ID</th>\n",
       "      <th>Country</th>\n",
       "      <th>Age</th>\n",
       "      <th>Age_Category</th>\n",
       "      <th>Gender</th>\n",
       "      <th>Subscription_Status</th>\n",
       "      <th>Device_ID</th>\n",
       "      <th>Device_Type</th>\n",
       "      <th>Video_ID</th>\n",
       "      <th>Genre</th>\n",
       "      <th>Languages</th>\n",
       "      <th>Playback_Quality</th>\n",
       "      <th>Duration_Watched (minutes)</th>\n",
       "      <th>Ratings</th>\n",
       "      <th>Interaction_Events</th>\n",
       "    </tr>\n",
       "  </thead>\n",
       "  <tbody>\n",
       "    <tr>\n",
       "      <th>0</th>\n",
       "      <td>0</td>\n",
       "      <td>Sudan</td>\n",
       "      <td>56</td>\n",
       "      <td>Adults</td>\n",
       "      <td>Female</td>\n",
       "      <td>Premium</td>\n",
       "      <td>232</td>\n",
       "      <td>Smartphone</td>\n",
       "      <td>11</td>\n",
       "      <td>Sci-Fi</td>\n",
       "      <td>Spanish</td>\n",
       "      <td>4K</td>\n",
       "      <td>90.044525</td>\n",
       "      <td>3</td>\n",
       "      <td>73</td>\n",
       "    </tr>\n",
       "    <tr>\n",
       "      <th>1</th>\n",
       "      <td>1</td>\n",
       "      <td>Cuba</td>\n",
       "      <td>52</td>\n",
       "      <td>Adults</td>\n",
       "      <td>Male</td>\n",
       "      <td>Premium</td>\n",
       "      <td>549</td>\n",
       "      <td>Desktop</td>\n",
       "      <td>85</td>\n",
       "      <td>Comedy</td>\n",
       "      <td>Chinese</td>\n",
       "      <td>SD</td>\n",
       "      <td>68.973479</td>\n",
       "      <td>3</td>\n",
       "      <td>22</td>\n",
       "    </tr>\n",
       "    <tr>\n",
       "      <th>2</th>\n",
       "      <td>2</td>\n",
       "      <td>Japan</td>\n",
       "      <td>14</td>\n",
       "      <td>Teenagers</td>\n",
       "      <td>Female</td>\n",
       "      <td>Premium</td>\n",
       "      <td>844</td>\n",
       "      <td>Tablet</td>\n",
       "      <td>50</td>\n",
       "      <td>Comedy</td>\n",
       "      <td>Spanish</td>\n",
       "      <td>HD</td>\n",
       "      <td>42.511343</td>\n",
       "      <td>3</td>\n",
       "      <td>41</td>\n",
       "    </tr>\n",
       "    <tr>\n",
       "      <th>3</th>\n",
       "      <td>3</td>\n",
       "      <td>Lao People's Democratic Republic</td>\n",
       "      <td>36</td>\n",
       "      <td>Adults</td>\n",
       "      <td>Male</td>\n",
       "      <td>Premium</td>\n",
       "      <td>201</td>\n",
       "      <td>Laptop</td>\n",
       "      <td>38</td>\n",
       "      <td>Documentary</td>\n",
       "      <td>Spanish</td>\n",
       "      <td>SD</td>\n",
       "      <td>53.316660</td>\n",
       "      <td>2</td>\n",
       "      <td>40</td>\n",
       "    </tr>\n",
       "    <tr>\n",
       "      <th>4</th>\n",
       "      <td>4</td>\n",
       "      <td>Bangladesh</td>\n",
       "      <td>31</td>\n",
       "      <td>Young Adults</td>\n",
       "      <td>Male</td>\n",
       "      <td>Premium</td>\n",
       "      <td>700</td>\n",
       "      <td>Laptop</td>\n",
       "      <td>31</td>\n",
       "      <td>Action</td>\n",
       "      <td>German</td>\n",
       "      <td>HD</td>\n",
       "      <td>69.437786</td>\n",
       "      <td>4</td>\n",
       "      <td>41</td>\n",
       "    </tr>\n",
       "  </tbody>\n",
       "</table>\n",
       "</div>"
      ],
      "text/plain": [
       "   ID                           Country  Age  Age_Category  Gender  \\\n",
       "0   0                             Sudan   56        Adults  Female   \n",
       "1   1                              Cuba   52        Adults    Male   \n",
       "2   2                             Japan   14     Teenagers  Female   \n",
       "3   3  Lao People's Democratic Republic   36        Adults    Male   \n",
       "4   4                        Bangladesh   31  Young Adults    Male   \n",
       "\n",
       "  Subscription_Status  Device_ID Device_Type  Video_ID        Genre Languages  \\\n",
       "0             Premium        232  Smartphone        11       Sci-Fi   Spanish   \n",
       "1             Premium        549     Desktop        85       Comedy   Chinese   \n",
       "2             Premium        844      Tablet        50       Comedy   Spanish   \n",
       "3             Premium        201      Laptop        38  Documentary   Spanish   \n",
       "4             Premium        700      Laptop        31       Action    German   \n",
       "\n",
       "  Playback_Quality  Duration_Watched (minutes)  Ratings  Interaction_Events  \n",
       "0               4K                   90.044525        3                  73  \n",
       "1               SD                   68.973479        3                  22  \n",
       "2               HD                   42.511343        3                  41  \n",
       "3               SD                   53.316660        2                  40  \n",
       "4               HD                   69.437786        4                  41  "
      ]
     },
     "execution_count": 1019,
     "metadata": {},
     "output_type": "execute_result"
    }
   ],
   "source": [
    "streaming.head()"
   ]
  },
  {
   "cell_type": "markdown",
   "metadata": {},
   "source": [
    "- Secuencial Feature Selection (SFS)\n",
    "- Recursive Feature Extraction (RFE)\n",
    "- Variance Infliction Factor (VIF)"
   ]
  },
  {
   "cell_type": "markdown",
   "metadata": {},
   "source": [
    "### Data Normalization"
   ]
  },
  {
   "cell_type": "markdown",
   "metadata": {},
   "source": [
    "Adjusting values to a common scale for comparison and analysis."
   ]
  },
  {
   "cell_type": "markdown",
   "metadata": {},
   "source": [
    "## 6. Predictive Modeling"
   ]
  },
  {
   "cell_type": "markdown",
   "metadata": {},
   "source": [
    "### Model Development"
   ]
  },
  {
   "cell_type": "markdown",
   "metadata": {},
   "source": [
    "#### Initial Tuning"
   ]
  },
  {
   "cell_type": "markdown",
   "metadata": {},
   "source": [
    "**Grid Search**"
   ]
  },
  {
   "cell_type": "markdown",
   "metadata": {},
   "source": [
    "**Cross-Validation**"
   ]
  },
  {
   "cell_type": "markdown",
   "metadata": {},
   "source": [
    "### Advanced Modeling"
   ]
  },
  {
   "cell_type": "markdown",
   "metadata": {},
   "source": [
    "#### Ensemble Models"
   ]
  },
  {
   "cell_type": "markdown",
   "metadata": {},
   "source": [
    "### Evaluation for Best Model"
   ]
  },
  {
   "cell_type": "markdown",
   "metadata": {},
   "source": [
    "## 7. Data Visualization"
   ]
  },
  {
   "cell_type": "markdown",
   "metadata": {},
   "source": [
    "## Conclusions"
   ]
  },
  {
   "cell_type": "markdown",
   "metadata": {},
   "source": [
    "This data provides insights into user behavior, content consumption, and the overall performance of the streaming service."
   ]
  },
  {
   "cell_type": "markdown",
   "metadata": {},
   "source": [
    "### Key Insights"
   ]
  },
  {
   "cell_type": "markdown",
   "metadata": {},
   "source": [
    "### Final Thoughts"
   ]
  }
 ],
 "metadata": {
  "kernelspec": {
   "display_name": "Intro.Anaconda",
   "language": "python",
   "name": "python3"
  },
  "language_info": {
   "codemirror_mode": {
    "name": "ipython",
    "version": 3
   },
   "file_extension": ".py",
   "mimetype": "text/x-python",
   "name": "python",
   "nbconvert_exporter": "python",
   "pygments_lexer": "ipython3",
   "version": "3.12.3"
  }
 },
 "nbformat": 4,
 "nbformat_minor": 2
}
