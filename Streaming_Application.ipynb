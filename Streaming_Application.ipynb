{
 "cells": [
  {
   "cell_type": "markdown",
   "metadata": {},
   "source": [
    "# Streaming Application"
   ]
  },
  {
   "cell_type": "markdown",
   "metadata": {},
   "source": [
    "## 1. Business Understanding"
   ]
  },
  {
   "cell_type": "markdown",
   "metadata": {},
   "source": [
    "**About this Project**\n",
    "\n",
    "Streaming app viewership data represents a collection of information related to how users interact with a streaming application. This data provides insights into user behavior, content consumption, and the overall performance of the streaming service.\n",
    "\n",
    "[Streaming Application is a dataset from Kaggle](https://www.kaggle.com/datasets/rajatkumar30/streaming-application-viewership) "
   ]
  },
  {
   "cell_type": "markdown",
   "metadata": {},
   "source": [
    "### Context"
   ]
  },
  {
   "cell_type": "markdown",
   "metadata": {},
   "source": [
    "In order to fully understand the topic, let's get some context with the survey results [*Behind the Stream*](https://www.adweek.com/resource-library/whats-shaping-todays-movie-and-tv-streaming-viewer-behavior/) from the Harris Poll on behalf of [Tubi](https://gdpr.tubi.tv/) (American platform and ad-supported streaming service owned by Fox Corp). This reports recovers data from 2,503 adults within the United States aged 18+ that stream video at least 1 hour a week. "
   ]
  },
  {
   "cell_type": "markdown",
   "metadata": {},
   "source": [
    "## 2. Data Mining"
   ]
  },
  {
   "cell_type": "markdown",
   "metadata": {},
   "source": [
    "#### Libraries"
   ]
  },
  {
   "cell_type": "code",
   "execution_count": 1,
   "metadata": {},
   "outputs": [],
   "source": [
    "import pandas as pd\n",
    "import numpy as np\n",
    "\n",
    "import time\n",
    "import datetime\n",
    "from scipy import stats\n",
    "\n",
    "import seaborn as sns\n",
    "import matplotlib.pyplot as plt\n",
    "\n",
    "import warnings\n",
    "warnings.filterwarnings('ignore')\n",
    "pd.set_option('display.max_columns', None)"
   ]
  },
  {
   "cell_type": "markdown",
   "metadata": {},
   "source": [
    "#### Load the data"
   ]
  },
  {
   "cell_type": "code",
   "execution_count": 2,
   "metadata": {},
   "outputs": [
    {
     "name": "stdout",
     "output_type": "stream",
     "text": [
      "<class 'pandas.core.frame.DataFrame'>\n",
      "RangeIndex: 6214 entries, 0 to 6213\n",
      "Data columns (total 16 columns):\n",
      " #   Column                      Non-Null Count  Dtype  \n",
      "---  ------                      --------------  -----  \n",
      " 0   User_ID                     6214 non-null   object \n",
      " 1   Session_ID                  6214 non-null   object \n",
      " 2   Device_ID                   6214 non-null   int64  \n",
      " 3   Video_ID                    6214 non-null   int64  \n",
      " 4   Duration_Watched (minutes)  6214 non-null   float64\n",
      " 5   Genre                       6214 non-null   object \n",
      " 6   Country                     6214 non-null   object \n",
      " 7   Age                         6214 non-null   int64  \n",
      " 8   Gender                      6214 non-null   object \n",
      " 9   Subscription_Status         6214 non-null   object \n",
      " 10  Ratings                     6214 non-null   int64  \n",
      " 11  Languages                   6214 non-null   object \n",
      " 12  Device_Type                 6214 non-null   object \n",
      " 13  Location                    6214 non-null   object \n",
      " 14  Playback_Quality            6214 non-null   object \n",
      " 15  Interaction_Events          6214 non-null   int64  \n",
      "dtypes: float64(1), int64(5), object(10)\n",
      "memory usage: 776.9+ KB\n"
     ]
    }
   ],
   "source": [
    "streaming = pd.read_csv('datasets\\streaming_viewership_data.csv')\n",
    "streaming.info()"
   ]
  },
  {
   "cell_type": "markdown",
   "metadata": {},
   "source": [
    "*Metadata:*\n",
    "\n",
    "- **User_ID:** A unique identifier for the user.\n",
    "- **Session_ID:** A unique identifier for the user's session.\n",
    "- **Device_ID:** An identifier for the user's device.\n",
    "- **Video_ID:** An identifier for the video content being viewed.\n",
    "- **Duration_Watched (minutes):** The amount of time (in minutes) the user spent watching the video.\n",
    "- **Genre:** The genre of the video content (e.g., Action, Comedy, Drama, etc.).\n",
    "- **Country:** The country where the interaction event took place.\n",
    "- **Age:** The age of the user.\n",
    "- **Gender:** The gender of the user (e.g., Male, Female).\n",
    "- **Subscription_Status:** The user's subscription status (e.g., Free, Premium).\n",
    "- **Ratings:** The user's rating or feedback for the content (typically on a scale from 1 to 5).\n",
    "- **Languages:** The language of the content being viewed.\n",
    "- **Device_Type:** The type of device used by the user (e.g., Smartphone, Tablet, etc.).\n",
    "- **Location:** The location or city where the interaction event occurred.\n",
    "- **Playback_Quality:** The quality of video playback (e.g., HD, SD, 4K).\n",
    "- **Interaction_Events:** The count of interaction events that occurred during the user's session (e.g., clicks, likes, shares, etc.)."
   ]
  },
  {
   "cell_type": "markdown",
   "metadata": {},
   "source": [
    "## 3. Data Profiling"
   ]
  },
  {
   "cell_type": "markdown",
   "metadata": {},
   "source": [
    "### Initial Explorations"
   ]
  },
  {
   "cell_type": "markdown",
   "metadata": {},
   "source": [
    "#### Generals"
   ]
  },
  {
   "cell_type": "code",
   "execution_count": 4,
   "metadata": {},
   "outputs": [
    {
     "data": {
      "text/html": [
       "<div>\n",
       "<style scoped>\n",
       "    .dataframe tbody tr th:only-of-type {\n",
       "        vertical-align: middle;\n",
       "    }\n",
       "\n",
       "    .dataframe tbody tr th {\n",
       "        vertical-align: top;\n",
       "    }\n",
       "\n",
       "    .dataframe thead th {\n",
       "        text-align: right;\n",
       "    }\n",
       "</style>\n",
       "<table border=\"1\" class=\"dataframe\">\n",
       "  <thead>\n",
       "    <tr style=\"text-align: right;\">\n",
       "      <th></th>\n",
       "      <th>User_ID</th>\n",
       "      <th>Session_ID</th>\n",
       "      <th>Device_ID</th>\n",
       "      <th>Video_ID</th>\n",
       "      <th>Duration_Watched (minutes)</th>\n",
       "      <th>Genre</th>\n",
       "      <th>Country</th>\n",
       "      <th>Age</th>\n",
       "      <th>Gender</th>\n",
       "      <th>Subscription_Status</th>\n",
       "      <th>Ratings</th>\n",
       "      <th>Languages</th>\n",
       "      <th>Device_Type</th>\n",
       "      <th>Location</th>\n",
       "      <th>Playback_Quality</th>\n",
       "      <th>Interaction_Events</th>\n",
       "    </tr>\n",
       "  </thead>\n",
       "  <tbody>\n",
       "    <tr>\n",
       "      <th>0</th>\n",
       "      <td>eb4f9229-74df-45f6-baac-cf19241b8b30</td>\n",
       "      <td>cb2142a7-0750-49ed-b8ac-a975fe1ff69a</td>\n",
       "      <td>232</td>\n",
       "      <td>11</td>\n",
       "      <td>90.044525</td>\n",
       "      <td>Sci-Fi</td>\n",
       "      <td>Sudan</td>\n",
       "      <td>56</td>\n",
       "      <td>Female</td>\n",
       "      <td>Premium</td>\n",
       "      <td>3</td>\n",
       "      <td>Spanish</td>\n",
       "      <td>Smartphone</td>\n",
       "      <td>Reedshire</td>\n",
       "      <td>4K</td>\n",
       "      <td>73</td>\n",
       "    </tr>\n",
       "    <tr>\n",
       "      <th>1</th>\n",
       "      <td>661d4b59-4328-410a-901c-1e3b4c40c334</td>\n",
       "      <td>3bc0a662-b353-4015-8b0c-55ceb510d13a</td>\n",
       "      <td>549</td>\n",
       "      <td>85</td>\n",
       "      <td>68.973479</td>\n",
       "      <td>Comedy</td>\n",
       "      <td>Cuba</td>\n",
       "      <td>52</td>\n",
       "      <td>Male</td>\n",
       "      <td>Premium</td>\n",
       "      <td>3</td>\n",
       "      <td>Chinese</td>\n",
       "      <td>Desktop</td>\n",
       "      <td>Stevenhaven</td>\n",
       "      <td>SD</td>\n",
       "      <td>22</td>\n",
       "    </tr>\n",
       "    <tr>\n",
       "      <th>2</th>\n",
       "      <td>dd3fe9e9-ea82-4891-ab93-8a47c80e3251</td>\n",
       "      <td>bd545b4a-9f54-4e87-b9f8-15ae20b44f22</td>\n",
       "      <td>844</td>\n",
       "      <td>50</td>\n",
       "      <td>42.511343</td>\n",
       "      <td>Comedy</td>\n",
       "      <td>Japan</td>\n",
       "      <td>14</td>\n",
       "      <td>Female</td>\n",
       "      <td>Premium</td>\n",
       "      <td>3</td>\n",
       "      <td>Spanish</td>\n",
       "      <td>Tablet</td>\n",
       "      <td>Vaughntown</td>\n",
       "      <td>HD</td>\n",
       "      <td>41</td>\n",
       "    </tr>\n",
       "    <tr>\n",
       "      <th>3</th>\n",
       "      <td>a1b3365b-1d00-4ddf-bc43-02fc9c10c680</td>\n",
       "      <td>0441086d-c59e-478d-a496-5c5b995ecfdb</td>\n",
       "      <td>201</td>\n",
       "      <td>38</td>\n",
       "      <td>53.316660</td>\n",
       "      <td>Documentary</td>\n",
       "      <td>Lao People's Democratic Republic</td>\n",
       "      <td>36</td>\n",
       "      <td>Male</td>\n",
       "      <td>Premium</td>\n",
       "      <td>2</td>\n",
       "      <td>Spanish</td>\n",
       "      <td>Laptop</td>\n",
       "      <td>East Raymondbury</td>\n",
       "      <td>SD</td>\n",
       "      <td>40</td>\n",
       "    </tr>\n",
       "    <tr>\n",
       "      <th>4</th>\n",
       "      <td>338d3f91-5f1c-4590-8803-324901826406</td>\n",
       "      <td>0295f01d-7f15-4799-856c-90c688697ef8</td>\n",
       "      <td>700</td>\n",
       "      <td>31</td>\n",
       "      <td>69.437786</td>\n",
       "      <td>Action</td>\n",
       "      <td>Bangladesh</td>\n",
       "      <td>31</td>\n",
       "      <td>Male</td>\n",
       "      <td>Premium</td>\n",
       "      <td>4</td>\n",
       "      <td>German</td>\n",
       "      <td>Laptop</td>\n",
       "      <td>Michaelchester</td>\n",
       "      <td>HD</td>\n",
       "      <td>41</td>\n",
       "    </tr>\n",
       "  </tbody>\n",
       "</table>\n",
       "</div>"
      ],
      "text/plain": [
       "                                User_ID                            Session_ID  \\\n",
       "0  eb4f9229-74df-45f6-baac-cf19241b8b30  cb2142a7-0750-49ed-b8ac-a975fe1ff69a   \n",
       "1  661d4b59-4328-410a-901c-1e3b4c40c334  3bc0a662-b353-4015-8b0c-55ceb510d13a   \n",
       "2  dd3fe9e9-ea82-4891-ab93-8a47c80e3251  bd545b4a-9f54-4e87-b9f8-15ae20b44f22   \n",
       "3  a1b3365b-1d00-4ddf-bc43-02fc9c10c680  0441086d-c59e-478d-a496-5c5b995ecfdb   \n",
       "4  338d3f91-5f1c-4590-8803-324901826406  0295f01d-7f15-4799-856c-90c688697ef8   \n",
       "\n",
       "   Device_ID  Video_ID  Duration_Watched (minutes)        Genre  \\\n",
       "0        232        11                   90.044525       Sci-Fi   \n",
       "1        549        85                   68.973479       Comedy   \n",
       "2        844        50                   42.511343       Comedy   \n",
       "3        201        38                   53.316660  Documentary   \n",
       "4        700        31                   69.437786       Action   \n",
       "\n",
       "                            Country  Age  Gender Subscription_Status  Ratings  \\\n",
       "0                             Sudan   56  Female             Premium        3   \n",
       "1                              Cuba   52    Male             Premium        3   \n",
       "2                             Japan   14  Female             Premium        3   \n",
       "3  Lao People's Democratic Republic   36    Male             Premium        2   \n",
       "4                        Bangladesh   31    Male             Premium        4   \n",
       "\n",
       "  Languages Device_Type          Location Playback_Quality  Interaction_Events  \n",
       "0   Spanish  Smartphone         Reedshire               4K                  73  \n",
       "1   Chinese     Desktop       Stevenhaven               SD                  22  \n",
       "2   Spanish      Tablet        Vaughntown               HD                  41  \n",
       "3   Spanish      Laptop  East Raymondbury               SD                  40  \n",
       "4    German      Laptop    Michaelchester               HD                  41  "
      ]
     },
     "execution_count": 4,
     "metadata": {},
     "output_type": "execute_result"
    }
   ],
   "source": [
    "streaming.head() "
   ]
  },
  {
   "cell_type": "code",
   "execution_count": 5,
   "metadata": {},
   "outputs": [
    {
     "data": {
      "text/plain": [
       "(6214, 16)"
      ]
     },
     "execution_count": 5,
     "metadata": {},
     "output_type": "execute_result"
    }
   ],
   "source": [
    "streaming.shape"
   ]
  },
  {
   "cell_type": "code",
   "execution_count": 6,
   "metadata": {},
   "outputs": [
    {
     "data": {
      "text/plain": [
       "User_ID                        object\n",
       "Session_ID                     object\n",
       "Device_ID                       int64\n",
       "Video_ID                        int64\n",
       "Duration_Watched (minutes)    float64\n",
       "Genre                          object\n",
       "Country                        object\n",
       "Age                             int64\n",
       "Gender                         object\n",
       "Subscription_Status            object\n",
       "Ratings                         int64\n",
       "Languages                      object\n",
       "Device_Type                    object\n",
       "Location                       object\n",
       "Playback_Quality               object\n",
       "Interaction_Events              int64\n",
       "dtype: object"
      ]
     },
     "execution_count": 6,
     "metadata": {},
     "output_type": "execute_result"
    }
   ],
   "source": [
    "streaming.dtypes"
   ]
  },
  {
   "cell_type": "code",
   "execution_count": 7,
   "metadata": {},
   "outputs": [
    {
     "data": {
      "text/plain": [
       "Index(['User_ID', 'Session_ID', 'Device_ID', 'Video_ID',\n",
       "       'Duration_Watched (minutes)', 'Genre', 'Country', 'Age', 'Gender',\n",
       "       'Subscription_Status', 'Ratings', 'Languages', 'Device_Type',\n",
       "       'Location', 'Playback_Quality', 'Interaction_Events'],\n",
       "      dtype='object')"
      ]
     },
     "execution_count": 7,
     "metadata": {},
     "output_type": "execute_result"
    }
   ],
   "source": [
    "streaming.columns"
   ]
  },
  {
   "cell_type": "markdown",
   "metadata": {},
   "source": [
    "#### Variable Specifics"
   ]
  },
  {
   "cell_type": "markdown",
   "metadata": {},
   "source": [
    "##### User_ID and Session_ID"
   ]
  },
  {
   "cell_type": "code",
   "execution_count": 8,
   "metadata": {},
   "outputs": [
    {
     "data": {
      "text/plain": [
       "6214"
      ]
     },
     "execution_count": 8,
     "metadata": {},
     "output_type": "execute_result"
    }
   ],
   "source": [
    "streaming['User_ID'].nunique()"
   ]
  },
  {
   "cell_type": "code",
   "execution_count": 9,
   "metadata": {},
   "outputs": [
    {
     "data": {
      "text/plain": [
       "6214"
      ]
     },
     "execution_count": 9,
     "metadata": {},
     "output_type": "execute_result"
    }
   ],
   "source": [
    "streaming['Session_ID'].nunique()"
   ]
  },
  {
   "cell_type": "markdown",
   "metadata": {},
   "source": [
    "To confirm if each User_ID is associated with only one unique Session_ID, we can group the data by User_ID and count the distinct Session_ID values for each user. If any user has a count greater than 1, it means that a User_ID is associated with more than one Session_ID."
   ]
  },
  {
   "cell_type": "code",
   "execution_count": 10,
   "metadata": {},
   "outputs": [
    {
     "name": "stdout",
     "output_type": "stream",
     "text": [
      "Empty DataFrame\n",
      "Columns: [User_ID, Session_ID]\n",
      "Index: []\n"
     ]
    }
   ],
   "source": [
    "# Group by User_ID and count distinct Session_IDs\n",
    "distinct_session_counts = streaming.groupby('User_ID')['Session_ID'].nunique().reset_index()\n",
    "\n",
    "# Check for any User_ID with more than one distinct Session_ID\n",
    "multiple_sessions = distinct_session_counts[distinct_session_counts['Session_ID'] > 1]\n",
    "\n",
    "# Display the result\n",
    "print(multiple_sessions)"
   ]
  },
  {
   "cell_type": "markdown",
   "metadata": {},
   "source": [
    "The dataset found no users with multiple session IDs, confirming that the User_ID and Session_ID are in a one-to-one relationship."
   ]
  },
  {
   "cell_type": "markdown",
   "metadata": {},
   "source": [
    "##### Device_ID"
   ]
  },
  {
   "cell_type": "code",
   "execution_count": 11,
   "metadata": {},
   "outputs": [
    {
     "data": {
      "text/plain": [
       "1000"
      ]
     },
     "execution_count": 11,
     "metadata": {},
     "output_type": "execute_result"
    }
   ],
   "source": [
    "streaming['Device_ID'].nunique()"
   ]
  },
  {
   "cell_type": "code",
   "execution_count": 19,
   "metadata": {},
   "outputs": [
    {
     "data": {
      "text/plain": [
       "array([   1,    2,    3,    4,    5,    6,    7,    8,    9,   10,   11,\n",
       "         12,   13,   14,   15,   16,   17,   18,   19,   20,   21,   22,\n",
       "         23,   24,   25,   26,   27,   28,   29,   30,   31,   32,   33,\n",
       "         34,   35,   36,   37,   38,   39,   40,   41,   42,   43,   44,\n",
       "         45,   46,   47,   48,   49,   50,   51,   52,   53,   54,   55,\n",
       "         56,   57,   58,   59,   60,   61,   62,   63,   64,   65,   66,\n",
       "         67,   68,   69,   70,   71,   72,   73,   74,   75,   76,   77,\n",
       "         78,   79,   80,   81,   82,   83,   84,   85,   86,   87,   88,\n",
       "         89,   90,   91,   92,   93,   94,   95,   96,   97,   98,   99,\n",
       "        100,  101,  102,  103,  104,  105,  106,  107,  108,  109,  110,\n",
       "        111,  112,  113,  114,  115,  116,  117,  118,  119,  120,  121,\n",
       "        122,  123,  124,  125,  126,  127,  128,  129,  130,  131,  132,\n",
       "        133,  134,  135,  136,  137,  138,  139,  140,  141,  142,  143,\n",
       "        144,  145,  146,  147,  148,  149,  150,  151,  152,  153,  154,\n",
       "        155,  156,  157,  158,  159,  160,  161,  162,  163,  164,  165,\n",
       "        166,  167,  168,  169,  170,  171,  172,  173,  174,  175,  176,\n",
       "        177,  178,  179,  180,  181,  182,  183,  184,  185,  186,  187,\n",
       "        188,  189,  190,  191,  192,  193,  194,  195,  196,  197,  198,\n",
       "        199,  200,  201,  202,  203,  204,  205,  206,  207,  208,  209,\n",
       "        210,  211,  212,  213,  214,  215,  216,  217,  218,  219,  220,\n",
       "        221,  222,  223,  224,  225,  226,  227,  228,  229,  230,  231,\n",
       "        232,  233,  234,  235,  236,  237,  238,  239,  240,  241,  242,\n",
       "        243,  244,  245,  246,  247,  248,  249,  250,  251,  252,  253,\n",
       "        254,  255,  256,  257,  258,  259,  260,  261,  262,  263,  264,\n",
       "        265,  266,  267,  268,  269,  270,  271,  272,  273,  274,  275,\n",
       "        276,  277,  278,  279,  280,  281,  282,  283,  284,  285,  286,\n",
       "        287,  288,  289,  290,  291,  292,  293,  294,  295,  296,  297,\n",
       "        298,  299,  300,  301,  302,  303,  304,  305,  306,  307,  308,\n",
       "        309,  310,  311,  312,  313,  314,  315,  316,  317,  318,  319,\n",
       "        320,  321,  322,  323,  324,  325,  326,  327,  328,  329,  330,\n",
       "        331,  332,  333,  334,  335,  336,  337,  338,  339,  340,  341,\n",
       "        342,  343,  344,  345,  346,  347,  348,  349,  350,  351,  352,\n",
       "        353,  354,  355,  356,  357,  358,  359,  360,  361,  362,  363,\n",
       "        364,  365,  366,  367,  368,  369,  370,  371,  372,  373,  374,\n",
       "        375,  376,  377,  378,  379,  380,  381,  382,  383,  384,  385,\n",
       "        386,  387,  388,  389,  390,  391,  392,  393,  394,  395,  396,\n",
       "        397,  398,  399,  400,  401,  402,  403,  404,  405,  406,  407,\n",
       "        408,  409,  410,  411,  412,  413,  414,  415,  416,  417,  418,\n",
       "        419,  420,  421,  422,  423,  424,  425,  426,  427,  428,  429,\n",
       "        430,  431,  432,  433,  434,  435,  436,  437,  438,  439,  440,\n",
       "        441,  442,  443,  444,  445,  446,  447,  448,  449,  450,  451,\n",
       "        452,  453,  454,  455,  456,  457,  458,  459,  460,  461,  462,\n",
       "        463,  464,  465,  466,  467,  468,  469,  470,  471,  472,  473,\n",
       "        474,  475,  476,  477,  478,  479,  480,  481,  482,  483,  484,\n",
       "        485,  486,  487,  488,  489,  490,  491,  492,  493,  494,  495,\n",
       "        496,  497,  498,  499,  500,  501,  502,  503,  504,  505,  506,\n",
       "        507,  508,  509,  510,  511,  512,  513,  514,  515,  516,  517,\n",
       "        518,  519,  520,  521,  522,  523,  524,  525,  526,  527,  528,\n",
       "        529,  530,  531,  532,  533,  534,  535,  536,  537,  538,  539,\n",
       "        540,  541,  542,  543,  544,  545,  546,  547,  548,  549,  550,\n",
       "        551,  552,  553,  554,  555,  556,  557,  558,  559,  560,  561,\n",
       "        562,  563,  564,  565,  566,  567,  568,  569,  570,  571,  572,\n",
       "        573,  574,  575,  576,  577,  578,  579,  580,  581,  582,  583,\n",
       "        584,  585,  586,  587,  588,  589,  590,  591,  592,  593,  594,\n",
       "        595,  596,  597,  598,  599,  600,  601,  602,  603,  604,  605,\n",
       "        606,  607,  608,  609,  610,  611,  612,  613,  614,  615,  616,\n",
       "        617,  618,  619,  620,  621,  622,  623,  624,  625,  626,  627,\n",
       "        628,  629,  630,  631,  632,  633,  634,  635,  636,  637,  638,\n",
       "        639,  640,  641,  642,  643,  644,  645,  646,  647,  648,  649,\n",
       "        650,  651,  652,  653,  654,  655,  656,  657,  658,  659,  660,\n",
       "        661,  662,  663,  664,  665,  666,  667,  668,  669,  670,  671,\n",
       "        672,  673,  674,  675,  676,  677,  678,  679,  680,  681,  682,\n",
       "        683,  684,  685,  686,  687,  688,  689,  690,  691,  692,  693,\n",
       "        694,  695,  696,  697,  698,  699,  700,  701,  702,  703,  704,\n",
       "        705,  706,  707,  708,  709,  710,  711,  712,  713,  714,  715,\n",
       "        716,  717,  718,  719,  720,  721,  722,  723,  724,  725,  726,\n",
       "        727,  728,  729,  730,  731,  732,  733,  734,  735,  736,  737,\n",
       "        738,  739,  740,  741,  742,  743,  744,  745,  746,  747,  748,\n",
       "        749,  750,  751,  752,  753,  754,  755,  756,  757,  758,  759,\n",
       "        760,  761,  762,  763,  764,  765,  766,  767,  768,  769,  770,\n",
       "        771,  772,  773,  774,  775,  776,  777,  778,  779,  780,  781,\n",
       "        782,  783,  784,  785,  786,  787,  788,  789,  790,  791,  792,\n",
       "        793,  794,  795,  796,  797,  798,  799,  800,  801,  802,  803,\n",
       "        804,  805,  806,  807,  808,  809,  810,  811,  812,  813,  814,\n",
       "        815,  816,  817,  818,  819,  820,  821,  822,  823,  824,  825,\n",
       "        826,  827,  828,  829,  830,  831,  832,  833,  834,  835,  836,\n",
       "        837,  838,  839,  840,  841,  842,  843,  844,  845,  846,  847,\n",
       "        848,  849,  850,  851,  852,  853,  854,  855,  856,  857,  858,\n",
       "        859,  860,  861,  862,  863,  864,  865,  866,  867,  868,  869,\n",
       "        870,  871,  872,  873,  874,  875,  876,  877,  878,  879,  880,\n",
       "        881,  882,  883,  884,  885,  886,  887,  888,  889,  890,  891,\n",
       "        892,  893,  894,  895,  896,  897,  898,  899,  900,  901,  902,\n",
       "        903,  904,  905,  906,  907,  908,  909,  910,  911,  912,  913,\n",
       "        914,  915,  916,  917,  918,  919,  920,  921,  922,  923,  924,\n",
       "        925,  926,  927,  928,  929,  930,  931,  932,  933,  934,  935,\n",
       "        936,  937,  938,  939,  940,  941,  942,  943,  944,  945,  946,\n",
       "        947,  948,  949,  950,  951,  952,  953,  954,  955,  956,  957,\n",
       "        958,  959,  960,  961,  962,  963,  964,  965,  966,  967,  968,\n",
       "        969,  970,  971,  972,  973,  974,  975,  976,  977,  978,  979,\n",
       "        980,  981,  982,  983,  984,  985,  986,  987,  988,  989,  990,\n",
       "        991,  992,  993,  994,  995,  996,  997,  998,  999, 1000],\n",
       "      dtype=int64)"
      ]
     },
     "execution_count": 19,
     "metadata": {},
     "output_type": "execute_result"
    }
   ],
   "source": [
    "# Extract unique Device_ID values and sort them in ascending order\n",
    "np.sort(streaming['Device_ID'].unique())"
   ]
  },
  {
   "cell_type": "markdown",
   "metadata": {},
   "source": [
    "It seems there is possible sequential assignment for the Device_ID values as these are assigned sequentially, perhaps there is an ID generation mechanism where new devices are incrementally assigned the next available integer ID as they are added to the system."
   ]
  },
  {
   "cell_type": "markdown",
   "metadata": {},
   "source": [
    "To analyze whether a device can have more than one user connected, let's group the data by Device_ID and check how many distinct User_ID values are associated with each device. "
   ]
  },
  {
   "cell_type": "code",
   "execution_count": 43,
   "metadata": {},
   "outputs": [
    {
     "data": {
      "text/html": [
       "<div>\n",
       "<style scoped>\n",
       "    .dataframe tbody tr th:only-of-type {\n",
       "        vertical-align: middle;\n",
       "    }\n",
       "\n",
       "    .dataframe tbody tr th {\n",
       "        vertical-align: top;\n",
       "    }\n",
       "\n",
       "    .dataframe thead th {\n",
       "        text-align: right;\n",
       "    }\n",
       "</style>\n",
       "<table border=\"1\" class=\"dataframe\">\n",
       "  <thead>\n",
       "    <tr style=\"text-align: right;\">\n",
       "      <th></th>\n",
       "      <th>Distinct_User_Count</th>\n",
       "      <th>Device_Count</th>\n",
       "    </tr>\n",
       "  </thead>\n",
       "  <tbody>\n",
       "    <tr>\n",
       "      <th>14</th>\n",
       "      <td>16</td>\n",
       "      <td>1</td>\n",
       "    </tr>\n",
       "    <tr>\n",
       "      <th>13</th>\n",
       "      <td>14</td>\n",
       "      <td>1</td>\n",
       "    </tr>\n",
       "    <tr>\n",
       "      <th>12</th>\n",
       "      <td>13</td>\n",
       "      <td>9</td>\n",
       "    </tr>\n",
       "    <tr>\n",
       "      <th>11</th>\n",
       "      <td>12</td>\n",
       "      <td>20</td>\n",
       "    </tr>\n",
       "    <tr>\n",
       "      <th>10</th>\n",
       "      <td>11</td>\n",
       "      <td>22</td>\n",
       "    </tr>\n",
       "    <tr>\n",
       "      <th>9</th>\n",
       "      <td>10</td>\n",
       "      <td>46</td>\n",
       "    </tr>\n",
       "    <tr>\n",
       "      <th>8</th>\n",
       "      <td>9</td>\n",
       "      <td>85</td>\n",
       "    </tr>\n",
       "    <tr>\n",
       "      <th>7</th>\n",
       "      <td>8</td>\n",
       "      <td>103</td>\n",
       "    </tr>\n",
       "    <tr>\n",
       "      <th>6</th>\n",
       "      <td>7</td>\n",
       "      <td>138</td>\n",
       "    </tr>\n",
       "    <tr>\n",
       "      <th>5</th>\n",
       "      <td>6</td>\n",
       "      <td>161</td>\n",
       "    </tr>\n",
       "    <tr>\n",
       "      <th>4</th>\n",
       "      <td>5</td>\n",
       "      <td>145</td>\n",
       "    </tr>\n",
       "    <tr>\n",
       "      <th>3</th>\n",
       "      <td>4</td>\n",
       "      <td>136</td>\n",
       "    </tr>\n",
       "    <tr>\n",
       "      <th>2</th>\n",
       "      <td>3</td>\n",
       "      <td>84</td>\n",
       "    </tr>\n",
       "    <tr>\n",
       "      <th>1</th>\n",
       "      <td>2</td>\n",
       "      <td>34</td>\n",
       "    </tr>\n",
       "    <tr>\n",
       "      <th>0</th>\n",
       "      <td>1</td>\n",
       "      <td>15</td>\n",
       "    </tr>\n",
       "  </tbody>\n",
       "</table>\n",
       "</div>"
      ],
      "text/plain": [
       "    Distinct_User_Count  Device_Count\n",
       "14                   16             1\n",
       "13                   14             1\n",
       "12                   13             9\n",
       "11                   12            20\n",
       "10                   11            22\n",
       "9                    10            46\n",
       "8                     9            85\n",
       "7                     8           103\n",
       "6                     7           138\n",
       "5                     6           161\n",
       "4                     5           145\n",
       "3                     4           136\n",
       "2                     3            84\n",
       "1                     2            34\n",
       "0                     1            15"
      ]
     },
     "execution_count": 43,
     "metadata": {},
     "output_type": "execute_result"
    }
   ],
   "source": [
    "# Group by Device_ID and count distinct User_IDs\n",
    "device_user_counts = streaming.groupby('Device_ID')['User_ID'].nunique().reset_index()\n",
    "\n",
    "# Rename the column for clarity\n",
    "device_user_counts.rename(columns={'User_ID': 'Distinct_User_Count'}, inplace=True)\n",
    "\n",
    "# Group by Distinct_User_Count and count the number of devices for each distinct user count\n",
    "distinct_user_count_summary = device_user_counts.groupby('Distinct_User_Count')['Device_ID'].count().reset_index()\n",
    "\n",
    "# Rename columns for clarity\n",
    "distinct_user_count_summary.rename(columns={'Device_ID': 'Device_Count'}, inplace=True)\n",
    "\n",
    "# Sort the results by Distinct_User_Count in descending order\n",
    "distinct_user_count_summary.sort_values(by='Distinct_User_Count', ascending=False)"
   ]
  },
  {
   "cell_type": "markdown",
   "metadata": {},
   "source": [
    "- While some devices are highly shared, a large proportion is shared among small groups, particularly with 6 users.\n",
    "\n",
    "- Devices shared by many users (16 and 14 users) might be found in communal settings, while those with 6 users could represent family or small office environments.\n",
    "\n",
    "- The 15 devices used by only one user suggest either dedicated personal usage or lack of accessibility for sharing."
   ]
  },
  {
   "cell_type": "markdown",
   "metadata": {},
   "source": [
    "##### Video_ID"
   ]
  },
  {
   "cell_type": "code",
   "execution_count": 24,
   "metadata": {},
   "outputs": [
    {
     "data": {
      "text/plain": [
       "100"
      ]
     },
     "execution_count": 24,
     "metadata": {},
     "output_type": "execute_result"
    }
   ],
   "source": [
    "streaming['Video_ID'].nunique()"
   ]
  },
  {
   "cell_type": "code",
   "execution_count": 28,
   "metadata": {},
   "outputs": [
    {
     "data": {
      "text/plain": [
       "array([  1,   2,   3,   4,   5,   6,   7,   8,   9,  10,  11,  12,  13,\n",
       "        14,  15,  16,  17,  18,  19,  20,  21,  22,  23,  24,  25,  26,\n",
       "        27,  28,  29,  30,  31,  32,  33,  34,  35,  36,  37,  38,  39,\n",
       "        40,  41,  42,  43,  44,  45,  46,  47,  48,  49,  50,  51,  52,\n",
       "        53,  54,  55,  56,  57,  58,  59,  60,  61,  62,  63,  64,  65,\n",
       "        66,  67,  68,  69,  70,  71,  72,  73,  74,  75,  76,  77,  78,\n",
       "        79,  80,  81,  82,  83,  84,  85,  86,  87,  88,  89,  90,  91,\n",
       "        92,  93,  94,  95,  96,  97,  98,  99, 100], dtype=int64)"
      ]
     },
     "execution_count": 28,
     "metadata": {},
     "output_type": "execute_result"
    }
   ],
   "source": [
    "# Extract unique Video_ID values and sort them in ascending order using numpy\n",
    "np.sort(streaming['Video_ID'].unique())"
   ]
  },
  {
   "cell_type": "markdown",
   "metadata": {},
   "source": [
    "The Video_ID range from 1 to 100 indicates that the dataset includes exactly 100 distinct videos (movies, series, etc.). This suggests that the dataset is fixed to include only 100 available videos on the platform, potentially the most-watched content."
   ]
  },
  {
   "cell_type": "markdown",
   "metadata": {},
   "source": [
    "To find out how many users have watched each Video_ID, let's group the data by Video_ID and count the number of distinct User_ID values associated with each video. "
   ]
  },
  {
   "cell_type": "code",
   "execution_count": 52,
   "metadata": {},
   "outputs": [],
   "source": [
    "# Group by Video_ID and count distinct User_IDs\n",
    "video_user_counts = streaming.groupby('Video_ID')['User_ID'].nunique().reset_index()\n",
    "\n",
    "# Rename the column for clarity\n",
    "video_user_counts.rename(columns={'User_ID': 'Distinct_User_Count'}, inplace=True)\n",
    "\n",
    "# Sort the data by Distinct_User_Count in descending order (optional)\n",
    "video_user_counts_sorted = video_user_counts.sort_values(by='Distinct_User_Count', ascending=False)"
   ]
  },
  {
   "cell_type": "code",
   "execution_count": 51,
   "metadata": {},
   "outputs": [
    {
     "data": {
      "text/html": [
       "<div>\n",
       "<style scoped>\n",
       "    .dataframe tbody tr th:only-of-type {\n",
       "        vertical-align: middle;\n",
       "    }\n",
       "\n",
       "    .dataframe tbody tr th {\n",
       "        vertical-align: top;\n",
       "    }\n",
       "\n",
       "    .dataframe thead th {\n",
       "        text-align: right;\n",
       "    }\n",
       "</style>\n",
       "<table border=\"1\" class=\"dataframe\">\n",
       "  <thead>\n",
       "    <tr style=\"text-align: right;\">\n",
       "      <th></th>\n",
       "      <th>Video_ID</th>\n",
       "      <th>Distinct_User_Count</th>\n",
       "    </tr>\n",
       "  </thead>\n",
       "  <tbody>\n",
       "    <tr>\n",
       "      <th>39</th>\n",
       "      <td>40</td>\n",
       "      <td>79</td>\n",
       "    </tr>\n",
       "    <tr>\n",
       "      <th>28</th>\n",
       "      <td>29</td>\n",
       "      <td>78</td>\n",
       "    </tr>\n",
       "    <tr>\n",
       "      <th>10</th>\n",
       "      <td>11</td>\n",
       "      <td>77</td>\n",
       "    </tr>\n",
       "    <tr>\n",
       "      <th>89</th>\n",
       "      <td>90</td>\n",
       "      <td>76</td>\n",
       "    </tr>\n",
       "    <tr>\n",
       "      <th>82</th>\n",
       "      <td>83</td>\n",
       "      <td>76</td>\n",
       "    </tr>\n",
       "    <tr>\n",
       "      <th>58</th>\n",
       "      <td>59</td>\n",
       "      <td>76</td>\n",
       "    </tr>\n",
       "    <tr>\n",
       "      <th>53</th>\n",
       "      <td>54</td>\n",
       "      <td>75</td>\n",
       "    </tr>\n",
       "    <tr>\n",
       "      <th>43</th>\n",
       "      <td>44</td>\n",
       "      <td>74</td>\n",
       "    </tr>\n",
       "    <tr>\n",
       "      <th>23</th>\n",
       "      <td>24</td>\n",
       "      <td>73</td>\n",
       "    </tr>\n",
       "    <tr>\n",
       "      <th>77</th>\n",
       "      <td>78</td>\n",
       "      <td>71</td>\n",
       "    </tr>\n",
       "  </tbody>\n",
       "</table>\n",
       "</div>"
      ],
      "text/plain": [
       "    Video_ID  Distinct_User_Count\n",
       "39        40                   79\n",
       "28        29                   78\n",
       "10        11                   77\n",
       "89        90                   76\n",
       "82        83                   76\n",
       "58        59                   76\n",
       "53        54                   75\n",
       "43        44                   74\n",
       "23        24                   73\n",
       "77        78                   71"
      ]
     },
     "execution_count": 51,
     "metadata": {},
     "output_type": "execute_result"
    }
   ],
   "source": [
    "video_user_counts_sorted.head(n=10)"
   ]
  },
  {
   "cell_type": "code",
   "execution_count": 53,
   "metadata": {},
   "outputs": [
    {
     "data": {
      "text/html": [
       "<div>\n",
       "<style scoped>\n",
       "    .dataframe tbody tr th:only-of-type {\n",
       "        vertical-align: middle;\n",
       "    }\n",
       "\n",
       "    .dataframe tbody tr th {\n",
       "        vertical-align: top;\n",
       "    }\n",
       "\n",
       "    .dataframe thead th {\n",
       "        text-align: right;\n",
       "    }\n",
       "</style>\n",
       "<table border=\"1\" class=\"dataframe\">\n",
       "  <thead>\n",
       "    <tr style=\"text-align: right;\">\n",
       "      <th></th>\n",
       "      <th>Video_ID</th>\n",
       "      <th>Distinct_User_Count</th>\n",
       "    </tr>\n",
       "  </thead>\n",
       "  <tbody>\n",
       "    <tr>\n",
       "      <th>47</th>\n",
       "      <td>48</td>\n",
       "      <td>52</td>\n",
       "    </tr>\n",
       "    <tr>\n",
       "      <th>49</th>\n",
       "      <td>50</td>\n",
       "      <td>52</td>\n",
       "    </tr>\n",
       "    <tr>\n",
       "      <th>0</th>\n",
       "      <td>1</td>\n",
       "      <td>52</td>\n",
       "    </tr>\n",
       "    <tr>\n",
       "      <th>9</th>\n",
       "      <td>10</td>\n",
       "      <td>51</td>\n",
       "    </tr>\n",
       "    <tr>\n",
       "      <th>7</th>\n",
       "      <td>8</td>\n",
       "      <td>51</td>\n",
       "    </tr>\n",
       "    <tr>\n",
       "      <th>90</th>\n",
       "      <td>91</td>\n",
       "      <td>50</td>\n",
       "    </tr>\n",
       "    <tr>\n",
       "      <th>61</th>\n",
       "      <td>62</td>\n",
       "      <td>50</td>\n",
       "    </tr>\n",
       "    <tr>\n",
       "      <th>52</th>\n",
       "      <td>53</td>\n",
       "      <td>49</td>\n",
       "    </tr>\n",
       "    <tr>\n",
       "      <th>98</th>\n",
       "      <td>99</td>\n",
       "      <td>47</td>\n",
       "    </tr>\n",
       "    <tr>\n",
       "      <th>38</th>\n",
       "      <td>39</td>\n",
       "      <td>46</td>\n",
       "    </tr>\n",
       "  </tbody>\n",
       "</table>\n",
       "</div>"
      ],
      "text/plain": [
       "    Video_ID  Distinct_User_Count\n",
       "47        48                   52\n",
       "49        50                   52\n",
       "0          1                   52\n",
       "9         10                   51\n",
       "7          8                   51\n",
       "90        91                   50\n",
       "61        62                   50\n",
       "52        53                   49\n",
       "98        99                   47\n",
       "38        39                   46"
      ]
     },
     "execution_count": 53,
     "metadata": {},
     "output_type": "execute_result"
    }
   ],
   "source": [
    "video_user_counts_sorted.tail(n=10)"
   ]
  },
  {
   "cell_type": "markdown",
   "metadata": {},
   "source": [
    "- The top 10 most-watched videos each have more than 70 distinct users. Video_ID 40 is the most watched, with 79 distinct users.\n",
    "\n",
    "- The bottom 10 least-watched videos have around 50 distinct users each. Video_ID 39 is the least watched, with only 46 distinct users."
   ]
  },
  {
   "cell_type": "markdown",
   "metadata": {},
   "source": [
    "##### Duration_Watched (minutes)"
   ]
  },
  {
   "cell_type": "code",
   "execution_count": 54,
   "metadata": {},
   "outputs": [
    {
     "data": {
      "text/plain": [
       "6214"
      ]
     },
     "execution_count": 54,
     "metadata": {},
     "output_type": "execute_result"
    }
   ],
   "source": [
    "streaming['Duration_Watched (minutes)'].nunique()"
   ]
  },
  {
   "cell_type": "markdown",
   "metadata": {},
   "source": [
    "To analyze the distribution of the Duration_Watched (minutes) column from the most engaging (longest watched) to the least engaging (shortest watched), let's sort the data (in descending order)."
   ]
  },
  {
   "cell_type": "code",
   "execution_count": 62,
   "metadata": {},
   "outputs": [
    {
     "name": "stdout",
     "output_type": "stream",
     "text": [
      "2526    0.055809\n",
      "5222    0.061911\n",
      "3915    0.072536\n",
      "1335    0.080602\n",
      "4755    0.092152\n",
      "3709    0.096735\n",
      "5872    0.110173\n",
      "5622    0.130475\n",
      "2549    0.135560\n",
      "3814    0.139156\n",
      "Name: Duration_Watched (minutes), dtype: float64\n",
      "5552    119.900747\n",
      "2280    119.916255\n",
      "5224    119.920952\n",
      "3837    119.925319\n",
      "6189    119.926372\n",
      "2175    119.945439\n",
      "2071    119.958384\n",
      "955     119.974953\n",
      "6079    119.990886\n",
      "1587    119.999972\n",
      "Name: Duration_Watched (minutes), dtype: float64\n"
     ]
    }
   ],
   "source": [
    "# Sort the Duration_Watched (minutes) column\n",
    "sorted_durations = streaming['Duration_Watched (minutes)'].sort_values()\n",
    "\n",
    "# Display the sorted durations\n",
    "print(sorted_durations.head(10))  # Show the first 10 sorted durations\n",
    "print(sorted_durations.tail(10))  # Show the last 10 sorted durations"
   ]
  },
  {
   "cell_type": "code",
   "execution_count": 65,
   "metadata": {},
   "outputs": [
    {
     "data": {
      "image/png": "[encoded data removed]",
      "text/plain": [
       "<Figure size 1200x600 with 1 Axes>"
      ]
     },
     "metadata": {},
     "output_type": "display_data"
    }
   ],
   "source": [
    "# Set up the figure size and style\n",
    "plt.figure(figsize=(12, 6))\n",
    "sns.set(style='whitegrid')\n",
    "\n",
    "# Plot the histogram\n",
    "sns.histplot(streaming['Duration_Watched (minutes)'], bins=50, kde=True)\n",
    "\n",
    "# Add labels and title\n",
    "plt.xlabel('Duration Watched (minutes)')\n",
    "plt.ylabel('Frequency')\n",
    "plt.title('Distribution of Video Watching Durations')\n",
    "plt.show()"
   ]
  },
  {
   "cell_type": "markdown",
   "metadata": {},
   "source": [
    "- Short Durations: The shortest durations are just a few seconds, indicating some users barely engage with certain videos.\n",
    "\n",
    "- Long Durations: The longest durations are close to 120 minutes, suggesting that some users watch videos for extended periods, likely indicating full-length content consumption (movies or documentals).\n",
    "\n",
    "- Distribution Pattern: The histogram shows a skew towards shorter durations, with a peak at shorter viewing times and a gradual decline towards longer durations. This pattern is typical, as users often watch shorter videos or only a portion of longer content."
   ]
  },
  {
   "cell_type": "markdown",
   "metadata": {},
   "source": [
    "##### Country"
   ]
  },
  {
   "cell_type": "code",
   "execution_count": 66,
   "metadata": {},
   "outputs": [
    {
     "data": {
      "text/plain": [
       "243"
      ]
     },
     "execution_count": 66,
     "metadata": {},
     "output_type": "execute_result"
    }
   ],
   "source": [
    "streaming['Country'].nunique()"
   ]
  },
  {
   "cell_type": "code",
   "execution_count": 86,
   "metadata": {},
   "outputs": [
    {
     "data": {
      "text/plain": [
       "array(['Sudan', 'Cuba', 'Japan', \"Lao People's Democratic Republic\",\n",
       "       'Bangladesh', 'Tokelau', 'Guyana', 'Guinea', 'Palau', 'Ecuador',\n",
       "       'Iceland', 'Colombia', 'Dominican Republic', 'Georgia', 'Malaysia',\n",
       "       'Togo', 'Iran', 'Estonia', 'Korea', 'Lebanon',\n",
       "       'Trinidad and Tobago', 'Saint Vincent and the Grenadines',\n",
       "       'Belarus', 'Northern Mariana Islands', 'Jersey', 'Niue', 'Lesotho',\n",
       "       'Anguilla', 'Romania', 'Uganda', 'Comoros', 'Austria', 'Paraguay',\n",
       "       'Angola', 'Philippines', 'Cambodia', 'Benin', 'Yemen',\n",
       "       'Luxembourg', 'Malawi', 'Heard Island and McDonald Islands',\n",
       "       'Wallis and Futuna', 'Macao', 'Honduras', 'Liechtenstein',\n",
       "       'Uruguay', 'Cameroon', 'Cape Verde', 'San Marino', 'Guadeloupe',\n",
       "       'Dominica', 'Egypt', 'Jamaica', 'Portugal', 'French Polynesia',\n",
       "       'Gambia', 'Niger', 'Fiji', 'United States Virgin Islands', 'Aruba',\n",
       "       'French Southern Territories', 'China', 'Sweden', \"Cote d'Ivoire\",\n",
       "       'Saudi Arabia', 'Croatia', 'Barbados', 'Turkmenistan',\n",
       "       'Falkland Islands (Malvinas)', 'Sierra Leone', 'Venezuela',\n",
       "       'South Africa', 'Denmark', 'Tanzania', 'Bolivia',\n",
       "       'South Georgia and the South Sandwich Islands', 'Senegal',\n",
       "       'Bermuda', 'Chile', 'Bhutan', 'Mexico', 'Switzerland',\n",
       "       'Kazakhstan', 'Isle of Man', 'Guam', 'Brunei Darussalam', 'Zambia',\n",
       "       'Mozambique', 'Slovenia', 'Serbia', 'Palestinian Territory',\n",
       "       'United Arab Emirates', 'North Macedonia', 'Suriname', 'Latvia',\n",
       "       'Mayotte', 'Nauru', 'Maldives', 'Christmas Island', 'Bulgaria',\n",
       "       'Belize', 'Kuwait', 'Armenia', 'Burundi', 'Eritrea',\n",
       "       'Bosnia and Herzegovina', 'Nepal', 'Malta', 'Lithuania', 'India',\n",
       "       'Costa Rica', 'Faroe Islands', 'Zimbabwe', 'Hong Kong',\n",
       "       'Mauritius', 'New Caledonia', 'Greece', 'Mongolia', 'Italy',\n",
       "       'Norway', 'British Virgin Islands', 'Reunion', 'Brazil',\n",
       "       'Saint Lucia', 'Ukraine', 'Panama', 'Sao Tome and Principe',\n",
       "       'Turkey', 'Cocos (Keeling) Islands', 'Kenya', 'Morocco',\n",
       "       'Mauritania', 'Somalia', 'Turks and Caicos Islands', 'Tunisia',\n",
       "       'Saint Kitts and Nevis', 'Bahamas', 'Czech Republic', 'Kiribati',\n",
       "       'Saint Helena', 'Papua New Guinea', 'Slovakia (Slovak Republic)',\n",
       "       'Saint Barthelemy', 'Congo', 'Seychelles', 'Samoa', 'Guernsey',\n",
       "       'Pakistan', 'Cook Islands', 'Myanmar', 'Syrian Arab Republic',\n",
       "       'Madagascar', 'Netherlands Antilles', 'Hungary', 'Ethiopia',\n",
       "       'Cyprus', 'Saint Martin', 'Libyan Arab Jamahiriya', 'Qatar',\n",
       "       'Martinique', 'Puerto Rico',\n",
       "       'British Indian Ocean Territory (Chagos Archipelago)',\n",
       "       'Svalbard & Jan Mayen Islands', 'Afghanistan', 'Jordan',\n",
       "       'Bouvet Island (Bouvetoya)', 'Saint Pierre and Miquelon',\n",
       "       'New Zealand', 'Guatemala', 'Uzbekistan', 'Singapore',\n",
       "       'Micronesia', 'Israel', 'Vietnam', 'Canada', 'Sri Lanka',\n",
       "       'Western Sahara', 'Tonga', 'Haiti', 'American Samoa', 'Nicaragua',\n",
       "       'United States of America', 'United States Minor Outlying Islands',\n",
       "       'Montserrat', 'Albania', 'Monaco', 'Chad',\n",
       "       'Holy See (Vatican City State)', 'Equatorial Guinea', 'Azerbaijan',\n",
       "       'Antarctica (the territory South of 60 deg S)', 'Argentina',\n",
       "       'France', 'Finland', 'Oman', 'Central African Republic', 'Tuvalu',\n",
       "       'Gabon', 'Montenegro', 'Marshall Islands', 'Antigua and Barbuda',\n",
       "       'Namibia', 'Australia', 'Pitcairn Islands', 'Botswana', 'Mali',\n",
       "       'Ireland', 'Burkina Faso', 'Gibraltar', 'Timor-Leste',\n",
       "       'Kyrgyz Republic', 'Tajikistan', 'Spain', 'El Salvador', 'Bahrain',\n",
       "       'Russian Federation', 'Germany', 'Solomon Islands',\n",
       "       'Cayman Islands', 'Ghana', 'Nigeria', 'United Kingdom', 'Poland',\n",
       "       'Rwanda', 'Swaziland', 'Greenland', 'Netherlands', 'Moldova',\n",
       "       'Peru', 'Vanuatu', 'Guinea-Bissau', 'Andorra', 'Iraq', 'Liberia',\n",
       "       'Grenada', 'Algeria', 'Belgium', 'Indonesia', 'French Guiana',\n",
       "       'Norfolk Island', 'Djibouti', 'Thailand', 'Taiwan'], dtype=object)"
      ]
     },
     "execution_count": 86,
     "metadata": {},
     "output_type": "execute_result"
    }
   ],
   "source": [
    "streaming['Country'].unique()"
   ]
  },
  {
   "cell_type": "markdown",
   "metadata": {},
   "source": [
    "Global Reach: The data suggests a wide geographical reach, covering most countries worldwide. This diversity could indicate that the platform is globally accessible or popular across many regions."
   ]
  },
  {
   "cell_type": "code",
   "execution_count": 87,
   "metadata": {},
   "outputs": [
    {
     "name": "stdout",
     "output_type": "stream",
     "text": [
      "Countries sorted by number of users:\n",
      "                          Country  User_Count\n",
      "49                          Congo          49\n",
      "238             Wallis and Futuna          42\n",
      "114                         Korea          42\n",
      "199               Solomon Islands          41\n",
      "226                        Uganda          39\n",
      "153                 New Caledonia          38\n",
      "218                       Tokelau          36\n",
      "142                      Mongolia          36\n",
      "207  Svalbard & Jan Mayen Islands          35\n",
      "42                           Chad          35\n"
     ]
    }
   ],
   "source": [
    "# Group by Country and count unique User_IDs\n",
    "users_per_country = streaming.groupby('Country')['User_ID'].nunique().reset_index()\n",
    "\n",
    "# Rename columns for clarity\n",
    "users_per_country.columns = ['Country', 'User_Count']\n",
    "\n",
    "# Sort the data by User_Count in descending order\n",
    "sorted_users_per_country = users_per_country.sort_values(by='User_Count', ascending=False)\n",
    "\n",
    "# Display the top countries by user count\n",
    "print(\"Countries sorted by number of users:\")\n",
    "print(sorted_users_per_country.head(10))  # Display the top 10 countries"
   ]
  },
  {
   "cell_type": "code",
   "execution_count": 71,
   "metadata": {},
   "outputs": [
    {
     "data": {
      "image/png": "[encoded data removed]",
      "text/plain": [
       "<Figure size 1200x600 with 1 Axes>"
      ]
     },
     "metadata": {},
     "output_type": "display_data"
    }
   ],
   "source": [
    "# Visualize the top 10 countries\n",
    "plt.figure(figsize=(12, 6))\n",
    "sns.barplot(x='User_Count', y='Country', data=top_10_countries, palette='viridis')\n",
    "plt.title('Top 10 Most Popular Countries for Streaming')\n",
    "plt.xlabel('Number of Users')\n",
    "plt.ylabel('Country')\n",
    "plt.show()"
   ]
  },
  {
   "cell_type": "code",
   "execution_count": null,
   "metadata": {},
   "outputs": [],
   "source": [
    "streaming['Genre'].unique()"
   ]
  },
  {
   "cell_type": "code",
   "execution_count": null,
   "metadata": {},
   "outputs": [],
   "source": [
    "streaming['Age'].nunique()"
   ]
  },
  {
   "cell_type": "code",
   "execution_count": null,
   "metadata": {},
   "outputs": [],
   "source": [
    "streaming['Gender'].nunique()"
   ]
  },
  {
   "cell_type": "code",
   "execution_count": null,
   "metadata": {},
   "outputs": [],
   "source": [
    "streaming['Gender'].unique()"
   ]
  },
  {
   "cell_type": "code",
   "execution_count": null,
   "metadata": {},
   "outputs": [],
   "source": [
    "streaming['Subscription_Status'].nunique()"
   ]
  },
  {
   "cell_type": "code",
   "execution_count": null,
   "metadata": {},
   "outputs": [],
   "source": [
    "streaming['Subscription_Status'].unique()"
   ]
  },
  {
   "cell_type": "code",
   "execution_count": null,
   "metadata": {},
   "outputs": [],
   "source": [
    "streaming['Ratings'].nunique()"
   ]
  },
  {
   "cell_type": "code",
   "execution_count": null,
   "metadata": {},
   "outputs": [],
   "source": [
    "streaming['Ratings'].unique()"
   ]
  },
  {
   "cell_type": "code",
   "execution_count": null,
   "metadata": {},
   "outputs": [],
   "source": [
    "streaming['Languages'].nunique()"
   ]
  },
  {
   "cell_type": "code",
   "execution_count": null,
   "metadata": {},
   "outputs": [],
   "source": [
    "streaming['Languages'].unique()"
   ]
  },
  {
   "cell_type": "code",
   "execution_count": null,
   "metadata": {},
   "outputs": [],
   "source": [
    "streaming['Device_Type'].nunique()"
   ]
  },
  {
   "cell_type": "code",
   "execution_count": null,
   "metadata": {},
   "outputs": [],
   "source": [
    "streaming['Device_Type'].unique()"
   ]
  },
  {
   "cell_type": "code",
   "execution_count": null,
   "metadata": {},
   "outputs": [],
   "source": [
    "streaming['Location'].nunique()"
   ]
  },
  {
   "cell_type": "code",
   "execution_count": null,
   "metadata": {},
   "outputs": [],
   "source": [
    "streaming['Playback_Quality'].nunique()"
   ]
  },
  {
   "cell_type": "code",
   "execution_count": null,
   "metadata": {},
   "outputs": [],
   "source": [
    "streaming['Playback_Quality'].unique()"
   ]
  },
  {
   "cell_type": "code",
   "execution_count": null,
   "metadata": {},
   "outputs": [],
   "source": [
    "streaming['Interaction_Events'].nunique()"
   ]
  },
  {
   "cell_type": "markdown",
   "metadata": {},
   "source": [
    "#### Insights from Initial Explorations"
   ]
  },
  {
   "cell_type": "markdown",
   "metadata": {},
   "source": [
    "- Nonexistent multiple session IDs: There are no users with multiple sessions, as the User_ID and Session_ID are in a one-to-one relationship.\n",
    "\n",
    "- Device sharing patterns by mainly small groups: While some devices are highly shared (up to 16 users), the most common pattern is small group sharing, with most devices being shared by 6 users. Additionally, a minority of devices are used exclusively by a single user, highlighting a mix of communal and personal usage.\n",
    "\n",
    "- There are exactly 100 distinct videos available in the streaming app, possibly representing the most-watched content on the platform.\n",
    "\n",
    "- The top 10 most-watched videos each have more than 70 distinct users, with Video_ID 40 being the most popular at 79 users. In contrast, the bottom 10 least-watched videos have around 50 distinct users each, with Video_ID 39 being the least popular at 46 users.\n",
    "\n",
    "- The data reveals a wide range of video-watching durations, from just a few seconds to nearly two hours. The distribution is skewed towards shorter viewing times, indicating that most users engage with shorter videos or only part of longer content. However, some users still watch videos for extended periods, likely consuming full-length content such as movies or documentaries."
   ]
  },
  {
   "cell_type": "markdown",
   "metadata": {},
   "source": [
    "### Exploring numerical and categorical variables"
   ]
  },
  {
   "cell_type": "code",
   "execution_count": null,
   "metadata": {},
   "outputs": [],
   "source": [
    "# Extracting column names with numerical data types from the dataframe\n",
    "streaming.select_dtypes(\"number\").columns"
   ]
  },
  {
   "cell_type": "code",
   "execution_count": null,
   "metadata": {},
   "outputs": [],
   "source": [
    "# Counting and sorting the unique values for each numerical column in descending order\n",
    "streaming.select_dtypes(\"number\").nunique().sort_values(ascending=False)"
   ]
  },
  {
   "cell_type": "code",
   "execution_count": null,
   "metadata": {},
   "outputs": [],
   "source": [
    "# Separating between discrete and continuous variables, as discrete ones could potentially be treated as categorical.\n",
    "# Remember to adjust the threshold (in this case, < 20) based on your dataset's specific characteristics and domain knowledge.\n",
    "potential_categorical_from_numerical = streaming.select_dtypes(\"number\").loc[:, streaming.select_dtypes(\"number\").nunique() < 20]\n",
    "potential_categorical_from_numerical.value_counts()"
   ]
  },
  {
   "cell_type": "code",
   "execution_count": null,
   "metadata": {},
   "outputs": [],
   "source": [
    "# Retrieving column names with object (typically string) data types from the dataframe\n",
    "streaming.select_dtypes(\"object\").columns"
   ]
  },
  {
   "cell_type": "code",
   "execution_count": null,
   "metadata": {},
   "outputs": [],
   "source": [
    "# Counting and sorting the unique values for each object (string) column in descending order\n",
    "streaming.select_dtypes(\"object\").nunique().sort_values(ascending=False)"
   ]
  },
  {
   "cell_type": "markdown",
   "metadata": {},
   "source": [
    "#### Defining Numerical and Categorical Variables"
   ]
  },
  {
   "cell_type": "code",
   "execution_count": null,
   "metadata": {},
   "outputs": [],
   "source": [
    "# Extracting columns with object (typically string) data types to create a categorical dataframe\n",
    "# Also, I'm including the columns in potential_categorical_from_numerical as categorical variables.\n",
    "streaming_categorical = pd.concat([streaming.select_dtypes(\"object\"), potential_categorical_from_numerical], axis=1)\n",
    "\n",
    "# Adjusting the numerical dataframe by removing the moved columns\n",
    "streaming_numerical = streaming.select_dtypes(\"number\").drop(columns=potential_categorical_from_numerical.columns)"
   ]
  },
  {
   "cell_type": "code",
   "execution_count": null,
   "metadata": {},
   "outputs": [],
   "source": [
    "# Verifying that the total number of columns in the dataframe is the sum of object (string) and numerical columns\n",
    "len(streaming.columns) == len(streaming.select_dtypes(\"object\").columns) + len(streaming.select_dtypes(\"number\").columns)"
   ]
  },
  {
   "cell_type": "markdown",
   "metadata": {},
   "source": [
    "#### Numerical Summary"
   ]
  },
  {
   "cell_type": "markdown",
   "metadata": {},
   "source": [
    "### To explore"
   ]
  },
  {
   "cell_type": "markdown",
   "metadata": {},
   "source": [
    "- Video_ID:\n",
    "    - Analyze Viewing Patterns: Investigate the distribution of viewing durations to identify common viewing patterns and understand typical user engagement.\n",
    "    - Identify High Engagement Content: Look into the videos associated with the maximum durations to learn what makes them engaging.\n",
    "    - Consider Short Engagement: Understand why some users have very short engagement to improve content or user experience.\n",
    "\n",
    "- Duration_Watched (minutes):\n",
    "    - Explore specific videos with the shortest and longest durations to understand user behavior. (genre)\n",
    "    - Optimization Opportunities: Analyzing why users disengage quickly could lead to improvements in content delivery, recommendations, or user interface design to increase watch time.\n",
    "\n",
    "- Country:\n",
    "    - Localization Opportunities: Consider language support, cultural preferences, and region-specific content to enhance user experiences in diverse locations."
   ]
  },
  {
   "cell_type": "markdown",
   "metadata": {},
   "source": [
    "## 4. Data Refinement"
   ]
  },
  {
   "cell_type": "markdown",
   "metadata": {},
   "source": [
    "### Data Cleansing"
   ]
  },
  {
   "cell_type": "markdown",
   "metadata": {},
   "source": [
    "Identifing and removing null values, errors, inaccuracies or redundance from the data."
   ]
  },
  {
   "cell_type": "code",
   "execution_count": null,
   "metadata": {},
   "outputs": [],
   "source": [
    "# Checking for missing data\n",
    "streaming.isnull().sum().sort_values(ascending=False)"
   ]
  },
  {
   "cell_type": "code",
   "execution_count": null,
   "metadata": {},
   "outputs": [],
   "source": [
    "# Identifying columns in the dataframe where over 70% of the values are missing\n",
    "streaming.columns[streaming.isnull().mean() > 0.7]"
   ]
  },
  {
   "cell_type": "code",
   "execution_count": null,
   "metadata": {},
   "outputs": [],
   "source": [
    "# Filtering out columns in the dataframe where more than 70% of the values are missing\n",
    "streaming = streaming[streaming.columns[streaming.isnull().mean() < 0.7]]"
   ]
  },
  {
   "cell_type": "code",
   "execution_count": null,
   "metadata": {},
   "outputs": [],
   "source": [
    "streaming_categorical.head()"
   ]
  },
  {
   "cell_type": "code",
   "execution_count": null,
   "metadata": {},
   "outputs": [],
   "source": [
    "streaming['ID'] = streaming.index\n",
    "streaming.head()"
   ]
  },
  {
   "cell_type": "code",
   "execution_count": null,
   "metadata": {},
   "outputs": [],
   "source": [
    "# Removing the \"Id\" column from the dataframe\n",
    "df.drop(\"Id\", inplace=True, axis=1)"
   ]
  },
  {
   "cell_type": "markdown",
   "metadata": {},
   "source": [
    "### Data Transformation"
   ]
  },
  {
   "cell_type": "markdown",
   "metadata": {},
   "source": [
    "Let's adapt data into a format suitable for further analysis."
   ]
  },
  {
   "cell_type": "markdown",
   "metadata": {},
   "source": [
    "### Data Normalization"
   ]
  },
  {
   "cell_type": "markdown",
   "metadata": {},
   "source": [
    "Adjusting values to a common scale for comparison and analysis."
   ]
  },
  {
   "cell_type": "markdown",
   "metadata": {},
   "source": [
    "### Hypotesis Definition"
   ]
  },
  {
   "cell_type": "markdown",
   "metadata": {},
   "source": [
    "1. The most common recommenders are user of streaming are viewers from Gen Z and Millennials.\n",
    "--\n",
    "2. The duration spent in the action genre by Males is higher than in Females\n",
    "3. The duration spent in the Drama genre by Females is higher than in Males\n",
    "4. Premium users tend to rate content lower than Free users\n",
    "5. Premium users spend more time watching content than Free users\n",
    "6. Content streamed in Smartphones and Tables are of lower quality than other devices\n",
    "7. Playback quality of 4k is mostly watched on Smart TVs\n",
    "8. Users below 35 tend to have in average more interaction events than older users\n",
    "9. The quantity of premium users grows as users are older (there are more premium users at 40 years old, than those at 20s)\n",
    "10. Barcelona stream more content in english than Madrid\n",
    "11. Comedy content is usually more streamed over mobile devices (Smartphones and Tablets) without a strong preference on video playback quality and having premium users rating it higher than free users"
   ]
  },
  {
   "cell_type": "markdown",
   "metadata": {},
   "source": [
    "## 5. Feature Engineering"
   ]
  },
  {
   "cell_type": "markdown",
   "metadata": {},
   "source": [
    "### Feature selection"
   ]
  },
  {
   "cell_type": "markdown",
   "metadata": {},
   "source": [
    "Cutting down the features that add more noise than information. \n",
    "\n",
    "- Use filter methods (apply statistical measure to assign scoring to each feature)\n",
    "- Wrapper methods (frame the selection of features as a search problem and use a heuristic to perform the search)\n",
    "- Embedded methods (use machine learning to figure out which features contribute best to the accuracy)"
   ]
  },
  {
   "cell_type": "code",
   "execution_count": null,
   "metadata": {},
   "outputs": [],
   "source": []
  },
  {
   "cell_type": "markdown",
   "metadata": {},
   "source": [
    "### Feature construction"
   ]
  },
  {
   "cell_type": "markdown",
   "metadata": {},
   "source": [
    "Creating new features from the current one to enhance the analysis."
   ]
  },
  {
   "cell_type": "markdown",
   "metadata": {},
   "source": [
    "## 6. Predictive Modeling"
   ]
  },
  {
   "cell_type": "markdown",
   "metadata": {},
   "source": [
    "### Model Development"
   ]
  },
  {
   "cell_type": "markdown",
   "metadata": {},
   "source": [
    "#### Initial Tuning"
   ]
  },
  {
   "cell_type": "markdown",
   "metadata": {},
   "source": [
    "**Grid Search**"
   ]
  },
  {
   "cell_type": "markdown",
   "metadata": {},
   "source": [
    "**Cross-Validation**"
   ]
  },
  {
   "cell_type": "markdown",
   "metadata": {},
   "source": [
    "### Advanced Modeling"
   ]
  },
  {
   "cell_type": "markdown",
   "metadata": {},
   "source": [
    "#### Ensemble Models"
   ]
  },
  {
   "cell_type": "markdown",
   "metadata": {},
   "source": [
    "### Evaluation for Best Model"
   ]
  },
  {
   "cell_type": "markdown",
   "metadata": {},
   "source": [
    "## 7. Data Visualization"
   ]
  },
  {
   "cell_type": "markdown",
   "metadata": {},
   "source": [
    "## Conclusions"
   ]
  },
  {
   "cell_type": "markdown",
   "metadata": {},
   "source": [
    "This data provides insights into user behavior, content consumption, and the overall performance of the streaming service."
   ]
  },
  {
   "cell_type": "markdown",
   "metadata": {},
   "source": [
    "### Key Insights"
   ]
  },
  {
   "cell_type": "markdown",
   "metadata": {},
   "source": [
    "### Final Thoughts"
   ]
  }
 ],
 "metadata": {
  "kernelspec": {
   "display_name": "Intro.Anaconda",
   "language": "python",
   "name": "python3"
  },
  "language_info": {
   "codemirror_mode": {
    "name": "ipython",
    "version": 3
   },
   "file_extension": ".py",
   "mimetype": "text/x-python",
   "name": "python",
   "nbconvert_exporter": "python",
   "pygments_lexer": "ipython3",
   "version": "3.12.3"
  }
 },
 "nbformat": 4,
 "nbformat_minor": 2
}
